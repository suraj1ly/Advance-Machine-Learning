{
 "cells": [
  {
   "cell_type": "code",
   "execution_count": 1,
   "metadata": {},
   "outputs": [],
   "source": [
    "import numpy as np\n",
    "import copy"
   ]
  },
  {
   "cell_type": "code",
   "execution_count": 2,
   "metadata": {},
   "outputs": [],
   "source": [
    "#Reference: https://www.analyticsvidhya.com/blog/2017/05/neural-network-from-scratch-in-python-and-r/"
   ]
  },
  {
   "cell_type": "code",
   "execution_count": 3,
   "metadata": {},
   "outputs": [],
   "source": [
    "#Sigmoid Function\n",
    "def sigmoid (x):\n",
    "    return 1/(1 + np.exp(-x))\n",
    "\n",
    "#Derivative of Sigmoid Function\n",
    "def sigmoid_der(x):\n",
    "    return x * (1 - x)"
   ]
  },
  {
   "cell_type": "code",
   "execution_count": null,
   "metadata": {},
   "outputs": [],
   "source": []
  },
  {
   "cell_type": "code",
   "execution_count": 4,
   "metadata": {},
   "outputs": [],
   "source": [
    "def check_convergence(store):\n",
    "    sum = 0\n",
    "    for i in range(len(store)):\n",
    "        sum = sum + abs(store[i][0])\n",
    "    if sum < epsilon:\n",
    "        return True\n",
    "    return False"
   ]
  },
  {
   "cell_type": "code",
   "execution_count": 5,
   "metadata": {},
   "outputs": [],
   "source": [
    "def  backpropagation(corrected_output,output,hiddenlayer_activations,wout,wh,bout,bh):\n",
    "    \n",
    "    E = corrected_output - output\n",
    "    grad_output = sigmoid_der(output)\n",
    "    grad_hidden = sigmoid_der(hiddenlayer_activations)\n",
    "#     print(\"Derivative at Output\",grad_output)\n",
    "#     print(\"Derivative at Hidden : \",grad_hidden)\n",
    "    d_output = E * grad_output\n",
    "    error_hidden = d_output.dot(wout.T)\n",
    "    d_hiddenlayer = error_hidden * grad_hidden\n",
    "    wout += hiddenlayer_activations.T.dot(d_output) *lr\n",
    "    bout += np.sum(d_output, axis=0,keepdims=True) *lr\n",
    "    wh += X.T.dot(d_hiddenlayer) *lr\n",
    "    bh += np.sum(d_hiddenlayer, axis=0,keepdims=True) *lr\n",
    "#     print(\"Update in wout :\", hiddenlayer_activations.T.dot(d_output) )\n",
    "#     print(\"Update in bout :\", np.sum(d_output, axis=0,keepdims=True))\n",
    "#     print(\"Update in wh :\", X.T.dot(d_hiddenlayer))\n",
    "#     print(\"Update in bh :\", np.sum(d_hiddenlayer, axis=0,keepdims=True))\n",
    "    return corrected_output,output,hiddenlayer_activations,wout,wh,bout,bh,E"
   ]
  },
  {
   "cell_type": "code",
   "execution_count": 6,
   "metadata": {},
   "outputs": [],
   "source": [
    "def train_model(epoch,X,corrected_output,lr,wh,wout,bh,bout):\n",
    "    store = [] \n",
    "    counter = 0\n",
    " \n",
    "    for i in range(epoch):\n",
    "\n",
    "        if counter %500==0:\n",
    "            print(\"Counter : \",counter)\n",
    "        counter = counter +1\n",
    "\n",
    "        #Forward Propogation\n",
    "       \n",
    "        hidden_inp1=np.dot(X,wh)\n",
    "    \n",
    "        hidden_inp=hidden_inp1 + bh\n",
    "        \n",
    "        hidden_activation = sigmoid(hidden_inp)\n",
    "        \n",
    "        output_inp1=np.dot(hidden_activation,wout)\n",
    "        output_inp= output_inp1+ bout\n",
    "#         print(output_inp)\n",
    "        if i>0:\n",
    "            store = copy.deepcopy(output)\n",
    "        output = sigmoid(output_inp)\n",
    "#         print(output)\n",
    "        if i > 0 and check_convergence(E):\n",
    "\n",
    "            break\n",
    "\n",
    "        #Backpropagation\n",
    "        corrected_output,output,hidden_activation,wout,wh,bout,bh,E = backpropagation(corrected_output,output,hidden_activation,wout,wh,bout,bh)\n",
    "        \n",
    "    return wout,wh,bout,bh,E,output\n",
    "\n"
   ]
  },
  {
   "cell_type": "code",
   "execution_count": 7,
   "metadata": {},
   "outputs": [
    {
     "name": "stdout",
     "output_type": "stream",
     "text": [
      "Counter :  0\n",
      "Counter :  500\n",
      "Counter :  1000\n",
      "Counter :  1500\n",
      "Counter :  2000\n",
      "Counter :  2500\n",
      "Counter :  3000\n",
      "Counter :  3500\n",
      "Counter :  4000\n",
      "Counter :  4500\n",
      "Counter :  5000\n",
      "Counter :  5500\n",
      "Counter :  6000\n"
     ]
    }
   ],
   "source": [
    "#Input\n",
    "X =np.array([[252,4,155,175],[175,10,186,200],[82,131,230,100],[115,138,80,88]])\n",
    "#Output\n",
    "corrected_output=np.array([[1,0],[1,0],[0,1],[0,1]])\n",
    "epsilon = 0.14 #epsilon value for the convergence of model\n",
    "input_neurons = X.shape[1] #number of features in data set\n",
    "hidden_neurons = 3 #number of hidden layers neurons\n",
    "output_neurons = 2 #number of neurons at output layer\n",
    "#Variable initialization\n",
    "epoch = 8000 #Setting training iterations\n",
    "lr=0.1 #Setting learning rate\n",
    "#weight and bias initialization\n",
    "wh = np.array([[-0.00256,0.00889],[0.00146,0.00322],[0.00816,0.00258],[-0.00597,-0.00876]])\n",
    "wout = np.array([[-0.00647,0.00540],[0.00374,-0.00005]])\n",
    "bh = np.array(([[-0.00469,0.00797]]))\n",
    "bout = np.array([[-0.00588,-0.00232]])\n",
    "\n",
    "\n",
    "wout,wh,bout,bh,E,output = train_model(epoch,X,corrected_output,lr,wh,wout,bh,bout)\n"
   ]
  },
  {
   "cell_type": "code",
   "execution_count": 8,
   "metadata": {},
   "outputs": [
    {
     "name": "stdout",
     "output_type": "stream",
     "text": [
      "[[0.96138603 0.03861391]\n",
      " [0.9613857  0.03861424]\n",
      " [0.03137705 0.968623  ]\n",
      " [0.03137762 0.96862243]]\n"
     ]
    }
   ],
   "source": [
    "print(output)"
   ]
  },
  {
   "cell_type": "code",
   "execution_count": null,
   "metadata": {},
   "outputs": [],
   "source": []
  },
  {
   "cell_type": "code",
   "execution_count": null,
   "metadata": {},
   "outputs": [],
   "source": []
  },
  {
   "cell_type": "code",
   "execution_count": null,
   "metadata": {},
   "outputs": [],
   "source": []
  }
 ],
 "metadata": {
  "kernelspec": {
   "display_name": "Python 3",
   "language": "python",
   "name": "python3"
  },
  "language_info": {
   "codemirror_mode": {
    "name": "ipython",
    "version": 3
   },
   "file_extension": ".py",
   "mimetype": "text/x-python",
   "name": "python",
   "nbconvert_exporter": "python",
   "pygments_lexer": "ipython3",
   "version": "3.7.1"
  }
 },
 "nbformat": 4,
 "nbformat_minor": 2
}
