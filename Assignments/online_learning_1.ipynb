{
 "cells": [
  {
   "cell_type": "code",
   "execution_count": 883,
   "metadata": {},
   "outputs": [],
   "source": [
    "import numpy as np\n",
    "import matplotlib.pyplot as plt\n",
    "import math\n",
    "import copy\n",
    "from nltk.tokenize import RegexpTokenizer\n",
    "import json\n",
    "import random\n",
    "import seaborn\n",
    "from scipy.integrate import quad"
   ]
  },
  {
   "cell_type": "code",
   "execution_count": 884,
   "metadata": {},
   "outputs": [],
   "source": [
    "def dichotomizer(a1,a2):\n",
    "    test=[]\n",
    "    test.append(a1)\n",
    "    test.append(a2)\n",
    "#     test.append(a3)\n",
    "    value=np.argmax(test)\n",
    "    return (value),a1\n",
    "\n",
    "    "
   ]
  },
  {
   "cell_type": "code",
   "execution_count": 916,
   "metadata": {},
   "outputs": [],
   "source": [
    "def find_tpr_fpr(predict,real):\n",
    "    tp=0\n",
    "    tn=0\n",
    "    fp=0\n",
    "    fn=0\n",
    "    for i in range(len(predict)):\n",
    "        if predict[i]==0 and real[i]==0:\n",
    "            tp=tp+1\n",
    "        if predict[i]==1 and real[i]==0:\n",
    "            fn=fn+1\n",
    "        if predict[i]==0 and real[i]==1:\n",
    "            fp=fp+1\n",
    "        if predict[i]==1 and real[i]==1:\n",
    "            tn=tn+1\n",
    "    tpr2=0\n",
    "    fpr2=0\n",
    "#     print(\"Total :\",(tp+fp+tn+fn))\n",
    "    tpr2=tp/float(tp+fn+1)\n",
    "    fpr2=fp/float(fp+tn+1)\n",
    "    \n",
    "    return tpr2,fpr2"
   ]
  },
  {
   "cell_type": "code",
   "execution_count": 886,
   "metadata": {},
   "outputs": [],
   "source": [
    "#geeks for geeks \n",
    "def sort_list(list1, list2): \n",
    "  \n",
    "    zipped_pairs = zip(list2, list1) \n",
    "  \n",
    "    z = [x for _, x in sorted(zipped_pairs)] \n",
    "      \n",
    "    return z "
   ]
  },
  {
   "cell_type": "code",
   "execution_count": 949,
   "metadata": {},
   "outputs": [],
   "source": [
    "def roc_design(prob_dist,testdata):\n",
    "    aux1=[]\n",
    "    aux2=[]\n",
    "    testdata1=copy.deepcopy(testdata)\n",
    "    for i in range(len(testdata)):\n",
    "       \n",
    "        aux1.append(prob_dist[i])\n",
    "        aux2.append(testdata[i])\n",
    "    main1=sort_list(aux2, aux1)\n",
    "#     print(\"Probability in incresing order : \",main1)\n",
    "    \n",
    "    tpr=[]\n",
    "    fpr=[]\n",
    "\n",
    "   \n",
    "    main2=[]\n",
    "    j=0\n",
    "    for j in range(len(prob_dist)):\n",
    "        main2.append(0)\n",
    "    i=0\n",
    "    while i <len(prob_dist):\n",
    "        tpr1=0\n",
    "        fpr1=0\n",
    "        \n",
    "        \n",
    "        \n",
    "        j=0\n",
    "        while (j  <= i):\n",
    "            main2[j]=1\n",
    "            j=j+1\n",
    "\n",
    "        tpr1,fpr1=find_tpr_fpr(copy.deepcopy(main2),copy.deepcopy(main1))\n",
    "\n",
    "        fpr.append(fpr1)\n",
    "        tpr.append(tpr1)\n",
    "        \n",
    "        i=i+1\n",
    "\n",
    "#     plt.plot(fpr, tpr ,'r-',label=\"ROC Curve\")\n",
    "# #     plt.axis([1, 10,0, 1])\n",
    "#     plt.title(\"ROC Curve for Class 0's and Class 1's\")\n",
    "#     plt.xlabel(\"False +ve Rate\")\n",
    "#     plt.ylabel(\"True +ve Rate\")\n",
    "#     plt.legend()\n",
    " \n",
    "\n",
    "#     plt.axis([-0.01, 1, 0, 1])\n",
    "#     plt.show()\n",
    "    return fpr,tpr\n",
    "        \n",
    "    \n",
    "    \n",
    "    \n",
    "        "
   ]
  },
  {
   "cell_type": "code",
   "execution_count": 888,
   "metadata": {},
   "outputs": [],
   "source": [
    "def classified_metric(class_set,result_set):\n",
    "    count=0\n",
    "    for i in range(len(class_set)):\n",
    "        if class_set[i]==result_set[i]:\n",
    "            count=count+1\n",
    "    return count/float(len(result_set))\n",
    "\n",
    "    "
   ]
  },
  {
   "cell_type": "code",
   "execution_count": 932,
   "metadata": {},
   "outputs": [],
   "source": [
    "def intergrand_disc_func1(x,data1,mean1,covariance_mat1,prior1,mean2,covariance_mat2,prior2,d):\n",
    "        data=[data1,x]\n",
    "        data=np.array(data)\n",
    "        inverse_mat1=np.linalg.inv(np.matrix(covariance_mat1))\n",
    "        result_mat1=(-0.5)*np.matmul(np.matrix(data-mean1),inverse_mat1)\n",
    "        temp_result1=np.matmul(result_mat1,np.transpose(np.matrix(data-mean1)))\n",
    "        result1=temp_result1-0.5*d*np.log(2*np.pi)-0.5*np.log(np.linalg.det(np.matrix(covariance_mat1)))+np.log(prior1)\n",
    "        g1=result1\n",
    "        inverse_mat2=np.linalg.inv(np.matrix(covariance_mat2))\n",
    "        result_mat2=(-0.5)*np.matmul(np.matrix(data-mean2),inverse_mat2)\n",
    "        temp_result2=np.matmul(result_mat2,np.transpose(np.matrix(data-mean2)))\n",
    "        result2=temp_result2-0.5*d*np.log(2*np.pi)-0.5*np.log(np.linalg.det(np.matrix(covariance_mat2)))+np.log(prior2)\n",
    "        g2=result2\n",
    "        result=g1*(g1+g2)/(g1+g2)\n",
    "        return result"
   ]
  },
  {
   "cell_type": "code",
   "execution_count": 933,
   "metadata": {},
   "outputs": [],
   "source": [
    "def intergrand_disc_func2(x,data1,mean1,covariance_mat1,prior1,mean2,covariance_mat2,prior2,d):\n",
    "        data=[data1,x]\n",
    "\n",
    "        data=np.array(data)\n",
    "        inverse_mat1=np.linalg.inv(np.matrix(covariance_mat1))\n",
    "        result_mat1=(-0.5)*np.matmul(np.matrix(data-mean1),inverse_mat1)\n",
    "        temp_result1=np.matmul(result_mat1,np.transpose(np.matrix(data-mean1)))\n",
    "        result1=temp_result1-0.5*d*np.log(2*np.pi)-0.5*np.log(np.linalg.det(np.matrix(covariance_mat1)))+np.log(prior1)\n",
    "        g1=result1\n",
    "        inverse_mat2=np.linalg.inv(np.matrix(covariance_mat2))\n",
    "        result_mat2=(-0.5)*np.matmul(np.matrix(data-mean2),inverse_mat2)\n",
    "        temp_result2=np.matmul(result_mat2,np.transpose(np.matrix(data-mean2)))\n",
    "        result2=temp_result2-0.5*d*np.log(2*np.pi)-0.5*np.log(np.linalg.det(np.matrix(covariance_mat2)))+np.log(prior2)\n",
    "        g2=result2\n",
    "        result=g2*(g1+g2)/(g1+g2)\n",
    "        return result"
   ]
  },
  {
   "cell_type": "code",
   "execution_count": 891,
   "metadata": {},
   "outputs": [],
   "source": [
    "def discriminant_func(data,mean,covariance_mat,prior,d):\n",
    "        inverse_mat=np.linalg.inv(np.matrix(covariance_mat))\n",
    "        result_mat=(-0.5)*np.matmul(np.matrix(data-mean),inverse_mat)\n",
    "        temp_result=np.matmul(result_mat,np.transpose(np.matrix(data-mean)))\n",
    "        result=temp_result[0][0]-0.5*d*np.log(2*np.pi)-0.5*np.log(np.linalg.det(np.matrix(covariance_mat)))+np.log(prior)\n",
    "    \n",
    "        return result"
   ]
  },
  {
   "cell_type": "code",
   "execution_count": 892,
   "metadata": {},
   "outputs": [],
   "source": [
    "def decision_boundary_risk(test_set,test_main_set,mean1,mean2,covariance_mat1,covariance_mat2,prior1,prior2,risk_new):\n",
    "    x=[]\n",
    "    y=[]\n",
    "    for i in range(len(test_set)):\n",
    "        x.append(test_set[i][0])\n",
    "        y.append(test_set[i][1])\n",
    "    xmin=min(x)\n",
    "    xmax=max(x)\n",
    "    ymin=min(y)\n",
    "    ymax=max(y)\n",
    "    start1=xmin\n",
    "    plt_x=[]\n",
    "    plt_y=[]\n",
    "    test_class=[]\n",
    "    counter=10000\n",
    "    flag1=0\n",
    "    flag2=0\n",
    "    flag3=0\n",
    "    flag4=0\n",
    "    while(counter>0):\n",
    "        x1=random.randint(int(xmin*1000),int(xmax*1000))\n",
    "        y1=random.randint(int(ymin*1000),int(ymax*1000))\n",
    "        plt_x.append(x1/1000)\n",
    "        plt_y.append(y1/1000)\n",
    "        g1=discriminant_func(np.matrix([x1/1000,y1/1000]),np.matrix(mean1),np.matrix(covariance_mat1),prior1,2)\n",
    "        g2=discriminant_func(np.matrix([x1/1000,y1/1000]),np.matrix(mean2),np.matrix(covariance_mat2),prior2,2)\n",
    "        risk1=risk_new[0][0]*g1+risk_new[0][1]*g2\n",
    "        risk2=risk_new[1][0]*g1+risk_new[1][1]*g2\n",
    "        \n",
    "        if risk1>risk2:\n",
    "            label=1\n",
    "        else:\n",
    "            label=0\n",
    "        test_class.append(label)\n",
    "        counter=counter-1\n",
    "    \n",
    "#     while(start1<xmax):\n",
    "        \n",
    "#         start2=ymin\n",
    "#         while(start2<ymax):\n",
    "\n",
    "#             start2=start2+0.15\n",
    "#         start1=start1+0.15\n",
    "    for i in range(len(plt_x)):\n",
    "        if test_class[i]==0 and flag3==0:\n",
    "            plt.scatter(plt_x[i],plt_y[i],color='yellow',label=\"Datapoint Class0\")\n",
    "            flag3=1\n",
    "            # plt.legend()\n",
    "        if test_class[i]==0 and flag3==1:\n",
    "            plt.scatter(plt_x[i],plt_y[i],color='yellow')\n",
    "            \n",
    "            # plt.legend()\n",
    "        if test_class[i]==1 and flag4==0:\n",
    "            plt.scatter(plt_x[i],plt_y[i],color='#d3d3d3',label=\"Datapoint Class1\")\n",
    "            flag4=1\n",
    "        if test_class[i]==1 and flag4==1:\n",
    "            plt.scatter(plt_x[i],plt_y[i],color='#d3d3d3')\n",
    "#             plt.xlabel(\"x-value\")\n",
    "#             plt.ylabel(\"y-value\")\n",
    "#             plt.title(\"Visualization of Decision Boundary\")\n",
    "            # plt.legend()\n",
    "#     print(test_class)\n",
    "    for i in range(len(test_set)):\n",
    "    \n",
    "#         g1=discriminant_func(np.matrix(test_set[i]),np.matrix(mean1),np.matrix(covariance_mat1),prior1,2)\n",
    "#         g2=discriminant_func(np.matrix(test_set[i]),np.matrix(mean2),np.matrix(covariance_mat2),prior2,2)\n",
    "#         label=dichotomizer(g1,g2)\n",
    "        if test_main_set[i]==0 and flag1==0:\n",
    "    \n",
    "            plt.scatter(test_set[i][0],test_set[i][1],color='red',label=\"Class0\")\n",
    "            flag1=1\n",
    "        if test_main_set[i]==0 and flag1==1:\n",
    "            plt.scatter(test_set[i][0],test_set[i][1],color='red')\n",
    "            \n",
    "        if test_main_set[i]==1 and flag2==0:\n",
    "       \n",
    "            plt.scatter(test_set[i][0],test_set[i][1],color='blue',label=\"Class1\")\n",
    "            flag2=1\n",
    "        if test_main_set[i]==1 and flag2==1:\n",
    "                plt.scatter(test_set[i][0],test_set[i][1],color='blue')\n",
    "       \n",
    "        \n",
    "    plt.xlabel(\"x-value\")\n",
    "    plt.ylabel(\"y-value\")\n",
    "    plt.title(\"Visualization of  Decision Boundary\")\n",
    "    plt.legend()\n",
    "    plt.show()\n",
    "            \n",
    "            \n",
    "    "
   ]
  },
  {
   "cell_type": "code",
   "execution_count": 893,
   "metadata": {},
   "outputs": [],
   "source": [
    "def decision_boundary(test_set,test_main_set,mean1,mean2,covariance_mat1,covariance_mat2,prior1,prior2):\n",
    "    x=[]\n",
    "    y=[]\n",
    "    for i in range(len(test_set)):\n",
    "        x.append(test_set[i][0])\n",
    "        y.append(test_set[i][1])\n",
    "    xmin=min(x)\n",
    "    xmax=max(x)\n",
    "    ymin=min(y)\n",
    "    ymax=max(y)\n",
    "    start1=xmin\n",
    "    plt_x=[]\n",
    "    plt_y=[]\n",
    "    test_class=[]\n",
    "    counter=10000\n",
    "    flag1=0\n",
    "    flag2=0\n",
    "    flag3=0\n",
    "    flag4=0\n",
    "    while(counter>0):\n",
    "        x1=random.randint(int(xmin*1000),int(xmax*1000))\n",
    "        y1=random.randint(int(ymin*1000),int(ymax*1000))\n",
    "        plt_x.append(x1/1000)\n",
    "        plt_y.append(y1/1000)\n",
    "        g1=discriminant_func(np.matrix([x1/1000,y1/1000]),np.matrix(mean1),np.matrix(covariance_mat1),prior1,2)\n",
    "        g2=discriminant_func(np.matrix([x1/1000,y1/1000]),np.matrix(mean2),np.matrix(covariance_mat2),prior2,2)\n",
    "        label=dichotomizer(g1,g2)\n",
    "        test_class.append(label[0])\n",
    "        counter=counter-1\n",
    "    \n",
    "#     while(start1<xmax):\n",
    "        \n",
    "#         start2=ymin\n",
    "#         while(start2<ymax):\n",
    "\n",
    "#             start2=start2+0.15\n",
    "#         start1=start1+0.15\n",
    "    for i in range(len(plt_x)):\n",
    "        if test_class[i]==0 and flag3==0:\n",
    "            plt.scatter(plt_x[i],plt_y[i],color='yellow',label=\"Datapoint Class0\")\n",
    "            flag3=1\n",
    "            # plt.legend()\n",
    "        if test_class[i]==0 and flag3==1:\n",
    "            plt.scatter(plt_x[i],plt_y[i],color='yellow')\n",
    "            \n",
    "            # plt.legend()\n",
    "        if test_class[i]==1 and flag4==0:\n",
    "            plt.scatter(plt_x[i],plt_y[i],color='#d3d3d3',label=\"Datapoint Class1\")\n",
    "            flag4=1\n",
    "        if test_class[i]==1 and flag3==1:\n",
    "            plt.scatter(plt_x[i],plt_y[i],color='#d3d3d3')\n",
    "#             plt.xlabel(\"x-value\")\n",
    "#             plt.ylabel(\"y-value\")\n",
    "#             plt.title(\"Visualization of Decision Boundary\")\n",
    "            # plt.legend()\n",
    "#     print(test_class)\n",
    "    for i in range(len(test_set)):\n",
    "    \n",
    "#         g1=discriminant_func(np.matrix(test_set[i]),np.matrix(mean1),np.matrix(covariance_mat1),prior1,2)\n",
    "#         g2=discriminant_func(np.matrix(test_set[i]),np.matrix(mean2),np.matrix(covariance_mat2),prior2,2)\n",
    "#         label=dichotomizer(g1,g2)\n",
    "        if test_main_set[i]==0 and flag1==0:\n",
    "    \n",
    "            plt.scatter(test_set[i][0],test_set[i][1],color='red',label=\"Class0\")\n",
    "            flag1=1\n",
    "        if test_main_set[i]==0 and flag1==1:\n",
    "            plt.scatter(test_set[i][0],test_set[i][1],color='red')\n",
    "            \n",
    "        if test_main_set[i]==1 and flag2==0:\n",
    "       \n",
    "            plt.scatter(test_set[i][0],test_set[i][1],color='blue',label=\"Class1\")\n",
    "            flag2=1\n",
    "        if test_main_set[i]==1 and flag2==1:\n",
    "                plt.scatter(test_set[i][0],test_set[i][1],color='blue')\n",
    "       \n",
    "        \n",
    "    plt.xlabel(\"x-value\")\n",
    "    plt.ylabel(\"y-value\")\n",
    "    plt.title(\"Visualization of  Decision Boundary\")\n",
    "    plt.legend()\n",
    "    plt.show()\n",
    "            \n",
    "            \n",
    "    "
   ]
  },
  {
   "cell_type": "code",
   "execution_count": null,
   "metadata": {},
   "outputs": [],
   "source": []
  },
  {
   "cell_type": "code",
   "execution_count": 894,
   "metadata": {},
   "outputs": [],
   "source": [
    "\n",
    "f=open(\"train.txt\",\"r\")\n",
    "tokenizer=RegexpTokenizer('',gaps=True)\n",
    "s=f.read()\n",
    "data=[]\n",
    "data=s.split(\"\\n\")\n",
    "main_data=[]\n",
    "for i in range(len(data)):\n",
    "    temp=[]\n",
    "    \n",
    "    temp=(data[i].split(\",\"))\n",
    "#     parseIntOrFloat()\n",
    "    main_data.append(temp)\n",
    "main_data= main_data[:-1]\n",
    "# print(main_data)\n",
    "# print(s)\n",
    "train_set=[]\n",
    "for i in range(len(main_data)):\n",
    "    for j in range(len(main_data[i])):\n",
    "        main_data[i][j]=float(main_data[i][j])\n",
    "train_set=copy.deepcopy(main_data)"
   ]
  },
  {
   "cell_type": "code",
   "execution_count": 895,
   "metadata": {},
   "outputs": [],
   "source": [
    "f=open(\"test_all.txt\",\"r\")\n",
    "tokenizer=RegexpTokenizer('',gaps=True)\n",
    "s=f.read()\n",
    "data=[]\n",
    "data=s.split(\"\\n\")\n",
    "main_data=[]\n",
    "for i in range(len(data)):\n",
    "    temp=[]\n",
    "    temp=(data[i].split(\",\"))\n",
    "#     parseIntOrFloat()\n",
    "    main_data.append(temp)\n",
    "main_data= main_data[:-1]\n",
    "# print(main_data)\n",
    "# print(s)\n",
    "test_set=[]\n",
    "for i in range(len(main_data)):\n",
    "    for j in range(len(main_data[i])):\n",
    "        main_data[i][j]=float(main_data[i][j])\n",
    "test_set=copy.deepcopy(main_data)"
   ]
  },
  {
   "cell_type": "code",
   "execution_count": 896,
   "metadata": {},
   "outputs": [],
   "source": [
    "class_set=[]\n",
    "for i in range(len(train_set)):\n",
    "        class_set.append(train_set[i][2])\n",
    "        train_set[i]=train_set[i][:-1]"
   ]
  },
  {
   "cell_type": "code",
   "execution_count": 897,
   "metadata": {},
   "outputs": [],
   "source": [
    "test_main_set=[]\n",
    "for i in range(len(test_set)):\n",
    "        test_main_set.append(test_set[i][2])\n",
    "        test_set[i]=test_set[i][:-1]"
   ]
  },
  {
   "cell_type": "code",
   "execution_count": 898,
   "metadata": {},
   "outputs": [
    {
     "data": {
      "image/png": "[encoded data removed]",
      "text/plain": [
       "<Figure size 432x288 with 1 Axes>"
      ]
     },
     "metadata": {
      "needs_background": "light"
     },
     "output_type": "display_data"
    }
   ],
   "source": [
    "\n",
    "#Visualization for traindata\n",
    "flag1=0\n",
    "flag2=0\n",
    "for i in range(len(train_set)):\n",
    "    if class_set[i]==0 and flag1==0:\n",
    "\n",
    "        plt.scatter(train_set[i][0],train_set[i][1],color='red',label=\"Class0\")\n",
    "        flag1=1\n",
    "    if class_set[i]==0 and flag1==1:\n",
    "        plt.scatter(train_set[i][0],train_set[i][1],color='red')\n",
    "\n",
    "    if class_set[i]==1 and flag2==0:\n",
    "\n",
    "        plt.scatter(train_set[i][0],train_set[i][1],color='blue',label=\"Class1\")\n",
    "        flag2=1\n",
    "    if class_set[i]==1 and flag2==1:\n",
    "            plt.scatter(train_set[i][0],train_set[i][1],color='blue')\n",
    "\n",
    "\n",
    "plt.xlabel(\"x-value\")\n",
    "plt.ylabel(\"y-value\")\n",
    "plt.title(\"Visualization of Training Without Decorrelation\")\n",
    "plt.legend()\n",
    "plt.show()"
   ]
  },
  {
   "cell_type": "code",
   "execution_count": 899,
   "metadata": {},
   "outputs": [
    {
     "data": {
      "image/png": "[encoded data removed]",
      "text/plain": [
       "<Figure size 432x288 with 1 Axes>"
      ]
     },
     "metadata": {
      "needs_background": "light"
     },
     "output_type": "display_data"
    }
   ],
   "source": [
    "#Visualization for testdata\n",
    "#Visualization for testdata\n",
    "flag1=0\n",
    "flag2=0\n",
    "for i in range(len(test_set)):\n",
    "    if test_main_set[i]==0 and flag1==0:\n",
    "\n",
    "        plt.scatter(test_set[i][0],test_set[i][1],color='red',label=\"Class0\")\n",
    "        flag1=1\n",
    "    if test_main_set[i]==0 and flag1==1:\n",
    "        plt.scatter(test_set[i][0],test_set[i][1],color='red')\n",
    "\n",
    "    if test_main_set[i]==1 and flag2==0:\n",
    "\n",
    "        plt.scatter(test_set[i][0],test_set[i][1],color='blue',label=\"Class1\")\n",
    "        flag2=1\n",
    "    if test_main_set[i]==1 and flag2==1:\n",
    "            plt.scatter(test_set[i][0],test_set[i][1],color='blue')\n",
    "\n",
    "\n",
    "plt.xlabel(\"x-value\")\n",
    "plt.ylabel(\"y-value\")\n",
    "plt.title(\"Visualization of Testing Data Without Decorrelation\")\n",
    "plt.legend()\n",
    "plt.show()\n"
   ]
  },
  {
   "cell_type": "code",
   "execution_count": 900,
   "metadata": {},
   "outputs": [],
   "source": [
    "\n",
    "class0=[]\n",
    "class1=[]\n",
    "for i in range(len(train_set)):\n",
    "    if class_set[i]==0:\n",
    "        class0.append(train_set[i])\n",
    "    else:\n",
    "        class1.append(train_set[i])"
   ]
  },
  {
   "cell_type": "code",
   "execution_count": null,
   "metadata": {},
   "outputs": [],
   "source": []
  },
  {
   "cell_type": "code",
   "execution_count": 901,
   "metadata": {},
   "outputs": [],
   "source": [
    "prior1=len(class0)/float(len(class0)+len(class1))\n",
    "prior2=1-prior1\n",
    "temp1=[]\n",
    "temp2=[]\n",
    "for i in range(len(class0)):\n",
    "    temp1.append(class0[i][0])\n",
    "    temp2.append(class0[i][1])"
   ]
  },
  {
   "cell_type": "code",
   "execution_count": 902,
   "metadata": {},
   "outputs": [],
   "source": [
    "m1=np.mean(temp1)\n",
    "m2=np.mean(temp2)\n",
    "covariance_mat1=np.cov(temp1,temp2)\n",
    "mean1=[]\n",
    "mean1.append(m1)\n",
    "mean1.append(m2)"
   ]
  },
  {
   "cell_type": "code",
   "execution_count": null,
   "metadata": {},
   "outputs": [],
   "source": []
  },
  {
   "cell_type": "code",
   "execution_count": 903,
   "metadata": {},
   "outputs": [],
   "source": [
    "temp1=[]\n",
    "temp2=[]\n",
    "for i in range(len(class1)):\n",
    "    temp1.append(class1[i][0])\n",
    "    temp2.append(class1[i][1])\n",
    "m1=np.mean(temp1)\n",
    "m2=np.mean(temp2)\n",
    "covariance_mat2=np.cov(temp1,temp2)\n",
    "mean2=[]\n",
    "mean2.append(m1)\n",
    "mean2.append(m2)"
   ]
  },
  {
   "cell_type": "code",
   "execution_count": 904,
   "metadata": {},
   "outputs": [
    {
     "name": "stdout",
     "output_type": "stream",
     "text": [
      "Accuracy :  83.71428571428572\n"
     ]
    }
   ],
   "source": [
    "#Accuracy\n",
    "test_class=[]\n",
    "prob_measure=[]\n",
    "for i in range(len(train_set)):\n",
    "    g1=discriminant_func(np.matrix(train_set[i]),np.matrix(mean1),np.matrix(covariance_mat1),prior1,2)\n",
    "    g2=discriminant_func(np.matrix(train_set[i]),np.matrix(mean2),np.matrix(covariance_mat2),prior2,2)\n",
    "    label=dichotomizer(g1,g2)\n",
    "    prob_measure.append(label[1])\n",
    "    test_class.append(label[0])\n",
    "acc=classified_metric(class_set,test_class)*100\n",
    "print(\"Accuracy : \",acc)"
   ]
  },
  {
   "cell_type": "code",
   "execution_count": null,
   "metadata": {},
   "outputs": [],
   "source": []
  },
  {
   "cell_type": "code",
   "execution_count": 905,
   "metadata": {},
   "outputs": [],
   "source": [
    "f1=[]\n",
    "g1=[]\n",
    "f1,t1=roc_design(prob_measure,test_class)\n",
    "\n"
   ]
  },
  {
   "cell_type": "code",
   "execution_count": 906,
   "metadata": {},
   "outputs": [
    {
     "name": "stdout",
     "output_type": "stream",
     "text": [
      "..............Confusion Matrix................ \n",
      "118 \t 25\n",
      "32 \t 175\n"
     ]
    },
    {
     "data": {
      "text/plain": [
       "<matplotlib.axes._subplots.AxesSubplot at 0x21291874a20>"
      ]
     },
     "execution_count": 906,
     "metadata": {},
     "output_type": "execute_result"
    },
    {
     "data": {
      "image/png": "[encoded data removed]",
      "text/plain": [
       "<Figure size 432x288 with 2 Axes>"
      ]
     },
     "metadata": {
      "needs_background": "light"
     },
     "output_type": "display_data"
    }
   ],
   "source": [
    "#Confusion matrix\n",
    "tp=0\n",
    "tn=0\n",
    "fp=0\n",
    "fn=0\n",
    "for i in range(len(train_set)):\n",
    "    g1=discriminant_func(np.matrix(train_set[i]),np.matrix(mean1),np.matrix(covariance_mat1),prior1,2)\n",
    "    g2=discriminant_func(np.matrix(train_set[i]),np.matrix(mean2),np.matrix(covariance_mat2),prior2,2)\n",
    "    g=dichotomizer(g1,g2)[0]\n",
    "    if g==0 and class_set[i]==0:\n",
    "        tp=tp+1\n",
    "        continue\n",
    "    if g==1 and class_set[i]==1:\n",
    "        tn=tn+1\n",
    "        continue\n",
    "    if g==0 and class_set[i]==1:\n",
    "        fp=fp+1\n",
    "        continue\n",
    "    if g==1 and class_set[i]==0:\n",
    "        fn=fn+1\n",
    "print(\"..............Confusion Matrix................ \")\n",
    "print(tp,\"\\t\",fp)\n",
    "print(fn,\"\\t\",tn)\n",
    "conf_matrix=[[],[]]\n",
    "conf_matrix[0].append(tp)\n",
    "conf_matrix[0].append(fp)\n",
    "conf_matrix[1].append(fn)\n",
    "conf_matrix[1].append(tn)\n",
    "seaborn.heatmap(conf_matrix,annot=True,fmt=\"d\")"
   ]
  },
  {
   "cell_type": "code",
   "execution_count": 907,
   "metadata": {},
   "outputs": [
    {
     "data": {
      "image/png": "[encoded data removed]",
      "text/plain": [
       "<Figure size 432x288 with 1 Axes>"
      ]
     },
     "metadata": {
      "needs_background": "light"
     },
     "output_type": "display_data"
    }
   ],
   "source": [
    "decision_boundary(train_set,class_set,mean1,mean2,covariance_mat1,covariance_mat2,prior1,prior2)"
   ]
  },
  {
   "cell_type": "code",
   "execution_count": 908,
   "metadata": {},
   "outputs": [
    {
     "name": "stdout",
     "output_type": "stream",
     "text": [
      "Accuracy :  81.25\n"
     ]
    }
   ],
   "source": [
    "#Accuracy\n",
    "test_class=[]\n",
    "prob_measure=[]\n",
    "for i in range(len(test_set)):\n",
    "    g1=discriminant_func(np.matrix(test_set[i]),np.matrix(mean1),np.matrix(covariance_mat1),prior1,2)\n",
    "    g2=discriminant_func(np.matrix(test_set[i]),np.matrix(mean2),np.matrix(covariance_mat2),prior2,2)\n",
    "    label=dichotomizer(g1,g2)\n",
    "    prob_measure.append(label[1])\n",
    "    test_class.append(label[0])\n",
    "acc=classified_metric(test_main_set,test_class)*100\n",
    "print(\"Accuracy : \",acc)"
   ]
  },
  {
   "cell_type": "code",
   "execution_count": 909,
   "metadata": {},
   "outputs": [],
   "source": [
    "f1=[]\n",
    "g1=[]\n",
    "f1,t1=roc_design(prob_measure,test_class)"
   ]
  },
  {
   "cell_type": "code",
   "execution_count": 910,
   "metadata": {},
   "outputs": [
    {
     "name": "stdout",
     "output_type": "stream",
     "text": [
      "..............Confusion Matrix................ \n",
      "36 \t 6\n",
      "9 \t 29\n"
     ]
    },
    {
     "data": {
      "text/plain": [
       "<matplotlib.axes._subplots.AxesSubplot at 0x212979dfb00>"
      ]
     },
     "execution_count": 910,
     "metadata": {},
     "output_type": "execute_result"
    },
    {
     "data": {
      "image/png": "[encoded data removed]",
      "text/plain": [
       "<Figure size 432x288 with 2 Axes>"
      ]
     },
     "metadata": {
      "needs_background": "light"
     },
     "output_type": "display_data"
    }
   ],
   "source": [
    "#Confusion matrix\n",
    "tp=0\n",
    "tn=0\n",
    "fp=0\n",
    "fn=0\n",
    "for i in range(len(test_set)):\n",
    "    g1=discriminant_func(np.matrix(test_set[i]),np.matrix(mean1),np.matrix(covariance_mat1),prior1,2)\n",
    "    g2=discriminant_func(np.matrix(test_set[i]),np.matrix(mean2),np.matrix(covariance_mat2),prior2,2)\n",
    "    g=dichotomizer(g1,g2)[0]\n",
    "    if g==0 and test_main_set[i]==0:\n",
    "        tp=tp+1\n",
    "        continue\n",
    "    if g==1 and test_main_set[i]==1:\n",
    "        tn=tn+1\n",
    "        continue\n",
    "    if g==0 and test_main_set[i]==1:\n",
    "        fp=fp+1\n",
    "        continue\n",
    "    if g==1 and test_main_set[i]==0:\n",
    "        fn=fn+1\n",
    "print(\"..............Confusion Matrix................ \")\n",
    "print(tp,\"\\t\",fp)\n",
    "print(fn,\"\\t\",tn)\n",
    "conf_matrix=[[],[]]\n",
    "conf_matrix[0].append(tp)\n",
    "conf_matrix[0].append(fp)\n",
    "conf_matrix[1].append(fn)\n",
    "conf_matrix[1].append(tn)\n",
    "seaborn.heatmap(conf_matrix,annot=True,fmt=\"d\")"
   ]
  },
  {
   "cell_type": "code",
   "execution_count": null,
   "metadata": {},
   "outputs": [],
   "source": []
  },
  {
   "cell_type": "code",
   "execution_count": 911,
   "metadata": {},
   "outputs": [
    {
     "name": "stdout",
     "output_type": "stream",
     "text": [
      "{\"risk1\": [[0, 1], [1, 0]], \"risk2\": [[1, 0], [0, 1]], \"risk3\": [[1000, 1000], [0, 0]], \"risk4\": [[0, 0], [1000, 1000]], \"risk5\": [[0, 100], [150, 0]], \"risk6\": [[0, 150], [100, 0]]}\n"
     ]
    }
   ],
   "source": [
    "#Q3\n",
    "f=open(\"risk.txt\")\n",
    "risk={}\n",
    "risk=f.read()\n",
    "print(risk)\n",
    "risk_main = json.loads(risk)"
   ]
  },
  {
   "cell_type": "code",
   "execution_count": null,
   "metadata": {},
   "outputs": [],
   "source": []
  },
  {
   "cell_type": "code",
   "execution_count": null,
   "metadata": {},
   "outputs": [],
   "source": []
  },
  {
   "cell_type": "code",
   "execution_count": null,
   "metadata": {
    "scrolled": false
   },
   "outputs": [],
   "source": []
  },
  {
   "cell_type": "code",
   "execution_count": 912,
   "metadata": {},
   "outputs": [
    {
     "data": {
      "image/png": "[encoded data removed]",
      "text/plain": [
       "<Figure size 432x288 with 1 Axes>"
      ]
     },
     "metadata": {
      "needs_background": "light"
     },
     "output_type": "display_data"
    }
   ],
   "source": [
    "decision_boundary(test_set,test_main_set,mean1,mean2,covariance_mat1,covariance_mat2,prior1,prior2)"
   ]
  },
  {
   "cell_type": "code",
   "execution_count": 930,
   "metadata": {},
   "outputs": [
    {
     "name": "stdout",
     "output_type": "stream",
     "text": [
      "[[0, 1], [1, 0]]\n",
      "Accuracy  80  :  81.25\n",
      "..............Confusion Matrix................ \n",
      "36 \t 6\n",
      "9 \t 29\n",
      "Confusion Matrix:  risk1  :\n"
     ]
    },
    {
     "data": {
      "image/png": "[encoded data removed]",
      "text/plain": [
       "<Figure size 432x288 with 2 Axes>"
      ]
     },
     "metadata": {
      "needs_background": "light"
     },
     "output_type": "display_data"
    },
    {
     "name": "stdout",
     "output_type": "stream",
     "text": [
      "[[1, 0], [0, 1]]\n",
      "Accuracy  80  :  18.75\n",
      "..............Confusion Matrix................ \n",
      "9 \t 29\n",
      "36 \t 6\n",
      "Confusion Matrix:  risk2  :\n"
     ]
    },
    {
     "data": {
      "image/png": "[encoded data removed]",
      "text/plain": [
       "<Figure size 432x288 with 2 Axes>"
      ]
     },
     "metadata": {
      "needs_background": "light"
     },
     "output_type": "display_data"
    },
    {
     "name": "stdout",
     "output_type": "stream",
     "text": [
      "[[1000, 1000], [0, 0]]\n",
      "Accuracy  80  :  56.25\n",
      "..............Confusion Matrix................ \n",
      "45 \t 35\n",
      "0 \t 0\n",
      "Confusion Matrix:  risk3  :\n"
     ]
    },
    {
     "data": {
      "image/png": "[encoded data removed]",
      "text/plain": [
       "<Figure size 432x288 with 2 Axes>"
      ]
     },
     "metadata": {
      "needs_background": "light"
     },
     "output_type": "display_data"
    },
    {
     "name": "stdout",
     "output_type": "stream",
     "text": [
      "[[0, 0], [1000, 1000]]\n",
      "Accuracy  80  :  43.75\n",
      "..............Confusion Matrix................ \n",
      "0 \t 0\n",
      "45 \t 35\n",
      "Confusion Matrix:  risk4  :\n"
     ]
    },
    {
     "data": {
      "image/png": "[encoded data removed]",
      "text/plain": [
       "<Figure size 432x288 with 2 Axes>"
      ]
     },
     "metadata": {
      "needs_background": "light"
     },
     "output_type": "display_data"
    },
    {
     "name": "stdout",
     "output_type": "stream",
     "text": [
      "[[0, 100], [150, 0]]\n",
      "Accuracy  80  :  66.25\n",
      "..............Confusion Matrix................ \n",
      "20 \t 2\n",
      "25 \t 33\n",
      "Confusion Matrix:  risk5  :\n"
     ]
    },
    {
     "data": {
      "image/png": "[encoded data removed]",
      "text/plain": [
       "<Figure size 432x288 with 2 Axes>"
      ]
     },
     "metadata": {
      "needs_background": "light"
     },
     "output_type": "display_data"
    },
    {
     "name": "stdout",
     "output_type": "stream",
     "text": [
      "[[0, 150], [100, 0]]\n",
      "Accuracy  80  :  70.0\n",
      "..............Confusion Matrix................ \n",
      "40 \t 19\n",
      "5 \t 16\n",
      "Confusion Matrix:  risk6  :\n"
     ]
    },
    {
     "data": {
      "image/png": "[encoded data removed]",
      "text/plain": [
       "<Figure size 432x288 with 2 Axes>"
      ]
     },
     "metadata": {
      "needs_background": "light"
     },
     "output_type": "display_data"
    },
    {
     "name": "stdout",
     "output_type": "stream",
     "text": [
      "[81.25, 18.75, 56.25, 43.75, 66.25, 70.0]\n"
     ]
    }
   ],
   "source": [
    "#Accuracy\n",
    "\n",
    "acc=[]\n",
    "roc1=[]\n",
    "roc2=[]\n",
    "for j in risk_main.keys():\n",
    "    test_class=[]\n",
    "    risk_new=[]\n",
    "    prob_measure=[]\n",
    "    risk_new=[]\n",
    "    risk_new=list(risk_main[j])\n",
    "    print(risk_new)\n",
    "#     print(risk_new)\n",
    "    for i in range(len(test_set)):\n",
    "    \n",
    "        g1=discriminant_func(np.matrix(test_set[i]),np.matrix(mean1),np.matrix(covariance_mat1),prior1,d)\n",
    "        g2=discriminant_func(np.matrix(test_set[i]),np.matrix(mean2),np.matrix(covariance_mat2),prior2,d)\n",
    "        risk1=risk_new[0][0]*g1+risk_new[0][1]*g2\n",
    "        risk2=risk_new[1][0]*g1+risk_new[1][1]*g2\n",
    "        prob_measure.append(risk2)\n",
    "        if risk1>risk2:\n",
    "            label=1\n",
    "        else:\n",
    "            label=0\n",
    "        test_class.append(label)\n",
    "    \n",
    "    acc1=classified_metric(test_main_set,test_class)*100    \n",
    "    print(\"Accuracy \",(i+1),\" : \",acc1)\n",
    "    f1=[]\n",
    "    g1=[]\n",
    "    f1,g1=roc_design(prob_measure,test_class)\n",
    "    roc1.append(g1)\n",
    "    roc2.append(f1)\n",
    "    #Decision Boundary\n",
    "#     print(\"Decision Boundary \",j)\n",
    "#     decision_boundary_risk(test_set,test_main_set,mean1,mean2,covariance_mat1,covariance_mat2,prior1,prior2,risk_new)\n",
    "    \n",
    "#     Confusion matrix\n",
    "    tp=0\n",
    "    tn=0\n",
    "    fp=0\n",
    "    fn=0\n",
    "    for i in range(len(test_set)):\n",
    "        g1=discriminant_func(np.matrix(test_set[i]),np.matrix(mean1),np.matrix(covariance_mat1),prior1,2)\n",
    "        g2=discriminant_func(np.matrix(test_set[i]),np.matrix(mean2),np.matrix(covariance_mat2),prior2,2)\n",
    "        risk1=risk_new[0][0]*g1+risk_new[0][1]*g2\n",
    "        risk2=risk_new[1][0]*g1+risk_new[1][1]*g2\n",
    "        prob_measure.append(risk1)\n",
    "        if risk1>risk2:\n",
    "            g=1\n",
    "        else:\n",
    "            g=0\n",
    "        if g==0 and test_main_set[i]==0:\n",
    "            tp=tp+1\n",
    "            continue\n",
    "        if g==1 and test_main_set[i]==1:\n",
    "            tn=tn+1\n",
    "            continue\n",
    "        if g==0 and test_main_set[i]==1:\n",
    "            fp=fp+1\n",
    "            continue\n",
    "        if g==1 and test_main_set[i]==0:\n",
    "            fn=fn+1\n",
    "    print(\"..............Confusion Matrix................ \")\n",
    "    print(tp,\"\\t\",fp)\n",
    "    print(fn,\"\\t\",tn)\n",
    "    conf_matrix=[[],[]]\n",
    "    conf_matrix[0].append(tp)\n",
    "    conf_matrix[0].append(fp)\n",
    "    conf_matrix[1].append(fn)\n",
    "    conf_matrix[1].append(tn)\n",
    "    print(\"Confusion Matrix: \", (j),\" :\")\n",
    "    seaborn.heatmap(conf_matrix,annot=True,fmt=\"d\")\n",
    "    plt.show()\n",
    "    \n",
    "    \n",
    "    \n",
    "#     print(test_class)\n",
    "    acc.append(acc1)\n",
    "print(acc)     \n"
   ]
  },
  {
   "cell_type": "code",
   "execution_count": 931,
   "metadata": {},
   "outputs": [
    {
     "data": {
      "image/png": "[encoded data removed]",
      "text/plain": [
       "<Figure size 432x288 with 1 Axes>"
      ]
     },
     "metadata": {
      "needs_background": "light"
     },
     "output_type": "display_data"
    }
   ],
   "source": [
    "for i in range(len(roc1)):\n",
    "    if i==0:\n",
    "        plt.plot(roc1[i], roc2[i] ,label=\"Risk1\")\n",
    "    if i==1:\n",
    "        plt.plot(roc1[i], roc2[i] ,label=\"Risk2\")\n",
    "    if i==2:      \n",
    "        plt.plot(roc1[i], roc2[i] ,label=\"Risk3\")\n",
    "    if i==3:\n",
    "        plt.plot(roc1[i], roc2[i] ,label=\"Risk4\")\n",
    "    if i==4:\n",
    "        \n",
    "        plt.plot(roc1[i], roc2[i] ,label=\"Risk5\")\n",
    "    if i==5:\n",
    "        plt.plot(roc1[i], roc2[i] ,label=\"Risk6\")\n",
    "    plt.title(\"ROC Curve for Class 0's and Class 1's with Risks\")\n",
    "    plt.xlabel(\"False +ve Rate\")\n",
    "    plt.ylabel(\"True +ve Rate\")\n",
    "    plt.legend()\n",
    "    plt.axis([-0.01, 1, 0, 1])\n",
    "\n",
    "plt.show()"
   ]
  },
  {
   "cell_type": "code",
   "execution_count": 934,
   "metadata": {},
   "outputs": [],
   "source": [
    "f=open(\"test_missing.txt\",\"r\")\n",
    "tokenizer=RegexpTokenizer('',gaps=True)\n",
    "s=f.read()\n",
    "data=[]\n",
    "data=s.split(\"\\n\")\n",
    "main_data=[]\n",
    "for i in range(len(data)):\n",
    "    temp=[]\n",
    "    temp=(data[i].split(\",\"))\n",
    "#     parseIntOrFloat()\n",
    "    main_data.append(temp)\n",
    "main_data= main_data[:-1]\n",
    "# print(main_data)\n",
    "# print(s)\n",
    "test_set=[]\n",
    "for i in range(len(main_data)):\n",
    "    for j in range(len(main_data[i])):\n",
    "        if main_data[i][j]=='NA':\n",
    "            main_data[i][j]='NA'\n",
    "        else:\n",
    "            main_data[i][j]=float(main_data[i][j])\n",
    "test_set=copy.deepcopy(main_data)"
   ]
  },
  {
   "cell_type": "code",
   "execution_count": null,
   "metadata": {},
   "outputs": [],
   "source": [
    "\n"
   ]
  },
  {
   "cell_type": "code",
   "execution_count": 935,
   "metadata": {},
   "outputs": [],
   "source": [
    "test_main_test=[]\n",
    "for i in range(len(test_set)):\n",
    "        test_main_test.append(test_set[i][2])\n",
    "        test_set[i]=test_set[i][:-1]"
   ]
  },
  {
   "cell_type": "code",
   "execution_count": null,
   "metadata": {},
   "outputs": [],
   "source": []
  },
  {
   "cell_type": "code",
   "execution_count": 936,
   "metadata": {},
   "outputs": [
    {
     "name": "stderr",
     "output_type": "stream",
     "text": [
      "C:\\Users\\Dell-pc\\Anaconda3\\lib\\site-packages\\ipykernel_launcher.py:7: IntegrationWarning: The integral is probably divergent, or slowly convergent.\n",
      "  import sys\n",
      "C:\\Users\\Dell-pc\\Anaconda3\\lib\\site-packages\\ipykernel_launcher.py:9: IntegrationWarning: The integral is probably divergent, or slowly convergent.\n",
      "  if __name__ == '__main__':\n",
      "C:\\Users\\Dell-pc\\Anaconda3\\lib\\site-packages\\ipykernel_launcher.py:7: IntegrationWarning: The integral is probably divergent, or slowly convergent.\n",
      "  import sys\n",
      "C:\\Users\\Dell-pc\\Anaconda3\\lib\\site-packages\\ipykernel_launcher.py:9: IntegrationWarning: The integral is probably divergent, or slowly convergent.\n",
      "  if __name__ == '__main__':\n",
      "C:\\Users\\Dell-pc\\Anaconda3\\lib\\site-packages\\ipykernel_launcher.py:7: IntegrationWarning: The integral is probably divergent, or slowly convergent.\n",
      "  import sys\n",
      "C:\\Users\\Dell-pc\\Anaconda3\\lib\\site-packages\\ipykernel_launcher.py:9: IntegrationWarning: The integral is probably divergent, or slowly convergent.\n",
      "  if __name__ == '__main__':\n",
      "C:\\Users\\Dell-pc\\Anaconda3\\lib\\site-packages\\ipykernel_launcher.py:7: IntegrationWarning: The integral is probably divergent, or slowly convergent.\n",
      "  import sys\n",
      "C:\\Users\\Dell-pc\\Anaconda3\\lib\\site-packages\\ipykernel_launcher.py:9: IntegrationWarning: The integral is probably divergent, or slowly convergent.\n",
      "  if __name__ == '__main__':\n",
      "C:\\Users\\Dell-pc\\Anaconda3\\lib\\site-packages\\ipykernel_launcher.py:7: IntegrationWarning: The integral is probably divergent, or slowly convergent.\n",
      "  import sys\n",
      "C:\\Users\\Dell-pc\\Anaconda3\\lib\\site-packages\\ipykernel_launcher.py:9: IntegrationWarning: The integral is probably divergent, or slowly convergent.\n",
      "  if __name__ == '__main__':\n",
      "C:\\Users\\Dell-pc\\Anaconda3\\lib\\site-packages\\ipykernel_launcher.py:7: IntegrationWarning: The integral is probably divergent, or slowly convergent.\n",
      "  import sys\n",
      "C:\\Users\\Dell-pc\\Anaconda3\\lib\\site-packages\\ipykernel_launcher.py:9: IntegrationWarning: The integral is probably divergent, or slowly convergent.\n",
      "  if __name__ == '__main__':\n",
      "C:\\Users\\Dell-pc\\Anaconda3\\lib\\site-packages\\ipykernel_launcher.py:7: IntegrationWarning: The integral is probably divergent, or slowly convergent.\n",
      "  import sys\n",
      "C:\\Users\\Dell-pc\\Anaconda3\\lib\\site-packages\\ipykernel_launcher.py:9: IntegrationWarning: The integral is probably divergent, or slowly convergent.\n",
      "  if __name__ == '__main__':\n",
      "C:\\Users\\Dell-pc\\Anaconda3\\lib\\site-packages\\ipykernel_launcher.py:7: IntegrationWarning: The integral is probably divergent, or slowly convergent.\n",
      "  import sys\n",
      "C:\\Users\\Dell-pc\\Anaconda3\\lib\\site-packages\\ipykernel_launcher.py:9: IntegrationWarning: The integral is probably divergent, or slowly convergent.\n",
      "  if __name__ == '__main__':\n",
      "C:\\Users\\Dell-pc\\Anaconda3\\lib\\site-packages\\ipykernel_launcher.py:7: IntegrationWarning: The integral is probably divergent, or slowly convergent.\n",
      "  import sys\n",
      "C:\\Users\\Dell-pc\\Anaconda3\\lib\\site-packages\\ipykernel_launcher.py:9: IntegrationWarning: The integral is probably divergent, or slowly convergent.\n",
      "  if __name__ == '__main__':\n",
      "C:\\Users\\Dell-pc\\Anaconda3\\lib\\site-packages\\ipykernel_launcher.py:7: IntegrationWarning: The integral is probably divergent, or slowly convergent.\n",
      "  import sys\n",
      "C:\\Users\\Dell-pc\\Anaconda3\\lib\\site-packages\\ipykernel_launcher.py:9: IntegrationWarning: The integral is probably divergent, or slowly convergent.\n",
      "  if __name__ == '__main__':\n",
      "C:\\Users\\Dell-pc\\Anaconda3\\lib\\site-packages\\ipykernel_launcher.py:7: IntegrationWarning: The integral is probably divergent, or slowly convergent.\n",
      "  import sys\n",
      "C:\\Users\\Dell-pc\\Anaconda3\\lib\\site-packages\\ipykernel_launcher.py:9: IntegrationWarning: The integral is probably divergent, or slowly convergent.\n",
      "  if __name__ == '__main__':\n",
      "C:\\Users\\Dell-pc\\Anaconda3\\lib\\site-packages\\ipykernel_launcher.py:7: IntegrationWarning: The integral is probably divergent, or slowly convergent.\n",
      "  import sys\n",
      "C:\\Users\\Dell-pc\\Anaconda3\\lib\\site-packages\\ipykernel_launcher.py:9: IntegrationWarning: The integral is probably divergent, or slowly convergent.\n",
      "  if __name__ == '__main__':\n",
      "C:\\Users\\Dell-pc\\Anaconda3\\lib\\site-packages\\ipykernel_launcher.py:7: IntegrationWarning: The integral is probably divergent, or slowly convergent.\n",
      "  import sys\n",
      "C:\\Users\\Dell-pc\\Anaconda3\\lib\\site-packages\\ipykernel_launcher.py:9: IntegrationWarning: The integral is probably divergent, or slowly convergent.\n",
      "  if __name__ == '__main__':\n",
      "C:\\Users\\Dell-pc\\Anaconda3\\lib\\site-packages\\ipykernel_launcher.py:7: IntegrationWarning: The integral is probably divergent, or slowly convergent.\n",
      "  import sys\n",
      "C:\\Users\\Dell-pc\\Anaconda3\\lib\\site-packages\\ipykernel_launcher.py:9: IntegrationWarning: The integral is probably divergent, or slowly convergent.\n",
      "  if __name__ == '__main__':\n",
      "C:\\Users\\Dell-pc\\Anaconda3\\lib\\site-packages\\ipykernel_launcher.py:7: IntegrationWarning: The integral is probably divergent, or slowly convergent.\n",
      "  import sys\n",
      "C:\\Users\\Dell-pc\\Anaconda3\\lib\\site-packages\\ipykernel_launcher.py:9: IntegrationWarning: The integral is probably divergent, or slowly convergent.\n",
      "  if __name__ == '__main__':\n",
      "C:\\Users\\Dell-pc\\Anaconda3\\lib\\site-packages\\ipykernel_launcher.py:7: IntegrationWarning: The integral is probably divergent, or slowly convergent.\n",
      "  import sys\n",
      "C:\\Users\\Dell-pc\\Anaconda3\\lib\\site-packages\\ipykernel_launcher.py:9: IntegrationWarning: The integral is probably divergent, or slowly convergent.\n",
      "  if __name__ == '__main__':\n",
      "C:\\Users\\Dell-pc\\Anaconda3\\lib\\site-packages\\ipykernel_launcher.py:7: IntegrationWarning: The integral is probably divergent, or slowly convergent.\n",
      "  import sys\n",
      "C:\\Users\\Dell-pc\\Anaconda3\\lib\\site-packages\\ipykernel_launcher.py:9: IntegrationWarning: The integral is probably divergent, or slowly convergent.\n",
      "  if __name__ == '__main__':\n",
      "C:\\Users\\Dell-pc\\Anaconda3\\lib\\site-packages\\ipykernel_launcher.py:7: IntegrationWarning: The integral is probably divergent, or slowly convergent.\n",
      "  import sys\n",
      "C:\\Users\\Dell-pc\\Anaconda3\\lib\\site-packages\\ipykernel_launcher.py:9: IntegrationWarning: The integral is probably divergent, or slowly convergent.\n",
      "  if __name__ == '__main__':\n",
      "C:\\Users\\Dell-pc\\Anaconda3\\lib\\site-packages\\ipykernel_launcher.py:7: IntegrationWarning: The integral is probably divergent, or slowly convergent.\n",
      "  import sys\n",
      "C:\\Users\\Dell-pc\\Anaconda3\\lib\\site-packages\\ipykernel_launcher.py:9: IntegrationWarning: The integral is probably divergent, or slowly convergent.\n",
      "  if __name__ == '__main__':\n",
      "C:\\Users\\Dell-pc\\Anaconda3\\lib\\site-packages\\ipykernel_launcher.py:7: IntegrationWarning: The integral is probably divergent, or slowly convergent.\n",
      "  import sys\n",
      "C:\\Users\\Dell-pc\\Anaconda3\\lib\\site-packages\\ipykernel_launcher.py:9: IntegrationWarning: The integral is probably divergent, or slowly convergent.\n",
      "  if __name__ == '__main__':\n",
      "C:\\Users\\Dell-pc\\Anaconda3\\lib\\site-packages\\ipykernel_launcher.py:7: IntegrationWarning: The integral is probably divergent, or slowly convergent.\n",
      "  import sys\n",
      "C:\\Users\\Dell-pc\\Anaconda3\\lib\\site-packages\\ipykernel_launcher.py:9: IntegrationWarning: The integral is probably divergent, or slowly convergent.\n",
      "  if __name__ == '__main__':\n"
     ]
    }
   ],
   "source": [
    "test_class=[]\n",
    "d=2\n",
    "prob_measure=[]\n",
    "for i in range(len(test_set)):\n",
    "    if test_set[i][1]=='NA':\n",
    "        data1=test_set[i][0]\n",
    "        g1=quad(intergrand_disc_func1,-np.inf,np.inf,args=(data1,mean1,covariance_mat1,prior1,mean2,covariance_mat2,prior2,d))\n",
    "        g1_new=g1[0]\n",
    "        g2=quad(intergrand_disc_func2,-np.inf,np.inf,args=(data1,mean1,covariance_mat1,prior1,mean2,covariance_mat2,prior2,d))\n",
    "        g2_new=g2[0]\n",
    "        label=dichotomizer(g1_new,g2_new)\n",
    "        test_class.append(label[0])\n",
    "        prob_measure.append(g1_new)\n",
    "        \n",
    "        pass\n",
    "    else:\n",
    "        g1=discriminant_func(np.matrix(test_set[i]),np.matrix(mean1),np.matrix(covariance_mat1),prior1,2)\n",
    "        g2=discriminant_func(np.matrix(test_set[i]),np.matrix(mean2),np.matrix(covariance_mat2),prior2,2)\n",
    "        label=dichotomizer(g1,g2)\n",
    "        test_class.append(label[0])\n",
    "        prob_measure.append(label[1])\n",
    "       "
   ]
  },
  {
   "cell_type": "code",
   "execution_count": 940,
   "metadata": {},
   "outputs": [
    {
     "data": {
      "image/png": "[encoded data removed]",
      "text/plain": [
       "<Figure size 432x288 with 1 Axes>"
      ]
     },
     "metadata": {
      "needs_background": "light"
     },
     "output_type": "display_data"
    }
   ],
   "source": [
    "f1=[]\n",
    "g1=[]\n",
    "f1,g1=roc_design(prob_measure,test_class)"
   ]
  },
  {
   "cell_type": "code",
   "execution_count": 942,
   "metadata": {},
   "outputs": [
    {
     "name": "stderr",
     "output_type": "stream",
     "text": [
      "C:\\Users\\Dell-pc\\Anaconda3\\lib\\site-packages\\ipykernel_launcher.py:9: IntegrationWarning: The integral is probably divergent, or slowly convergent.\n",
      "  if __name__ == '__main__':\n",
      "C:\\Users\\Dell-pc\\Anaconda3\\lib\\site-packages\\ipykernel_launcher.py:11: IntegrationWarning: The integral is probably divergent, or slowly convergent.\n",
      "  # This is added back by InteractiveShellApp.init_path()\n",
      "C:\\Users\\Dell-pc\\Anaconda3\\lib\\site-packages\\ipykernel_launcher.py:9: IntegrationWarning: The integral is probably divergent, or slowly convergent.\n",
      "  if __name__ == '__main__':\n",
      "C:\\Users\\Dell-pc\\Anaconda3\\lib\\site-packages\\ipykernel_launcher.py:11: IntegrationWarning: The integral is probably divergent, or slowly convergent.\n",
      "  # This is added back by InteractiveShellApp.init_path()\n",
      "C:\\Users\\Dell-pc\\Anaconda3\\lib\\site-packages\\ipykernel_launcher.py:9: IntegrationWarning: The integral is probably divergent, or slowly convergent.\n",
      "  if __name__ == '__main__':\n",
      "C:\\Users\\Dell-pc\\Anaconda3\\lib\\site-packages\\ipykernel_launcher.py:11: IntegrationWarning: The integral is probably divergent, or slowly convergent.\n",
      "  # This is added back by InteractiveShellApp.init_path()\n",
      "C:\\Users\\Dell-pc\\Anaconda3\\lib\\site-packages\\ipykernel_launcher.py:9: IntegrationWarning: The integral is probably divergent, or slowly convergent.\n",
      "  if __name__ == '__main__':\n",
      "C:\\Users\\Dell-pc\\Anaconda3\\lib\\site-packages\\ipykernel_launcher.py:11: IntegrationWarning: The integral is probably divergent, or slowly convergent.\n",
      "  # This is added back by InteractiveShellApp.init_path()\n",
      "C:\\Users\\Dell-pc\\Anaconda3\\lib\\site-packages\\ipykernel_launcher.py:9: IntegrationWarning: The integral is probably divergent, or slowly convergent.\n",
      "  if __name__ == '__main__':\n",
      "C:\\Users\\Dell-pc\\Anaconda3\\lib\\site-packages\\ipykernel_launcher.py:11: IntegrationWarning: The integral is probably divergent, or slowly convergent.\n",
      "  # This is added back by InteractiveShellApp.init_path()\n",
      "C:\\Users\\Dell-pc\\Anaconda3\\lib\\site-packages\\ipykernel_launcher.py:9: IntegrationWarning: The integral is probably divergent, or slowly convergent.\n",
      "  if __name__ == '__main__':\n",
      "C:\\Users\\Dell-pc\\Anaconda3\\lib\\site-packages\\ipykernel_launcher.py:11: IntegrationWarning: The integral is probably divergent, or slowly convergent.\n",
      "  # This is added back by InteractiveShellApp.init_path()\n",
      "C:\\Users\\Dell-pc\\Anaconda3\\lib\\site-packages\\ipykernel_launcher.py:9: IntegrationWarning: The integral is probably divergent, or slowly convergent.\n",
      "  if __name__ == '__main__':\n",
      "C:\\Users\\Dell-pc\\Anaconda3\\lib\\site-packages\\ipykernel_launcher.py:11: IntegrationWarning: The integral is probably divergent, or slowly convergent.\n",
      "  # This is added back by InteractiveShellApp.init_path()\n",
      "C:\\Users\\Dell-pc\\Anaconda3\\lib\\site-packages\\ipykernel_launcher.py:9: IntegrationWarning: The integral is probably divergent, or slowly convergent.\n",
      "  if __name__ == '__main__':\n",
      "C:\\Users\\Dell-pc\\Anaconda3\\lib\\site-packages\\ipykernel_launcher.py:11: IntegrationWarning: The integral is probably divergent, or slowly convergent.\n",
      "  # This is added back by InteractiveShellApp.init_path()\n",
      "C:\\Users\\Dell-pc\\Anaconda3\\lib\\site-packages\\ipykernel_launcher.py:9: IntegrationWarning: The integral is probably divergent, or slowly convergent.\n",
      "  if __name__ == '__main__':\n",
      "C:\\Users\\Dell-pc\\Anaconda3\\lib\\site-packages\\ipykernel_launcher.py:11: IntegrationWarning: The integral is probably divergent, or slowly convergent.\n",
      "  # This is added back by InteractiveShellApp.init_path()\n",
      "C:\\Users\\Dell-pc\\Anaconda3\\lib\\site-packages\\ipykernel_launcher.py:9: IntegrationWarning: The integral is probably divergent, or slowly convergent.\n",
      "  if __name__ == '__main__':\n",
      "C:\\Users\\Dell-pc\\Anaconda3\\lib\\site-packages\\ipykernel_launcher.py:11: IntegrationWarning: The integral is probably divergent, or slowly convergent.\n",
      "  # This is added back by InteractiveShellApp.init_path()\n",
      "C:\\Users\\Dell-pc\\Anaconda3\\lib\\site-packages\\ipykernel_launcher.py:9: IntegrationWarning: The integral is probably divergent, or slowly convergent.\n",
      "  if __name__ == '__main__':\n",
      "C:\\Users\\Dell-pc\\Anaconda3\\lib\\site-packages\\ipykernel_launcher.py:11: IntegrationWarning: The integral is probably divergent, or slowly convergent.\n",
      "  # This is added back by InteractiveShellApp.init_path()\n",
      "C:\\Users\\Dell-pc\\Anaconda3\\lib\\site-packages\\ipykernel_launcher.py:9: IntegrationWarning: The integral is probably divergent, or slowly convergent.\n",
      "  if __name__ == '__main__':\n",
      "C:\\Users\\Dell-pc\\Anaconda3\\lib\\site-packages\\ipykernel_launcher.py:11: IntegrationWarning: The integral is probably divergent, or slowly convergent.\n",
      "  # This is added back by InteractiveShellApp.init_path()\n",
      "C:\\Users\\Dell-pc\\Anaconda3\\lib\\site-packages\\ipykernel_launcher.py:9: IntegrationWarning: The integral is probably divergent, or slowly convergent.\n",
      "  if __name__ == '__main__':\n",
      "C:\\Users\\Dell-pc\\Anaconda3\\lib\\site-packages\\ipykernel_launcher.py:11: IntegrationWarning: The integral is probably divergent, or slowly convergent.\n",
      "  # This is added back by InteractiveShellApp.init_path()\n",
      "C:\\Users\\Dell-pc\\Anaconda3\\lib\\site-packages\\ipykernel_launcher.py:9: IntegrationWarning: The integral is probably divergent, or slowly convergent.\n",
      "  if __name__ == '__main__':\n",
      "C:\\Users\\Dell-pc\\Anaconda3\\lib\\site-packages\\ipykernel_launcher.py:11: IntegrationWarning: The integral is probably divergent, or slowly convergent.\n",
      "  # This is added back by InteractiveShellApp.init_path()\n",
      "C:\\Users\\Dell-pc\\Anaconda3\\lib\\site-packages\\ipykernel_launcher.py:9: IntegrationWarning: The integral is probably divergent, or slowly convergent.\n",
      "  if __name__ == '__main__':\n",
      "C:\\Users\\Dell-pc\\Anaconda3\\lib\\site-packages\\ipykernel_launcher.py:11: IntegrationWarning: The integral is probably divergent, or slowly convergent.\n",
      "  # This is added back by InteractiveShellApp.init_path()\n",
      "C:\\Users\\Dell-pc\\Anaconda3\\lib\\site-packages\\ipykernel_launcher.py:9: IntegrationWarning: The integral is probably divergent, or slowly convergent.\n",
      "  if __name__ == '__main__':\n",
      "C:\\Users\\Dell-pc\\Anaconda3\\lib\\site-packages\\ipykernel_launcher.py:11: IntegrationWarning: The integral is probably divergent, or slowly convergent.\n",
      "  # This is added back by InteractiveShellApp.init_path()\n",
      "C:\\Users\\Dell-pc\\Anaconda3\\lib\\site-packages\\ipykernel_launcher.py:9: IntegrationWarning: The integral is probably divergent, or slowly convergent.\n",
      "  if __name__ == '__main__':\n",
      "C:\\Users\\Dell-pc\\Anaconda3\\lib\\site-packages\\ipykernel_launcher.py:11: IntegrationWarning: The integral is probably divergent, or slowly convergent.\n",
      "  # This is added back by InteractiveShellApp.init_path()\n",
      "C:\\Users\\Dell-pc\\Anaconda3\\lib\\site-packages\\ipykernel_launcher.py:9: IntegrationWarning: The integral is probably divergent, or slowly convergent.\n",
      "  if __name__ == '__main__':\n",
      "C:\\Users\\Dell-pc\\Anaconda3\\lib\\site-packages\\ipykernel_launcher.py:11: IntegrationWarning: The integral is probably divergent, or slowly convergent.\n",
      "  # This is added back by InteractiveShellApp.init_path()\n",
      "C:\\Users\\Dell-pc\\Anaconda3\\lib\\site-packages\\ipykernel_launcher.py:9: IntegrationWarning: The integral is probably divergent, or slowly convergent.\n",
      "  if __name__ == '__main__':\n",
      "C:\\Users\\Dell-pc\\Anaconda3\\lib\\site-packages\\ipykernel_launcher.py:11: IntegrationWarning: The integral is probably divergent, or slowly convergent.\n",
      "  # This is added back by InteractiveShellApp.init_path()\n",
      "C:\\Users\\Dell-pc\\Anaconda3\\lib\\site-packages\\ipykernel_launcher.py:9: IntegrationWarning: The integral is probably divergent, or slowly convergent.\n",
      "  if __name__ == '__main__':\n",
      "C:\\Users\\Dell-pc\\Anaconda3\\lib\\site-packages\\ipykernel_launcher.py:11: IntegrationWarning: The integral is probably divergent, or slowly convergent.\n",
      "  # This is added back by InteractiveShellApp.init_path()\n",
      "C:\\Users\\Dell-pc\\Anaconda3\\lib\\site-packages\\ipykernel_launcher.py:9: IntegrationWarning: The integral is probably divergent, or slowly convergent.\n",
      "  if __name__ == '__main__':\n"
     ]
    },
    {
     "name": "stdout",
     "output_type": "stream",
     "text": [
      "..............Confusion Matrix................ \n",
      "36 \t 16\n",
      "9 \t 19\n"
     ]
    },
    {
     "name": "stderr",
     "output_type": "stream",
     "text": [
      "C:\\Users\\Dell-pc\\Anaconda3\\lib\\site-packages\\ipykernel_launcher.py:11: IntegrationWarning: The integral is probably divergent, or slowly convergent.\n",
      "  # This is added back by InteractiveShellApp.init_path()\n"
     ]
    },
    {
     "data": {
      "text/plain": [
       "<matplotlib.axes._subplots.AxesSubplot at 0x2128cea6320>"
      ]
     },
     "execution_count": 942,
     "metadata": {},
     "output_type": "execute_result"
    },
    {
     "data": {
      "image/png": "[encoded data removed]",
      "text/plain": [
       "<Figure size 432x288 with 2 Axes>"
      ]
     },
     "metadata": {
      "needs_background": "light"
     },
     "output_type": "display_data"
    }
   ],
   "source": [
    "#Confusion matrix\n",
    "tp=0\n",
    "tn=0\n",
    "fp=0\n",
    "fn=0\n",
    "for i in range(len(test_set)):\n",
    "    if test_set[i][1]=='NA':\n",
    "        data1=test_set[i][0]\n",
    "        g1=quad(intergrand_disc_func1,-np.inf,np.inf,args=(data1,mean1,covariance_mat1,prior1,mean2,covariance_mat2,prior2,d))\n",
    "        g1_new=g1[0]\n",
    "        g2=quad(intergrand_disc_func2,-np.inf,np.inf,args=(data1,mean1,covariance_mat1,prior1,mean2,covariance_mat2,prior2,d))\n",
    "        g2_new=g2[0]\n",
    "        label=dichotomizer(g1_new,g2_new)\n",
    "    \n",
    "        \n",
    "        pass\n",
    "    else:\n",
    "        g1=discriminant_func(np.matrix(test_set[i]),np.matrix(mean1),np.matrix(covariance_mat1),prior1,2)\n",
    "        g2=discriminant_func(np.matrix(test_set[i]),np.matrix(mean2),np.matrix(covariance_mat2),prior2,2)\n",
    "        label=dichotomizer(g1,g2)\n",
    "    \n",
    "    \n",
    "    \n",
    "    g=label[0]\n",
    "    if g==0 and test_main_set[i]==0:\n",
    "        tp=tp+1\n",
    "        continue\n",
    "    if g==1 and test_main_set[i]==1:\n",
    "        tn=tn+1\n",
    "        continue\n",
    "    if g==0 and test_main_set[i]==1:\n",
    "        fp=fp+1\n",
    "        continue\n",
    "    if g==1 and test_main_set[i]==0:\n",
    "        fn=fn+1\n",
    "print(\"..............Confusion Matrix................ \")\n",
    "print(tp,\"\\t\",fp)\n",
    "print(fn,\"\\t\",tn)\n",
    "conf_matrix=[[],[]]\n",
    "conf_matrix[0].append(tp)\n",
    "conf_matrix[0].append(fp)\n",
    "conf_matrix[1].append(fn)\n",
    "conf_matrix[1].append(tn)\n",
    "seaborn.heatmap(conf_matrix,annot=True,fmt=\"d\")"
   ]
  },
  {
   "cell_type": "code",
   "execution_count": null,
   "metadata": {},
   "outputs": [],
   "source": [
    "# print(test_class)\n",
    "acc1=classified_metric(class_set,test_class)*100   \n",
    "print(acc1)"
   ]
  },
  {
   "cell_type": "code",
   "execution_count": null,
   "metadata": {},
   "outputs": [],
   "source": [
    "decision_boundary(test_set,test_main_set,mean1,mean2,covariance_mat1,covariance_mat2,prior1,prior2)"
   ]
  },
  {
   "cell_type": "code",
   "execution_count": 950,
   "metadata": {},
   "outputs": [
    {
     "name": "stdout",
     "output_type": "stream",
     "text": [
      "[[0, 1], [1, 0]]\n"
     ]
    },
    {
     "name": "stderr",
     "output_type": "stream",
     "text": [
      "C:\\Users\\Dell-pc\\Anaconda3\\lib\\site-packages\\ipykernel_launcher.py:17: IntegrationWarning: The integral is probably divergent, or slowly convergent.\n",
      "C:\\Users\\Dell-pc\\Anaconda3\\lib\\site-packages\\ipykernel_launcher.py:19: IntegrationWarning: The integral is probably divergent, or slowly convergent.\n",
      "C:\\Users\\Dell-pc\\Anaconda3\\lib\\site-packages\\ipykernel_launcher.py:17: IntegrationWarning: The integral is probably divergent, or slowly convergent.\n",
      "C:\\Users\\Dell-pc\\Anaconda3\\lib\\site-packages\\ipykernel_launcher.py:19: IntegrationWarning: The integral is probably divergent, or slowly convergent.\n",
      "C:\\Users\\Dell-pc\\Anaconda3\\lib\\site-packages\\ipykernel_launcher.py:17: IntegrationWarning: The integral is probably divergent, or slowly convergent.\n",
      "C:\\Users\\Dell-pc\\Anaconda3\\lib\\site-packages\\ipykernel_launcher.py:19: IntegrationWarning: The integral is probably divergent, or slowly convergent.\n",
      "C:\\Users\\Dell-pc\\Anaconda3\\lib\\site-packages\\ipykernel_launcher.py:17: IntegrationWarning: The integral is probably divergent, or slowly convergent.\n",
      "C:\\Users\\Dell-pc\\Anaconda3\\lib\\site-packages\\ipykernel_launcher.py:19: IntegrationWarning: The integral is probably divergent, or slowly convergent.\n",
      "C:\\Users\\Dell-pc\\Anaconda3\\lib\\site-packages\\ipykernel_launcher.py:17: IntegrationWarning: The integral is probably divergent, or slowly convergent.\n",
      "C:\\Users\\Dell-pc\\Anaconda3\\lib\\site-packages\\ipykernel_launcher.py:19: IntegrationWarning: The integral is probably divergent, or slowly convergent.\n",
      "C:\\Users\\Dell-pc\\Anaconda3\\lib\\site-packages\\ipykernel_launcher.py:17: IntegrationWarning: The integral is probably divergent, or slowly convergent.\n",
      "C:\\Users\\Dell-pc\\Anaconda3\\lib\\site-packages\\ipykernel_launcher.py:19: IntegrationWarning: The integral is probably divergent, or slowly convergent.\n",
      "C:\\Users\\Dell-pc\\Anaconda3\\lib\\site-packages\\ipykernel_launcher.py:17: IntegrationWarning: The integral is probably divergent, or slowly convergent.\n",
      "C:\\Users\\Dell-pc\\Anaconda3\\lib\\site-packages\\ipykernel_launcher.py:19: IntegrationWarning: The integral is probably divergent, or slowly convergent.\n",
      "C:\\Users\\Dell-pc\\Anaconda3\\lib\\site-packages\\ipykernel_launcher.py:17: IntegrationWarning: The integral is probably divergent, or slowly convergent.\n",
      "C:\\Users\\Dell-pc\\Anaconda3\\lib\\site-packages\\ipykernel_launcher.py:19: IntegrationWarning: The integral is probably divergent, or slowly convergent.\n",
      "C:\\Users\\Dell-pc\\Anaconda3\\lib\\site-packages\\ipykernel_launcher.py:17: IntegrationWarning: The integral is probably divergent, or slowly convergent.\n",
      "C:\\Users\\Dell-pc\\Anaconda3\\lib\\site-packages\\ipykernel_launcher.py:19: IntegrationWarning: The integral is probably divergent, or slowly convergent.\n",
      "C:\\Users\\Dell-pc\\Anaconda3\\lib\\site-packages\\ipykernel_launcher.py:17: IntegrationWarning: The integral is probably divergent, or slowly convergent.\n",
      "C:\\Users\\Dell-pc\\Anaconda3\\lib\\site-packages\\ipykernel_launcher.py:19: IntegrationWarning: The integral is probably divergent, or slowly convergent.\n",
      "C:\\Users\\Dell-pc\\Anaconda3\\lib\\site-packages\\ipykernel_launcher.py:17: IntegrationWarning: The integral is probably divergent, or slowly convergent.\n",
      "C:\\Users\\Dell-pc\\Anaconda3\\lib\\site-packages\\ipykernel_launcher.py:19: IntegrationWarning: The integral is probably divergent, or slowly convergent.\n",
      "C:\\Users\\Dell-pc\\Anaconda3\\lib\\site-packages\\ipykernel_launcher.py:17: IntegrationWarning: The integral is probably divergent, or slowly convergent.\n",
      "C:\\Users\\Dell-pc\\Anaconda3\\lib\\site-packages\\ipykernel_launcher.py:19: IntegrationWarning: The integral is probably divergent, or slowly convergent.\n",
      "C:\\Users\\Dell-pc\\Anaconda3\\lib\\site-packages\\ipykernel_launcher.py:17: IntegrationWarning: The integral is probably divergent, or slowly convergent.\n",
      "C:\\Users\\Dell-pc\\Anaconda3\\lib\\site-packages\\ipykernel_launcher.py:19: IntegrationWarning: The integral is probably divergent, or slowly convergent.\n",
      "C:\\Users\\Dell-pc\\Anaconda3\\lib\\site-packages\\ipykernel_launcher.py:17: IntegrationWarning: The integral is probably divergent, or slowly convergent.\n",
      "C:\\Users\\Dell-pc\\Anaconda3\\lib\\site-packages\\ipykernel_launcher.py:19: IntegrationWarning: The integral is probably divergent, or slowly convergent.\n",
      "C:\\Users\\Dell-pc\\Anaconda3\\lib\\site-packages\\ipykernel_launcher.py:17: IntegrationWarning: The integral is probably divergent, or slowly convergent.\n",
      "C:\\Users\\Dell-pc\\Anaconda3\\lib\\site-packages\\ipykernel_launcher.py:19: IntegrationWarning: The integral is probably divergent, or slowly convergent.\n",
      "C:\\Users\\Dell-pc\\Anaconda3\\lib\\site-packages\\ipykernel_launcher.py:17: IntegrationWarning: The integral is probably divergent, or slowly convergent.\n",
      "C:\\Users\\Dell-pc\\Anaconda3\\lib\\site-packages\\ipykernel_launcher.py:19: IntegrationWarning: The integral is probably divergent, or slowly convergent.\n",
      "C:\\Users\\Dell-pc\\Anaconda3\\lib\\site-packages\\ipykernel_launcher.py:17: IntegrationWarning: The integral is probably divergent, or slowly convergent.\n",
      "C:\\Users\\Dell-pc\\Anaconda3\\lib\\site-packages\\ipykernel_launcher.py:19: IntegrationWarning: The integral is probably divergent, or slowly convergent.\n",
      "C:\\Users\\Dell-pc\\Anaconda3\\lib\\site-packages\\ipykernel_launcher.py:17: IntegrationWarning: The integral is probably divergent, or slowly convergent.\n",
      "C:\\Users\\Dell-pc\\Anaconda3\\lib\\site-packages\\ipykernel_launcher.py:19: IntegrationWarning: The integral is probably divergent, or slowly convergent.\n",
      "C:\\Users\\Dell-pc\\Anaconda3\\lib\\site-packages\\ipykernel_launcher.py:17: IntegrationWarning: The integral is probably divergent, or slowly convergent.\n",
      "C:\\Users\\Dell-pc\\Anaconda3\\lib\\site-packages\\ipykernel_launcher.py:19: IntegrationWarning: The integral is probably divergent, or slowly convergent.\n",
      "C:\\Users\\Dell-pc\\Anaconda3\\lib\\site-packages\\ipykernel_launcher.py:17: IntegrationWarning: The integral is probably divergent, or slowly convergent.\n",
      "C:\\Users\\Dell-pc\\Anaconda3\\lib\\site-packages\\ipykernel_launcher.py:19: IntegrationWarning: The integral is probably divergent, or slowly convergent.\n",
      "C:\\Users\\Dell-pc\\Anaconda3\\lib\\site-packages\\ipykernel_launcher.py:17: IntegrationWarning: The integral is probably divergent, or slowly convergent.\n",
      "C:\\Users\\Dell-pc\\Anaconda3\\lib\\site-packages\\ipykernel_launcher.py:19: IntegrationWarning: The integral is probably divergent, or slowly convergent.\n"
     ]
    },
    {
     "name": "stdout",
     "output_type": "stream",
     "text": [
      "Accuracy  80  :  68.75\n"
     ]
    },
    {
     "name": "stderr",
     "output_type": "stream",
     "text": [
      "C:\\Users\\Dell-pc\\Anaconda3\\lib\\site-packages\\ipykernel_launcher.py:61: IntegrationWarning: The integral is probably divergent, or slowly convergent.\n",
      "C:\\Users\\Dell-pc\\Anaconda3\\lib\\site-packages\\ipykernel_launcher.py:63: IntegrationWarning: The integral is probably divergent, or slowly convergent.\n",
      "C:\\Users\\Dell-pc\\Anaconda3\\lib\\site-packages\\ipykernel_launcher.py:61: IntegrationWarning: The integral is probably divergent, or slowly convergent.\n",
      "C:\\Users\\Dell-pc\\Anaconda3\\lib\\site-packages\\ipykernel_launcher.py:63: IntegrationWarning: The integral is probably divergent, or slowly convergent.\n",
      "C:\\Users\\Dell-pc\\Anaconda3\\lib\\site-packages\\ipykernel_launcher.py:61: IntegrationWarning: The integral is probably divergent, or slowly convergent.\n",
      "C:\\Users\\Dell-pc\\Anaconda3\\lib\\site-packages\\ipykernel_launcher.py:63: IntegrationWarning: The integral is probably divergent, or slowly convergent.\n",
      "C:\\Users\\Dell-pc\\Anaconda3\\lib\\site-packages\\ipykernel_launcher.py:61: IntegrationWarning: The integral is probably divergent, or slowly convergent.\n",
      "C:\\Users\\Dell-pc\\Anaconda3\\lib\\site-packages\\ipykernel_launcher.py:63: IntegrationWarning: The integral is probably divergent, or slowly convergent.\n",
      "C:\\Users\\Dell-pc\\Anaconda3\\lib\\site-packages\\ipykernel_launcher.py:61: IntegrationWarning: The integral is probably divergent, or slowly convergent.\n",
      "C:\\Users\\Dell-pc\\Anaconda3\\lib\\site-packages\\ipykernel_launcher.py:63: IntegrationWarning: The integral is probably divergent, or slowly convergent.\n",
      "C:\\Users\\Dell-pc\\Anaconda3\\lib\\site-packages\\ipykernel_launcher.py:61: IntegrationWarning: The integral is probably divergent, or slowly convergent.\n",
      "C:\\Users\\Dell-pc\\Anaconda3\\lib\\site-packages\\ipykernel_launcher.py:63: IntegrationWarning: The integral is probably divergent, or slowly convergent.\n",
      "C:\\Users\\Dell-pc\\Anaconda3\\lib\\site-packages\\ipykernel_launcher.py:61: IntegrationWarning: The integral is probably divergent, or slowly convergent.\n",
      "C:\\Users\\Dell-pc\\Anaconda3\\lib\\site-packages\\ipykernel_launcher.py:63: IntegrationWarning: The integral is probably divergent, or slowly convergent.\n",
      "C:\\Users\\Dell-pc\\Anaconda3\\lib\\site-packages\\ipykernel_launcher.py:61: IntegrationWarning: The integral is probably divergent, or slowly convergent.\n",
      "C:\\Users\\Dell-pc\\Anaconda3\\lib\\site-packages\\ipykernel_launcher.py:63: IntegrationWarning: The integral is probably divergent, or slowly convergent.\n",
      "C:\\Users\\Dell-pc\\Anaconda3\\lib\\site-packages\\ipykernel_launcher.py:61: IntegrationWarning: The integral is probably divergent, or slowly convergent.\n",
      "C:\\Users\\Dell-pc\\Anaconda3\\lib\\site-packages\\ipykernel_launcher.py:63: IntegrationWarning: The integral is probably divergent, or slowly convergent.\n",
      "C:\\Users\\Dell-pc\\Anaconda3\\lib\\site-packages\\ipykernel_launcher.py:61: IntegrationWarning: The integral is probably divergent, or slowly convergent.\n",
      "C:\\Users\\Dell-pc\\Anaconda3\\lib\\site-packages\\ipykernel_launcher.py:63: IntegrationWarning: The integral is probably divergent, or slowly convergent.\n",
      "C:\\Users\\Dell-pc\\Anaconda3\\lib\\site-packages\\ipykernel_launcher.py:61: IntegrationWarning: The integral is probably divergent, or slowly convergent.\n",
      "C:\\Users\\Dell-pc\\Anaconda3\\lib\\site-packages\\ipykernel_launcher.py:63: IntegrationWarning: The integral is probably divergent, or slowly convergent.\n",
      "C:\\Users\\Dell-pc\\Anaconda3\\lib\\site-packages\\ipykernel_launcher.py:61: IntegrationWarning: The integral is probably divergent, or slowly convergent.\n",
      "C:\\Users\\Dell-pc\\Anaconda3\\lib\\site-packages\\ipykernel_launcher.py:63: IntegrationWarning: The integral is probably divergent, or slowly convergent.\n",
      "C:\\Users\\Dell-pc\\Anaconda3\\lib\\site-packages\\ipykernel_launcher.py:61: IntegrationWarning: The integral is probably divergent, or slowly convergent.\n",
      "C:\\Users\\Dell-pc\\Anaconda3\\lib\\site-packages\\ipykernel_launcher.py:63: IntegrationWarning: The integral is probably divergent, or slowly convergent.\n",
      "C:\\Users\\Dell-pc\\Anaconda3\\lib\\site-packages\\ipykernel_launcher.py:61: IntegrationWarning: The integral is probably divergent, or slowly convergent.\n",
      "C:\\Users\\Dell-pc\\Anaconda3\\lib\\site-packages\\ipykernel_launcher.py:63: IntegrationWarning: The integral is probably divergent, or slowly convergent.\n",
      "C:\\Users\\Dell-pc\\Anaconda3\\lib\\site-packages\\ipykernel_launcher.py:61: IntegrationWarning: The integral is probably divergent, or slowly convergent.\n",
      "C:\\Users\\Dell-pc\\Anaconda3\\lib\\site-packages\\ipykernel_launcher.py:63: IntegrationWarning: The integral is probably divergent, or slowly convergent.\n",
      "C:\\Users\\Dell-pc\\Anaconda3\\lib\\site-packages\\ipykernel_launcher.py:61: IntegrationWarning: The integral is probably divergent, or slowly convergent.\n",
      "C:\\Users\\Dell-pc\\Anaconda3\\lib\\site-packages\\ipykernel_launcher.py:63: IntegrationWarning: The integral is probably divergent, or slowly convergent.\n",
      "C:\\Users\\Dell-pc\\Anaconda3\\lib\\site-packages\\ipykernel_launcher.py:61: IntegrationWarning: The integral is probably divergent, or slowly convergent.\n",
      "C:\\Users\\Dell-pc\\Anaconda3\\lib\\site-packages\\ipykernel_launcher.py:63: IntegrationWarning: The integral is probably divergent, or slowly convergent.\n",
      "C:\\Users\\Dell-pc\\Anaconda3\\lib\\site-packages\\ipykernel_launcher.py:61: IntegrationWarning: The integral is probably divergent, or slowly convergent.\n",
      "C:\\Users\\Dell-pc\\Anaconda3\\lib\\site-packages\\ipykernel_launcher.py:63: IntegrationWarning: The integral is probably divergent, or slowly convergent.\n",
      "C:\\Users\\Dell-pc\\Anaconda3\\lib\\site-packages\\ipykernel_launcher.py:61: IntegrationWarning: The integral is probably divergent, or slowly convergent.\n",
      "C:\\Users\\Dell-pc\\Anaconda3\\lib\\site-packages\\ipykernel_launcher.py:63: IntegrationWarning: The integral is probably divergent, or slowly convergent.\n",
      "C:\\Users\\Dell-pc\\Anaconda3\\lib\\site-packages\\ipykernel_launcher.py:61: IntegrationWarning: The integral is probably divergent, or slowly convergent.\n",
      "C:\\Users\\Dell-pc\\Anaconda3\\lib\\site-packages\\ipykernel_launcher.py:63: IntegrationWarning: The integral is probably divergent, or slowly convergent.\n",
      "C:\\Users\\Dell-pc\\Anaconda3\\lib\\site-packages\\ipykernel_launcher.py:61: IntegrationWarning: The integral is probably divergent, or slowly convergent.\n"
     ]
    },
    {
     "name": "stdout",
     "output_type": "stream",
     "text": [
      "..............Confusion Matrix................ \n",
      "36 \t 16\n",
      "9 \t 19\n"
     ]
    },
    {
     "name": "stderr",
     "output_type": "stream",
     "text": [
      "C:\\Users\\Dell-pc\\Anaconda3\\lib\\site-packages\\ipykernel_launcher.py:63: IntegrationWarning: The integral is probably divergent, or slowly convergent.\n"
     ]
    },
    {
     "data": {
      "image/png": "[encoded data removed]",
      "text/plain": [
       "<Figure size 432x288 with 2 Axes>"
      ]
     },
     "metadata": {
      "needs_background": "light"
     },
     "output_type": "display_data"
    },
    {
     "name": "stdout",
     "output_type": "stream",
     "text": [
      "[[1, 0], [0, 1]]\n"
     ]
    },
    {
     "name": "stderr",
     "output_type": "stream",
     "text": [
      "C:\\Users\\Dell-pc\\Anaconda3\\lib\\site-packages\\ipykernel_launcher.py:17: IntegrationWarning: The integral is probably divergent, or slowly convergent.\n",
      "C:\\Users\\Dell-pc\\Anaconda3\\lib\\site-packages\\ipykernel_launcher.py:19: IntegrationWarning: The integral is probably divergent, or slowly convergent.\n",
      "C:\\Users\\Dell-pc\\Anaconda3\\lib\\site-packages\\ipykernel_launcher.py:17: IntegrationWarning: The integral is probably divergent, or slowly convergent.\n",
      "C:\\Users\\Dell-pc\\Anaconda3\\lib\\site-packages\\ipykernel_launcher.py:19: IntegrationWarning: The integral is probably divergent, or slowly convergent.\n",
      "C:\\Users\\Dell-pc\\Anaconda3\\lib\\site-packages\\ipykernel_launcher.py:17: IntegrationWarning: The integral is probably divergent, or slowly convergent.\n",
      "C:\\Users\\Dell-pc\\Anaconda3\\lib\\site-packages\\ipykernel_launcher.py:19: IntegrationWarning: The integral is probably divergent, or slowly convergent.\n",
      "C:\\Users\\Dell-pc\\Anaconda3\\lib\\site-packages\\ipykernel_launcher.py:17: IntegrationWarning: The integral is probably divergent, or slowly convergent.\n",
      "C:\\Users\\Dell-pc\\Anaconda3\\lib\\site-packages\\ipykernel_launcher.py:19: IntegrationWarning: The integral is probably divergent, or slowly convergent.\n",
      "C:\\Users\\Dell-pc\\Anaconda3\\lib\\site-packages\\ipykernel_launcher.py:17: IntegrationWarning: The integral is probably divergent, or slowly convergent.\n",
      "C:\\Users\\Dell-pc\\Anaconda3\\lib\\site-packages\\ipykernel_launcher.py:19: IntegrationWarning: The integral is probably divergent, or slowly convergent.\n",
      "C:\\Users\\Dell-pc\\Anaconda3\\lib\\site-packages\\ipykernel_launcher.py:17: IntegrationWarning: The integral is probably divergent, or slowly convergent.\n",
      "C:\\Users\\Dell-pc\\Anaconda3\\lib\\site-packages\\ipykernel_launcher.py:19: IntegrationWarning: The integral is probably divergent, or slowly convergent.\n",
      "C:\\Users\\Dell-pc\\Anaconda3\\lib\\site-packages\\ipykernel_launcher.py:17: IntegrationWarning: The integral is probably divergent, or slowly convergent.\n",
      "C:\\Users\\Dell-pc\\Anaconda3\\lib\\site-packages\\ipykernel_launcher.py:19: IntegrationWarning: The integral is probably divergent, or slowly convergent.\n",
      "C:\\Users\\Dell-pc\\Anaconda3\\lib\\site-packages\\ipykernel_launcher.py:17: IntegrationWarning: The integral is probably divergent, or slowly convergent.\n",
      "C:\\Users\\Dell-pc\\Anaconda3\\lib\\site-packages\\ipykernel_launcher.py:19: IntegrationWarning: The integral is probably divergent, or slowly convergent.\n",
      "C:\\Users\\Dell-pc\\Anaconda3\\lib\\site-packages\\ipykernel_launcher.py:17: IntegrationWarning: The integral is probably divergent, or slowly convergent.\n",
      "C:\\Users\\Dell-pc\\Anaconda3\\lib\\site-packages\\ipykernel_launcher.py:19: IntegrationWarning: The integral is probably divergent, or slowly convergent.\n",
      "C:\\Users\\Dell-pc\\Anaconda3\\lib\\site-packages\\ipykernel_launcher.py:17: IntegrationWarning: The integral is probably divergent, or slowly convergent.\n",
      "C:\\Users\\Dell-pc\\Anaconda3\\lib\\site-packages\\ipykernel_launcher.py:19: IntegrationWarning: The integral is probably divergent, or slowly convergent.\n",
      "C:\\Users\\Dell-pc\\Anaconda3\\lib\\site-packages\\ipykernel_launcher.py:17: IntegrationWarning: The integral is probably divergent, or slowly convergent.\n",
      "C:\\Users\\Dell-pc\\Anaconda3\\lib\\site-packages\\ipykernel_launcher.py:19: IntegrationWarning: The integral is probably divergent, or slowly convergent.\n",
      "C:\\Users\\Dell-pc\\Anaconda3\\lib\\site-packages\\ipykernel_launcher.py:17: IntegrationWarning: The integral is probably divergent, or slowly convergent.\n",
      "C:\\Users\\Dell-pc\\Anaconda3\\lib\\site-packages\\ipykernel_launcher.py:19: IntegrationWarning: The integral is probably divergent, or slowly convergent.\n",
      "C:\\Users\\Dell-pc\\Anaconda3\\lib\\site-packages\\ipykernel_launcher.py:17: IntegrationWarning: The integral is probably divergent, or slowly convergent.\n",
      "C:\\Users\\Dell-pc\\Anaconda3\\lib\\site-packages\\ipykernel_launcher.py:19: IntegrationWarning: The integral is probably divergent, or slowly convergent.\n",
      "C:\\Users\\Dell-pc\\Anaconda3\\lib\\site-packages\\ipykernel_launcher.py:17: IntegrationWarning: The integral is probably divergent, or slowly convergent.\n",
      "C:\\Users\\Dell-pc\\Anaconda3\\lib\\site-packages\\ipykernel_launcher.py:19: IntegrationWarning: The integral is probably divergent, or slowly convergent.\n",
      "C:\\Users\\Dell-pc\\Anaconda3\\lib\\site-packages\\ipykernel_launcher.py:17: IntegrationWarning: The integral is probably divergent, or slowly convergent.\n",
      "C:\\Users\\Dell-pc\\Anaconda3\\lib\\site-packages\\ipykernel_launcher.py:19: IntegrationWarning: The integral is probably divergent, or slowly convergent.\n",
      "C:\\Users\\Dell-pc\\Anaconda3\\lib\\site-packages\\ipykernel_launcher.py:17: IntegrationWarning: The integral is probably divergent, or slowly convergent.\n",
      "C:\\Users\\Dell-pc\\Anaconda3\\lib\\site-packages\\ipykernel_launcher.py:19: IntegrationWarning: The integral is probably divergent, or slowly convergent.\n",
      "C:\\Users\\Dell-pc\\Anaconda3\\lib\\site-packages\\ipykernel_launcher.py:17: IntegrationWarning: The integral is probably divergent, or slowly convergent.\n",
      "C:\\Users\\Dell-pc\\Anaconda3\\lib\\site-packages\\ipykernel_launcher.py:19: IntegrationWarning: The integral is probably divergent, or slowly convergent.\n",
      "C:\\Users\\Dell-pc\\Anaconda3\\lib\\site-packages\\ipykernel_launcher.py:17: IntegrationWarning: The integral is probably divergent, or slowly convergent.\n",
      "C:\\Users\\Dell-pc\\Anaconda3\\lib\\site-packages\\ipykernel_launcher.py:19: IntegrationWarning: The integral is probably divergent, or slowly convergent.\n",
      "C:\\Users\\Dell-pc\\Anaconda3\\lib\\site-packages\\ipykernel_launcher.py:17: IntegrationWarning: The integral is probably divergent, or slowly convergent.\n",
      "C:\\Users\\Dell-pc\\Anaconda3\\lib\\site-packages\\ipykernel_launcher.py:19: IntegrationWarning: The integral is probably divergent, or slowly convergent.\n",
      "C:\\Users\\Dell-pc\\Anaconda3\\lib\\site-packages\\ipykernel_launcher.py:17: IntegrationWarning: The integral is probably divergent, or slowly convergent.\n",
      "C:\\Users\\Dell-pc\\Anaconda3\\lib\\site-packages\\ipykernel_launcher.py:19: IntegrationWarning: The integral is probably divergent, or slowly convergent.\n",
      "C:\\Users\\Dell-pc\\Anaconda3\\lib\\site-packages\\ipykernel_launcher.py:17: IntegrationWarning: The integral is probably divergent, or slowly convergent.\n",
      "C:\\Users\\Dell-pc\\Anaconda3\\lib\\site-packages\\ipykernel_launcher.py:19: IntegrationWarning: The integral is probably divergent, or slowly convergent.\n"
     ]
    },
    {
     "name": "stdout",
     "output_type": "stream",
     "text": [
      "Accuracy  80  :  31.25\n"
     ]
    },
    {
     "name": "stderr",
     "output_type": "stream",
     "text": [
      "C:\\Users\\Dell-pc\\Anaconda3\\lib\\site-packages\\ipykernel_launcher.py:61: IntegrationWarning: The integral is probably divergent, or slowly convergent.\n",
      "C:\\Users\\Dell-pc\\Anaconda3\\lib\\site-packages\\ipykernel_launcher.py:63: IntegrationWarning: The integral is probably divergent, or slowly convergent.\n",
      "C:\\Users\\Dell-pc\\Anaconda3\\lib\\site-packages\\ipykernel_launcher.py:61: IntegrationWarning: The integral is probably divergent, or slowly convergent.\n",
      "C:\\Users\\Dell-pc\\Anaconda3\\lib\\site-packages\\ipykernel_launcher.py:63: IntegrationWarning: The integral is probably divergent, or slowly convergent.\n",
      "C:\\Users\\Dell-pc\\Anaconda3\\lib\\site-packages\\ipykernel_launcher.py:61: IntegrationWarning: The integral is probably divergent, or slowly convergent.\n",
      "C:\\Users\\Dell-pc\\Anaconda3\\lib\\site-packages\\ipykernel_launcher.py:63: IntegrationWarning: The integral is probably divergent, or slowly convergent.\n",
      "C:\\Users\\Dell-pc\\Anaconda3\\lib\\site-packages\\ipykernel_launcher.py:61: IntegrationWarning: The integral is probably divergent, or slowly convergent.\n",
      "C:\\Users\\Dell-pc\\Anaconda3\\lib\\site-packages\\ipykernel_launcher.py:63: IntegrationWarning: The integral is probably divergent, or slowly convergent.\n",
      "C:\\Users\\Dell-pc\\Anaconda3\\lib\\site-packages\\ipykernel_launcher.py:61: IntegrationWarning: The integral is probably divergent, or slowly convergent.\n",
      "C:\\Users\\Dell-pc\\Anaconda3\\lib\\site-packages\\ipykernel_launcher.py:63: IntegrationWarning: The integral is probably divergent, or slowly convergent.\n",
      "C:\\Users\\Dell-pc\\Anaconda3\\lib\\site-packages\\ipykernel_launcher.py:61: IntegrationWarning: The integral is probably divergent, or slowly convergent.\n",
      "C:\\Users\\Dell-pc\\Anaconda3\\lib\\site-packages\\ipykernel_launcher.py:63: IntegrationWarning: The integral is probably divergent, or slowly convergent.\n",
      "C:\\Users\\Dell-pc\\Anaconda3\\lib\\site-packages\\ipykernel_launcher.py:61: IntegrationWarning: The integral is probably divergent, or slowly convergent.\n",
      "C:\\Users\\Dell-pc\\Anaconda3\\lib\\site-packages\\ipykernel_launcher.py:63: IntegrationWarning: The integral is probably divergent, or slowly convergent.\n",
      "C:\\Users\\Dell-pc\\Anaconda3\\lib\\site-packages\\ipykernel_launcher.py:61: IntegrationWarning: The integral is probably divergent, or slowly convergent.\n",
      "C:\\Users\\Dell-pc\\Anaconda3\\lib\\site-packages\\ipykernel_launcher.py:63: IntegrationWarning: The integral is probably divergent, or slowly convergent.\n",
      "C:\\Users\\Dell-pc\\Anaconda3\\lib\\site-packages\\ipykernel_launcher.py:61: IntegrationWarning: The integral is probably divergent, or slowly convergent.\n",
      "C:\\Users\\Dell-pc\\Anaconda3\\lib\\site-packages\\ipykernel_launcher.py:63: IntegrationWarning: The integral is probably divergent, or slowly convergent.\n",
      "C:\\Users\\Dell-pc\\Anaconda3\\lib\\site-packages\\ipykernel_launcher.py:61: IntegrationWarning: The integral is probably divergent, or slowly convergent.\n",
      "C:\\Users\\Dell-pc\\Anaconda3\\lib\\site-packages\\ipykernel_launcher.py:63: IntegrationWarning: The integral is probably divergent, or slowly convergent.\n",
      "C:\\Users\\Dell-pc\\Anaconda3\\lib\\site-packages\\ipykernel_launcher.py:61: IntegrationWarning: The integral is probably divergent, or slowly convergent.\n",
      "C:\\Users\\Dell-pc\\Anaconda3\\lib\\site-packages\\ipykernel_launcher.py:63: IntegrationWarning: The integral is probably divergent, or slowly convergent.\n",
      "C:\\Users\\Dell-pc\\Anaconda3\\lib\\site-packages\\ipykernel_launcher.py:61: IntegrationWarning: The integral is probably divergent, or slowly convergent.\n",
      "C:\\Users\\Dell-pc\\Anaconda3\\lib\\site-packages\\ipykernel_launcher.py:63: IntegrationWarning: The integral is probably divergent, or slowly convergent.\n",
      "C:\\Users\\Dell-pc\\Anaconda3\\lib\\site-packages\\ipykernel_launcher.py:61: IntegrationWarning: The integral is probably divergent, or slowly convergent.\n",
      "C:\\Users\\Dell-pc\\Anaconda3\\lib\\site-packages\\ipykernel_launcher.py:63: IntegrationWarning: The integral is probably divergent, or slowly convergent.\n",
      "C:\\Users\\Dell-pc\\Anaconda3\\lib\\site-packages\\ipykernel_launcher.py:61: IntegrationWarning: The integral is probably divergent, or slowly convergent.\n",
      "C:\\Users\\Dell-pc\\Anaconda3\\lib\\site-packages\\ipykernel_launcher.py:63: IntegrationWarning: The integral is probably divergent, or slowly convergent.\n",
      "C:\\Users\\Dell-pc\\Anaconda3\\lib\\site-packages\\ipykernel_launcher.py:61: IntegrationWarning: The integral is probably divergent, or slowly convergent.\n",
      "C:\\Users\\Dell-pc\\Anaconda3\\lib\\site-packages\\ipykernel_launcher.py:63: IntegrationWarning: The integral is probably divergent, or slowly convergent.\n",
      "C:\\Users\\Dell-pc\\Anaconda3\\lib\\site-packages\\ipykernel_launcher.py:61: IntegrationWarning: The integral is probably divergent, or slowly convergent.\n",
      "C:\\Users\\Dell-pc\\Anaconda3\\lib\\site-packages\\ipykernel_launcher.py:63: IntegrationWarning: The integral is probably divergent, or slowly convergent.\n",
      "C:\\Users\\Dell-pc\\Anaconda3\\lib\\site-packages\\ipykernel_launcher.py:61: IntegrationWarning: The integral is probably divergent, or slowly convergent.\n",
      "C:\\Users\\Dell-pc\\Anaconda3\\lib\\site-packages\\ipykernel_launcher.py:63: IntegrationWarning: The integral is probably divergent, or slowly convergent.\n",
      "C:\\Users\\Dell-pc\\Anaconda3\\lib\\site-packages\\ipykernel_launcher.py:61: IntegrationWarning: The integral is probably divergent, or slowly convergent.\n",
      "C:\\Users\\Dell-pc\\Anaconda3\\lib\\site-packages\\ipykernel_launcher.py:63: IntegrationWarning: The integral is probably divergent, or slowly convergent.\n",
      "C:\\Users\\Dell-pc\\Anaconda3\\lib\\site-packages\\ipykernel_launcher.py:61: IntegrationWarning: The integral is probably divergent, or slowly convergent.\n",
      "C:\\Users\\Dell-pc\\Anaconda3\\lib\\site-packages\\ipykernel_launcher.py:63: IntegrationWarning: The integral is probably divergent, or slowly convergent.\n",
      "C:\\Users\\Dell-pc\\Anaconda3\\lib\\site-packages\\ipykernel_launcher.py:61: IntegrationWarning: The integral is probably divergent, or slowly convergent.\n",
      "C:\\Users\\Dell-pc\\Anaconda3\\lib\\site-packages\\ipykernel_launcher.py:63: IntegrationWarning: The integral is probably divergent, or slowly convergent.\n",
      "C:\\Users\\Dell-pc\\Anaconda3\\lib\\site-packages\\ipykernel_launcher.py:61: IntegrationWarning: The integral is probably divergent, or slowly convergent.\n",
      "C:\\Users\\Dell-pc\\Anaconda3\\lib\\site-packages\\ipykernel_launcher.py:63: IntegrationWarning: The integral is probably divergent, or slowly convergent.\n"
     ]
    },
    {
     "name": "stdout",
     "output_type": "stream",
     "text": [
      "..............Confusion Matrix................ \n",
      "36 \t 16\n",
      "9 \t 19\n"
     ]
    },
    {
     "data": {
      "image/png": "[encoded data removed]",
      "text/plain": [
       "<Figure size 432x288 with 2 Axes>"
      ]
     },
     "metadata": {
      "needs_background": "light"
     },
     "output_type": "display_data"
    },
    {
     "name": "stdout",
     "output_type": "stream",
     "text": [
      "[[1000, 1000], [0, 0]]\n"
     ]
    },
    {
     "name": "stderr",
     "output_type": "stream",
     "text": [
      "C:\\Users\\Dell-pc\\Anaconda3\\lib\\site-packages\\ipykernel_launcher.py:17: IntegrationWarning: The integral is probably divergent, or slowly convergent.\n",
      "C:\\Users\\Dell-pc\\Anaconda3\\lib\\site-packages\\ipykernel_launcher.py:19: IntegrationWarning: The integral is probably divergent, or slowly convergent.\n",
      "C:\\Users\\Dell-pc\\Anaconda3\\lib\\site-packages\\ipykernel_launcher.py:17: IntegrationWarning: The integral is probably divergent, or slowly convergent.\n",
      "C:\\Users\\Dell-pc\\Anaconda3\\lib\\site-packages\\ipykernel_launcher.py:19: IntegrationWarning: The integral is probably divergent, or slowly convergent.\n",
      "C:\\Users\\Dell-pc\\Anaconda3\\lib\\site-packages\\ipykernel_launcher.py:17: IntegrationWarning: The integral is probably divergent, or slowly convergent.\n",
      "C:\\Users\\Dell-pc\\Anaconda3\\lib\\site-packages\\ipykernel_launcher.py:19: IntegrationWarning: The integral is probably divergent, or slowly convergent.\n",
      "C:\\Users\\Dell-pc\\Anaconda3\\lib\\site-packages\\ipykernel_launcher.py:17: IntegrationWarning: The integral is probably divergent, or slowly convergent.\n",
      "C:\\Users\\Dell-pc\\Anaconda3\\lib\\site-packages\\ipykernel_launcher.py:19: IntegrationWarning: The integral is probably divergent, or slowly convergent.\n",
      "C:\\Users\\Dell-pc\\Anaconda3\\lib\\site-packages\\ipykernel_launcher.py:17: IntegrationWarning: The integral is probably divergent, or slowly convergent.\n",
      "C:\\Users\\Dell-pc\\Anaconda3\\lib\\site-packages\\ipykernel_launcher.py:19: IntegrationWarning: The integral is probably divergent, or slowly convergent.\n",
      "C:\\Users\\Dell-pc\\Anaconda3\\lib\\site-packages\\ipykernel_launcher.py:17: IntegrationWarning: The integral is probably divergent, or slowly convergent.\n",
      "C:\\Users\\Dell-pc\\Anaconda3\\lib\\site-packages\\ipykernel_launcher.py:19: IntegrationWarning: The integral is probably divergent, or slowly convergent.\n",
      "C:\\Users\\Dell-pc\\Anaconda3\\lib\\site-packages\\ipykernel_launcher.py:17: IntegrationWarning: The integral is probably divergent, or slowly convergent.\n",
      "C:\\Users\\Dell-pc\\Anaconda3\\lib\\site-packages\\ipykernel_launcher.py:19: IntegrationWarning: The integral is probably divergent, or slowly convergent.\n",
      "C:\\Users\\Dell-pc\\Anaconda3\\lib\\site-packages\\ipykernel_launcher.py:17: IntegrationWarning: The integral is probably divergent, or slowly convergent.\n",
      "C:\\Users\\Dell-pc\\Anaconda3\\lib\\site-packages\\ipykernel_launcher.py:19: IntegrationWarning: The integral is probably divergent, or slowly convergent.\n",
      "C:\\Users\\Dell-pc\\Anaconda3\\lib\\site-packages\\ipykernel_launcher.py:17: IntegrationWarning: The integral is probably divergent, or slowly convergent.\n",
      "C:\\Users\\Dell-pc\\Anaconda3\\lib\\site-packages\\ipykernel_launcher.py:19: IntegrationWarning: The integral is probably divergent, or slowly convergent.\n",
      "C:\\Users\\Dell-pc\\Anaconda3\\lib\\site-packages\\ipykernel_launcher.py:17: IntegrationWarning: The integral is probably divergent, or slowly convergent.\n",
      "C:\\Users\\Dell-pc\\Anaconda3\\lib\\site-packages\\ipykernel_launcher.py:19: IntegrationWarning: The integral is probably divergent, or slowly convergent.\n",
      "C:\\Users\\Dell-pc\\Anaconda3\\lib\\site-packages\\ipykernel_launcher.py:17: IntegrationWarning: The integral is probably divergent, or slowly convergent.\n",
      "C:\\Users\\Dell-pc\\Anaconda3\\lib\\site-packages\\ipykernel_launcher.py:19: IntegrationWarning: The integral is probably divergent, or slowly convergent.\n",
      "C:\\Users\\Dell-pc\\Anaconda3\\lib\\site-packages\\ipykernel_launcher.py:17: IntegrationWarning: The integral is probably divergent, or slowly convergent.\n",
      "C:\\Users\\Dell-pc\\Anaconda3\\lib\\site-packages\\ipykernel_launcher.py:19: IntegrationWarning: The integral is probably divergent, or slowly convergent.\n",
      "C:\\Users\\Dell-pc\\Anaconda3\\lib\\site-packages\\ipykernel_launcher.py:17: IntegrationWarning: The integral is probably divergent, or slowly convergent.\n",
      "C:\\Users\\Dell-pc\\Anaconda3\\lib\\site-packages\\ipykernel_launcher.py:19: IntegrationWarning: The integral is probably divergent, or slowly convergent.\n",
      "C:\\Users\\Dell-pc\\Anaconda3\\lib\\site-packages\\ipykernel_launcher.py:17: IntegrationWarning: The integral is probably divergent, or slowly convergent.\n",
      "C:\\Users\\Dell-pc\\Anaconda3\\lib\\site-packages\\ipykernel_launcher.py:19: IntegrationWarning: The integral is probably divergent, or slowly convergent.\n",
      "C:\\Users\\Dell-pc\\Anaconda3\\lib\\site-packages\\ipykernel_launcher.py:17: IntegrationWarning: The integral is probably divergent, or slowly convergent.\n",
      "C:\\Users\\Dell-pc\\Anaconda3\\lib\\site-packages\\ipykernel_launcher.py:19: IntegrationWarning: The integral is probably divergent, or slowly convergent.\n",
      "C:\\Users\\Dell-pc\\Anaconda3\\lib\\site-packages\\ipykernel_launcher.py:17: IntegrationWarning: The integral is probably divergent, or slowly convergent.\n",
      "C:\\Users\\Dell-pc\\Anaconda3\\lib\\site-packages\\ipykernel_launcher.py:19: IntegrationWarning: The integral is probably divergent, or slowly convergent.\n",
      "C:\\Users\\Dell-pc\\Anaconda3\\lib\\site-packages\\ipykernel_launcher.py:17: IntegrationWarning: The integral is probably divergent, or slowly convergent.\n",
      "C:\\Users\\Dell-pc\\Anaconda3\\lib\\site-packages\\ipykernel_launcher.py:19: IntegrationWarning: The integral is probably divergent, or slowly convergent.\n",
      "C:\\Users\\Dell-pc\\Anaconda3\\lib\\site-packages\\ipykernel_launcher.py:17: IntegrationWarning: The integral is probably divergent, or slowly convergent.\n",
      "C:\\Users\\Dell-pc\\Anaconda3\\lib\\site-packages\\ipykernel_launcher.py:19: IntegrationWarning: The integral is probably divergent, or slowly convergent.\n",
      "C:\\Users\\Dell-pc\\Anaconda3\\lib\\site-packages\\ipykernel_launcher.py:17: IntegrationWarning: The integral is probably divergent, or slowly convergent.\n",
      "C:\\Users\\Dell-pc\\Anaconda3\\lib\\site-packages\\ipykernel_launcher.py:19: IntegrationWarning: The integral is probably divergent, or slowly convergent.\n",
      "C:\\Users\\Dell-pc\\Anaconda3\\lib\\site-packages\\ipykernel_launcher.py:17: IntegrationWarning: The integral is probably divergent, or slowly convergent.\n",
      "C:\\Users\\Dell-pc\\Anaconda3\\lib\\site-packages\\ipykernel_launcher.py:19: IntegrationWarning: The integral is probably divergent, or slowly convergent.\n",
      "C:\\Users\\Dell-pc\\Anaconda3\\lib\\site-packages\\ipykernel_launcher.py:17: IntegrationWarning: The integral is probably divergent, or slowly convergent.\n",
      "C:\\Users\\Dell-pc\\Anaconda3\\lib\\site-packages\\ipykernel_launcher.py:19: IntegrationWarning: The integral is probably divergent, or slowly convergent.\n"
     ]
    },
    {
     "name": "stdout",
     "output_type": "stream",
     "text": [
      "Accuracy  80  :  55.00000000000001\n"
     ]
    },
    {
     "name": "stderr",
     "output_type": "stream",
     "text": [
      "C:\\Users\\Dell-pc\\Anaconda3\\lib\\site-packages\\ipykernel_launcher.py:61: IntegrationWarning: The integral is probably divergent, or slowly convergent.\n",
      "C:\\Users\\Dell-pc\\Anaconda3\\lib\\site-packages\\ipykernel_launcher.py:63: IntegrationWarning: The integral is probably divergent, or slowly convergent.\n",
      "C:\\Users\\Dell-pc\\Anaconda3\\lib\\site-packages\\ipykernel_launcher.py:61: IntegrationWarning: The integral is probably divergent, or slowly convergent.\n",
      "C:\\Users\\Dell-pc\\Anaconda3\\lib\\site-packages\\ipykernel_launcher.py:63: IntegrationWarning: The integral is probably divergent, or slowly convergent.\n",
      "C:\\Users\\Dell-pc\\Anaconda3\\lib\\site-packages\\ipykernel_launcher.py:61: IntegrationWarning: The integral is probably divergent, or slowly convergent.\n",
      "C:\\Users\\Dell-pc\\Anaconda3\\lib\\site-packages\\ipykernel_launcher.py:63: IntegrationWarning: The integral is probably divergent, or slowly convergent.\n",
      "C:\\Users\\Dell-pc\\Anaconda3\\lib\\site-packages\\ipykernel_launcher.py:61: IntegrationWarning: The integral is probably divergent, or slowly convergent.\n",
      "C:\\Users\\Dell-pc\\Anaconda3\\lib\\site-packages\\ipykernel_launcher.py:63: IntegrationWarning: The integral is probably divergent, or slowly convergent.\n",
      "C:\\Users\\Dell-pc\\Anaconda3\\lib\\site-packages\\ipykernel_launcher.py:61: IntegrationWarning: The integral is probably divergent, or slowly convergent.\n",
      "C:\\Users\\Dell-pc\\Anaconda3\\lib\\site-packages\\ipykernel_launcher.py:63: IntegrationWarning: The integral is probably divergent, or slowly convergent.\n",
      "C:\\Users\\Dell-pc\\Anaconda3\\lib\\site-packages\\ipykernel_launcher.py:61: IntegrationWarning: The integral is probably divergent, or slowly convergent.\n",
      "C:\\Users\\Dell-pc\\Anaconda3\\lib\\site-packages\\ipykernel_launcher.py:63: IntegrationWarning: The integral is probably divergent, or slowly convergent.\n",
      "C:\\Users\\Dell-pc\\Anaconda3\\lib\\site-packages\\ipykernel_launcher.py:61: IntegrationWarning: The integral is probably divergent, or slowly convergent.\n",
      "C:\\Users\\Dell-pc\\Anaconda3\\lib\\site-packages\\ipykernel_launcher.py:63: IntegrationWarning: The integral is probably divergent, or slowly convergent.\n",
      "C:\\Users\\Dell-pc\\Anaconda3\\lib\\site-packages\\ipykernel_launcher.py:61: IntegrationWarning: The integral is probably divergent, or slowly convergent.\n",
      "C:\\Users\\Dell-pc\\Anaconda3\\lib\\site-packages\\ipykernel_launcher.py:63: IntegrationWarning: The integral is probably divergent, or slowly convergent.\n",
      "C:\\Users\\Dell-pc\\Anaconda3\\lib\\site-packages\\ipykernel_launcher.py:61: IntegrationWarning: The integral is probably divergent, or slowly convergent.\n",
      "C:\\Users\\Dell-pc\\Anaconda3\\lib\\site-packages\\ipykernel_launcher.py:63: IntegrationWarning: The integral is probably divergent, or slowly convergent.\n",
      "C:\\Users\\Dell-pc\\Anaconda3\\lib\\site-packages\\ipykernel_launcher.py:61: IntegrationWarning: The integral is probably divergent, or slowly convergent.\n",
      "C:\\Users\\Dell-pc\\Anaconda3\\lib\\site-packages\\ipykernel_launcher.py:63: IntegrationWarning: The integral is probably divergent, or slowly convergent.\n",
      "C:\\Users\\Dell-pc\\Anaconda3\\lib\\site-packages\\ipykernel_launcher.py:61: IntegrationWarning: The integral is probably divergent, or slowly convergent.\n",
      "C:\\Users\\Dell-pc\\Anaconda3\\lib\\site-packages\\ipykernel_launcher.py:63: IntegrationWarning: The integral is probably divergent, or slowly convergent.\n",
      "C:\\Users\\Dell-pc\\Anaconda3\\lib\\site-packages\\ipykernel_launcher.py:61: IntegrationWarning: The integral is probably divergent, or slowly convergent.\n",
      "C:\\Users\\Dell-pc\\Anaconda3\\lib\\site-packages\\ipykernel_launcher.py:63: IntegrationWarning: The integral is probably divergent, or slowly convergent.\n",
      "C:\\Users\\Dell-pc\\Anaconda3\\lib\\site-packages\\ipykernel_launcher.py:61: IntegrationWarning: The integral is probably divergent, or slowly convergent.\n",
      "C:\\Users\\Dell-pc\\Anaconda3\\lib\\site-packages\\ipykernel_launcher.py:63: IntegrationWarning: The integral is probably divergent, or slowly convergent.\n",
      "C:\\Users\\Dell-pc\\Anaconda3\\lib\\site-packages\\ipykernel_launcher.py:61: IntegrationWarning: The integral is probably divergent, or slowly convergent.\n",
      "C:\\Users\\Dell-pc\\Anaconda3\\lib\\site-packages\\ipykernel_launcher.py:63: IntegrationWarning: The integral is probably divergent, or slowly convergent.\n",
      "C:\\Users\\Dell-pc\\Anaconda3\\lib\\site-packages\\ipykernel_launcher.py:61: IntegrationWarning: The integral is probably divergent, or slowly convergent.\n",
      "C:\\Users\\Dell-pc\\Anaconda3\\lib\\site-packages\\ipykernel_launcher.py:63: IntegrationWarning: The integral is probably divergent, or slowly convergent.\n",
      "C:\\Users\\Dell-pc\\Anaconda3\\lib\\site-packages\\ipykernel_launcher.py:61: IntegrationWarning: The integral is probably divergent, or slowly convergent.\n",
      "C:\\Users\\Dell-pc\\Anaconda3\\lib\\site-packages\\ipykernel_launcher.py:63: IntegrationWarning: The integral is probably divergent, or slowly convergent.\n",
      "C:\\Users\\Dell-pc\\Anaconda3\\lib\\site-packages\\ipykernel_launcher.py:61: IntegrationWarning: The integral is probably divergent, or slowly convergent.\n",
      "C:\\Users\\Dell-pc\\Anaconda3\\lib\\site-packages\\ipykernel_launcher.py:63: IntegrationWarning: The integral is probably divergent, or slowly convergent.\n",
      "C:\\Users\\Dell-pc\\Anaconda3\\lib\\site-packages\\ipykernel_launcher.py:61: IntegrationWarning: The integral is probably divergent, or slowly convergent.\n",
      "C:\\Users\\Dell-pc\\Anaconda3\\lib\\site-packages\\ipykernel_launcher.py:63: IntegrationWarning: The integral is probably divergent, or slowly convergent.\n",
      "C:\\Users\\Dell-pc\\Anaconda3\\lib\\site-packages\\ipykernel_launcher.py:61: IntegrationWarning: The integral is probably divergent, or slowly convergent.\n",
      "C:\\Users\\Dell-pc\\Anaconda3\\lib\\site-packages\\ipykernel_launcher.py:63: IntegrationWarning: The integral is probably divergent, or slowly convergent.\n",
      "C:\\Users\\Dell-pc\\Anaconda3\\lib\\site-packages\\ipykernel_launcher.py:61: IntegrationWarning: The integral is probably divergent, or slowly convergent.\n",
      "C:\\Users\\Dell-pc\\Anaconda3\\lib\\site-packages\\ipykernel_launcher.py:63: IntegrationWarning: The integral is probably divergent, or slowly convergent.\n",
      "C:\\Users\\Dell-pc\\Anaconda3\\lib\\site-packages\\ipykernel_launcher.py:61: IntegrationWarning: The integral is probably divergent, or slowly convergent.\n",
      "C:\\Users\\Dell-pc\\Anaconda3\\lib\\site-packages\\ipykernel_launcher.py:63: IntegrationWarning: The integral is probably divergent, or slowly convergent.\n"
     ]
    },
    {
     "name": "stdout",
     "output_type": "stream",
     "text": [
      "..............Confusion Matrix................ \n",
      "36 \t 16\n",
      "9 \t 19\n"
     ]
    },
    {
     "data": {
      "image/png": "[encoded data removed]",
      "text/plain": [
       "<Figure size 432x288 with 2 Axes>"
      ]
     },
     "metadata": {
      "needs_background": "light"
     },
     "output_type": "display_data"
    },
    {
     "name": "stdout",
     "output_type": "stream",
     "text": [
      "[[0, 0], [1000, 1000]]\n"
     ]
    },
    {
     "name": "stderr",
     "output_type": "stream",
     "text": [
      "C:\\Users\\Dell-pc\\Anaconda3\\lib\\site-packages\\ipykernel_launcher.py:17: IntegrationWarning: The integral is probably divergent, or slowly convergent.\n",
      "C:\\Users\\Dell-pc\\Anaconda3\\lib\\site-packages\\ipykernel_launcher.py:19: IntegrationWarning: The integral is probably divergent, or slowly convergent.\n",
      "C:\\Users\\Dell-pc\\Anaconda3\\lib\\site-packages\\ipykernel_launcher.py:17: IntegrationWarning: The integral is probably divergent, or slowly convergent.\n",
      "C:\\Users\\Dell-pc\\Anaconda3\\lib\\site-packages\\ipykernel_launcher.py:19: IntegrationWarning: The integral is probably divergent, or slowly convergent.\n",
      "C:\\Users\\Dell-pc\\Anaconda3\\lib\\site-packages\\ipykernel_launcher.py:17: IntegrationWarning: The integral is probably divergent, or slowly convergent.\n",
      "C:\\Users\\Dell-pc\\Anaconda3\\lib\\site-packages\\ipykernel_launcher.py:19: IntegrationWarning: The integral is probably divergent, or slowly convergent.\n",
      "C:\\Users\\Dell-pc\\Anaconda3\\lib\\site-packages\\ipykernel_launcher.py:17: IntegrationWarning: The integral is probably divergent, or slowly convergent.\n",
      "C:\\Users\\Dell-pc\\Anaconda3\\lib\\site-packages\\ipykernel_launcher.py:19: IntegrationWarning: The integral is probably divergent, or slowly convergent.\n",
      "C:\\Users\\Dell-pc\\Anaconda3\\lib\\site-packages\\ipykernel_launcher.py:17: IntegrationWarning: The integral is probably divergent, or slowly convergent.\n",
      "C:\\Users\\Dell-pc\\Anaconda3\\lib\\site-packages\\ipykernel_launcher.py:19: IntegrationWarning: The integral is probably divergent, or slowly convergent.\n",
      "C:\\Users\\Dell-pc\\Anaconda3\\lib\\site-packages\\ipykernel_launcher.py:17: IntegrationWarning: The integral is probably divergent, or slowly convergent.\n",
      "C:\\Users\\Dell-pc\\Anaconda3\\lib\\site-packages\\ipykernel_launcher.py:19: IntegrationWarning: The integral is probably divergent, or slowly convergent.\n",
      "C:\\Users\\Dell-pc\\Anaconda3\\lib\\site-packages\\ipykernel_launcher.py:17: IntegrationWarning: The integral is probably divergent, or slowly convergent.\n",
      "C:\\Users\\Dell-pc\\Anaconda3\\lib\\site-packages\\ipykernel_launcher.py:19: IntegrationWarning: The integral is probably divergent, or slowly convergent.\n",
      "C:\\Users\\Dell-pc\\Anaconda3\\lib\\site-packages\\ipykernel_launcher.py:17: IntegrationWarning: The integral is probably divergent, or slowly convergent.\n",
      "C:\\Users\\Dell-pc\\Anaconda3\\lib\\site-packages\\ipykernel_launcher.py:19: IntegrationWarning: The integral is probably divergent, or slowly convergent.\n",
      "C:\\Users\\Dell-pc\\Anaconda3\\lib\\site-packages\\ipykernel_launcher.py:17: IntegrationWarning: The integral is probably divergent, or slowly convergent.\n",
      "C:\\Users\\Dell-pc\\Anaconda3\\lib\\site-packages\\ipykernel_launcher.py:19: IntegrationWarning: The integral is probably divergent, or slowly convergent.\n",
      "C:\\Users\\Dell-pc\\Anaconda3\\lib\\site-packages\\ipykernel_launcher.py:17: IntegrationWarning: The integral is probably divergent, or slowly convergent.\n",
      "C:\\Users\\Dell-pc\\Anaconda3\\lib\\site-packages\\ipykernel_launcher.py:19: IntegrationWarning: The integral is probably divergent, or slowly convergent.\n",
      "C:\\Users\\Dell-pc\\Anaconda3\\lib\\site-packages\\ipykernel_launcher.py:17: IntegrationWarning: The integral is probably divergent, or slowly convergent.\n",
      "C:\\Users\\Dell-pc\\Anaconda3\\lib\\site-packages\\ipykernel_launcher.py:19: IntegrationWarning: The integral is probably divergent, or slowly convergent.\n",
      "C:\\Users\\Dell-pc\\Anaconda3\\lib\\site-packages\\ipykernel_launcher.py:17: IntegrationWarning: The integral is probably divergent, or slowly convergent.\n",
      "C:\\Users\\Dell-pc\\Anaconda3\\lib\\site-packages\\ipykernel_launcher.py:19: IntegrationWarning: The integral is probably divergent, or slowly convergent.\n",
      "C:\\Users\\Dell-pc\\Anaconda3\\lib\\site-packages\\ipykernel_launcher.py:17: IntegrationWarning: The integral is probably divergent, or slowly convergent.\n",
      "C:\\Users\\Dell-pc\\Anaconda3\\lib\\site-packages\\ipykernel_launcher.py:19: IntegrationWarning: The integral is probably divergent, or slowly convergent.\n",
      "C:\\Users\\Dell-pc\\Anaconda3\\lib\\site-packages\\ipykernel_launcher.py:17: IntegrationWarning: The integral is probably divergent, or slowly convergent.\n",
      "C:\\Users\\Dell-pc\\Anaconda3\\lib\\site-packages\\ipykernel_launcher.py:19: IntegrationWarning: The integral is probably divergent, or slowly convergent.\n",
      "C:\\Users\\Dell-pc\\Anaconda3\\lib\\site-packages\\ipykernel_launcher.py:17: IntegrationWarning: The integral is probably divergent, or slowly convergent.\n",
      "C:\\Users\\Dell-pc\\Anaconda3\\lib\\site-packages\\ipykernel_launcher.py:19: IntegrationWarning: The integral is probably divergent, or slowly convergent.\n",
      "C:\\Users\\Dell-pc\\Anaconda3\\lib\\site-packages\\ipykernel_launcher.py:17: IntegrationWarning: The integral is probably divergent, or slowly convergent.\n",
      "C:\\Users\\Dell-pc\\Anaconda3\\lib\\site-packages\\ipykernel_launcher.py:19: IntegrationWarning: The integral is probably divergent, or slowly convergent.\n",
      "C:\\Users\\Dell-pc\\Anaconda3\\lib\\site-packages\\ipykernel_launcher.py:17: IntegrationWarning: The integral is probably divergent, or slowly convergent.\n",
      "C:\\Users\\Dell-pc\\Anaconda3\\lib\\site-packages\\ipykernel_launcher.py:19: IntegrationWarning: The integral is probably divergent, or slowly convergent.\n",
      "C:\\Users\\Dell-pc\\Anaconda3\\lib\\site-packages\\ipykernel_launcher.py:17: IntegrationWarning: The integral is probably divergent, or slowly convergent.\n",
      "C:\\Users\\Dell-pc\\Anaconda3\\lib\\site-packages\\ipykernel_launcher.py:19: IntegrationWarning: The integral is probably divergent, or slowly convergent.\n",
      "C:\\Users\\Dell-pc\\Anaconda3\\lib\\site-packages\\ipykernel_launcher.py:17: IntegrationWarning: The integral is probably divergent, or slowly convergent.\n",
      "C:\\Users\\Dell-pc\\Anaconda3\\lib\\site-packages\\ipykernel_launcher.py:19: IntegrationWarning: The integral is probably divergent, or slowly convergent.\n",
      "C:\\Users\\Dell-pc\\Anaconda3\\lib\\site-packages\\ipykernel_launcher.py:17: IntegrationWarning: The integral is probably divergent, or slowly convergent.\n",
      "C:\\Users\\Dell-pc\\Anaconda3\\lib\\site-packages\\ipykernel_launcher.py:19: IntegrationWarning: The integral is probably divergent, or slowly convergent.\n",
      "C:\\Users\\Dell-pc\\Anaconda3\\lib\\site-packages\\ipykernel_launcher.py:17: IntegrationWarning: The integral is probably divergent, or slowly convergent.\n",
      "C:\\Users\\Dell-pc\\Anaconda3\\lib\\site-packages\\ipykernel_launcher.py:19: IntegrationWarning: The integral is probably divergent, or slowly convergent.\n"
     ]
    },
    {
     "name": "stdout",
     "output_type": "stream",
     "text": [
      "Accuracy  80  :  45.0\n"
     ]
    },
    {
     "name": "stderr",
     "output_type": "stream",
     "text": [
      "C:\\Users\\Dell-pc\\Anaconda3\\lib\\site-packages\\ipykernel_launcher.py:61: IntegrationWarning: The integral is probably divergent, or slowly convergent.\n",
      "C:\\Users\\Dell-pc\\Anaconda3\\lib\\site-packages\\ipykernel_launcher.py:63: IntegrationWarning: The integral is probably divergent, or slowly convergent.\n",
      "C:\\Users\\Dell-pc\\Anaconda3\\lib\\site-packages\\ipykernel_launcher.py:61: IntegrationWarning: The integral is probably divergent, or slowly convergent.\n",
      "C:\\Users\\Dell-pc\\Anaconda3\\lib\\site-packages\\ipykernel_launcher.py:63: IntegrationWarning: The integral is probably divergent, or slowly convergent.\n",
      "C:\\Users\\Dell-pc\\Anaconda3\\lib\\site-packages\\ipykernel_launcher.py:61: IntegrationWarning: The integral is probably divergent, or slowly convergent.\n",
      "C:\\Users\\Dell-pc\\Anaconda3\\lib\\site-packages\\ipykernel_launcher.py:63: IntegrationWarning: The integral is probably divergent, or slowly convergent.\n",
      "C:\\Users\\Dell-pc\\Anaconda3\\lib\\site-packages\\ipykernel_launcher.py:61: IntegrationWarning: The integral is probably divergent, or slowly convergent.\n",
      "C:\\Users\\Dell-pc\\Anaconda3\\lib\\site-packages\\ipykernel_launcher.py:63: IntegrationWarning: The integral is probably divergent, or slowly convergent.\n",
      "C:\\Users\\Dell-pc\\Anaconda3\\lib\\site-packages\\ipykernel_launcher.py:61: IntegrationWarning: The integral is probably divergent, or slowly convergent.\n",
      "C:\\Users\\Dell-pc\\Anaconda3\\lib\\site-packages\\ipykernel_launcher.py:63: IntegrationWarning: The integral is probably divergent, or slowly convergent.\n",
      "C:\\Users\\Dell-pc\\Anaconda3\\lib\\site-packages\\ipykernel_launcher.py:61: IntegrationWarning: The integral is probably divergent, or slowly convergent.\n",
      "C:\\Users\\Dell-pc\\Anaconda3\\lib\\site-packages\\ipykernel_launcher.py:63: IntegrationWarning: The integral is probably divergent, or slowly convergent.\n",
      "C:\\Users\\Dell-pc\\Anaconda3\\lib\\site-packages\\ipykernel_launcher.py:61: IntegrationWarning: The integral is probably divergent, or slowly convergent.\n",
      "C:\\Users\\Dell-pc\\Anaconda3\\lib\\site-packages\\ipykernel_launcher.py:63: IntegrationWarning: The integral is probably divergent, or slowly convergent.\n",
      "C:\\Users\\Dell-pc\\Anaconda3\\lib\\site-packages\\ipykernel_launcher.py:61: IntegrationWarning: The integral is probably divergent, or slowly convergent.\n",
      "C:\\Users\\Dell-pc\\Anaconda3\\lib\\site-packages\\ipykernel_launcher.py:63: IntegrationWarning: The integral is probably divergent, or slowly convergent.\n",
      "C:\\Users\\Dell-pc\\Anaconda3\\lib\\site-packages\\ipykernel_launcher.py:61: IntegrationWarning: The integral is probably divergent, or slowly convergent.\n",
      "C:\\Users\\Dell-pc\\Anaconda3\\lib\\site-packages\\ipykernel_launcher.py:63: IntegrationWarning: The integral is probably divergent, or slowly convergent.\n",
      "C:\\Users\\Dell-pc\\Anaconda3\\lib\\site-packages\\ipykernel_launcher.py:61: IntegrationWarning: The integral is probably divergent, or slowly convergent.\n",
      "C:\\Users\\Dell-pc\\Anaconda3\\lib\\site-packages\\ipykernel_launcher.py:63: IntegrationWarning: The integral is probably divergent, or slowly convergent.\n",
      "C:\\Users\\Dell-pc\\Anaconda3\\lib\\site-packages\\ipykernel_launcher.py:61: IntegrationWarning: The integral is probably divergent, or slowly convergent.\n",
      "C:\\Users\\Dell-pc\\Anaconda3\\lib\\site-packages\\ipykernel_launcher.py:63: IntegrationWarning: The integral is probably divergent, or slowly convergent.\n",
      "C:\\Users\\Dell-pc\\Anaconda3\\lib\\site-packages\\ipykernel_launcher.py:61: IntegrationWarning: The integral is probably divergent, or slowly convergent.\n",
      "C:\\Users\\Dell-pc\\Anaconda3\\lib\\site-packages\\ipykernel_launcher.py:63: IntegrationWarning: The integral is probably divergent, or slowly convergent.\n",
      "C:\\Users\\Dell-pc\\Anaconda3\\lib\\site-packages\\ipykernel_launcher.py:61: IntegrationWarning: The integral is probably divergent, or slowly convergent.\n",
      "C:\\Users\\Dell-pc\\Anaconda3\\lib\\site-packages\\ipykernel_launcher.py:63: IntegrationWarning: The integral is probably divergent, or slowly convergent.\n",
      "C:\\Users\\Dell-pc\\Anaconda3\\lib\\site-packages\\ipykernel_launcher.py:61: IntegrationWarning: The integral is probably divergent, or slowly convergent.\n",
      "C:\\Users\\Dell-pc\\Anaconda3\\lib\\site-packages\\ipykernel_launcher.py:63: IntegrationWarning: The integral is probably divergent, or slowly convergent.\n",
      "C:\\Users\\Dell-pc\\Anaconda3\\lib\\site-packages\\ipykernel_launcher.py:61: IntegrationWarning: The integral is probably divergent, or slowly convergent.\n",
      "C:\\Users\\Dell-pc\\Anaconda3\\lib\\site-packages\\ipykernel_launcher.py:63: IntegrationWarning: The integral is probably divergent, or slowly convergent.\n",
      "C:\\Users\\Dell-pc\\Anaconda3\\lib\\site-packages\\ipykernel_launcher.py:61: IntegrationWarning: The integral is probably divergent, or slowly convergent.\n",
      "C:\\Users\\Dell-pc\\Anaconda3\\lib\\site-packages\\ipykernel_launcher.py:63: IntegrationWarning: The integral is probably divergent, or slowly convergent.\n",
      "C:\\Users\\Dell-pc\\Anaconda3\\lib\\site-packages\\ipykernel_launcher.py:61: IntegrationWarning: The integral is probably divergent, or slowly convergent.\n",
      "C:\\Users\\Dell-pc\\Anaconda3\\lib\\site-packages\\ipykernel_launcher.py:63: IntegrationWarning: The integral is probably divergent, or slowly convergent.\n",
      "C:\\Users\\Dell-pc\\Anaconda3\\lib\\site-packages\\ipykernel_launcher.py:61: IntegrationWarning: The integral is probably divergent, or slowly convergent.\n",
      "C:\\Users\\Dell-pc\\Anaconda3\\lib\\site-packages\\ipykernel_launcher.py:63: IntegrationWarning: The integral is probably divergent, or slowly convergent.\n",
      "C:\\Users\\Dell-pc\\Anaconda3\\lib\\site-packages\\ipykernel_launcher.py:61: IntegrationWarning: The integral is probably divergent, or slowly convergent.\n",
      "C:\\Users\\Dell-pc\\Anaconda3\\lib\\site-packages\\ipykernel_launcher.py:63: IntegrationWarning: The integral is probably divergent, or slowly convergent.\n",
      "C:\\Users\\Dell-pc\\Anaconda3\\lib\\site-packages\\ipykernel_launcher.py:61: IntegrationWarning: The integral is probably divergent, or slowly convergent.\n",
      "C:\\Users\\Dell-pc\\Anaconda3\\lib\\site-packages\\ipykernel_launcher.py:63: IntegrationWarning: The integral is probably divergent, or slowly convergent.\n",
      "C:\\Users\\Dell-pc\\Anaconda3\\lib\\site-packages\\ipykernel_launcher.py:61: IntegrationWarning: The integral is probably divergent, or slowly convergent.\n"
     ]
    },
    {
     "name": "stdout",
     "output_type": "stream",
     "text": [
      "..............Confusion Matrix................ \n",
      "36 \t 16\n",
      "9 \t 19\n"
     ]
    },
    {
     "name": "stderr",
     "output_type": "stream",
     "text": [
      "C:\\Users\\Dell-pc\\Anaconda3\\lib\\site-packages\\ipykernel_launcher.py:63: IntegrationWarning: The integral is probably divergent, or slowly convergent.\n"
     ]
    },
    {
     "data": {
      "image/png": "[encoded data removed]",
      "text/plain": [
       "<Figure size 432x288 with 2 Axes>"
      ]
     },
     "metadata": {
      "needs_background": "light"
     },
     "output_type": "display_data"
    },
    {
     "name": "stdout",
     "output_type": "stream",
     "text": [
      "[[0, 100], [150, 0]]\n"
     ]
    },
    {
     "name": "stderr",
     "output_type": "stream",
     "text": [
      "C:\\Users\\Dell-pc\\Anaconda3\\lib\\site-packages\\ipykernel_launcher.py:17: IntegrationWarning: The integral is probably divergent, or slowly convergent.\n",
      "C:\\Users\\Dell-pc\\Anaconda3\\lib\\site-packages\\ipykernel_launcher.py:19: IntegrationWarning: The integral is probably divergent, or slowly convergent.\n",
      "C:\\Users\\Dell-pc\\Anaconda3\\lib\\site-packages\\ipykernel_launcher.py:17: IntegrationWarning: The integral is probably divergent, or slowly convergent.\n",
      "C:\\Users\\Dell-pc\\Anaconda3\\lib\\site-packages\\ipykernel_launcher.py:19: IntegrationWarning: The integral is probably divergent, or slowly convergent.\n",
      "C:\\Users\\Dell-pc\\Anaconda3\\lib\\site-packages\\ipykernel_launcher.py:17: IntegrationWarning: The integral is probably divergent, or slowly convergent.\n",
      "C:\\Users\\Dell-pc\\Anaconda3\\lib\\site-packages\\ipykernel_launcher.py:19: IntegrationWarning: The integral is probably divergent, or slowly convergent.\n",
      "C:\\Users\\Dell-pc\\Anaconda3\\lib\\site-packages\\ipykernel_launcher.py:17: IntegrationWarning: The integral is probably divergent, or slowly convergent.\n",
      "C:\\Users\\Dell-pc\\Anaconda3\\lib\\site-packages\\ipykernel_launcher.py:19: IntegrationWarning: The integral is probably divergent, or slowly convergent.\n",
      "C:\\Users\\Dell-pc\\Anaconda3\\lib\\site-packages\\ipykernel_launcher.py:17: IntegrationWarning: The integral is probably divergent, or slowly convergent.\n",
      "C:\\Users\\Dell-pc\\Anaconda3\\lib\\site-packages\\ipykernel_launcher.py:19: IntegrationWarning: The integral is probably divergent, or slowly convergent.\n",
      "C:\\Users\\Dell-pc\\Anaconda3\\lib\\site-packages\\ipykernel_launcher.py:17: IntegrationWarning: The integral is probably divergent, or slowly convergent.\n",
      "C:\\Users\\Dell-pc\\Anaconda3\\lib\\site-packages\\ipykernel_launcher.py:19: IntegrationWarning: The integral is probably divergent, or slowly convergent.\n",
      "C:\\Users\\Dell-pc\\Anaconda3\\lib\\site-packages\\ipykernel_launcher.py:17: IntegrationWarning: The integral is probably divergent, or slowly convergent.\n",
      "C:\\Users\\Dell-pc\\Anaconda3\\lib\\site-packages\\ipykernel_launcher.py:19: IntegrationWarning: The integral is probably divergent, or slowly convergent.\n",
      "C:\\Users\\Dell-pc\\Anaconda3\\lib\\site-packages\\ipykernel_launcher.py:17: IntegrationWarning: The integral is probably divergent, or slowly convergent.\n",
      "C:\\Users\\Dell-pc\\Anaconda3\\lib\\site-packages\\ipykernel_launcher.py:19: IntegrationWarning: The integral is probably divergent, or slowly convergent.\n",
      "C:\\Users\\Dell-pc\\Anaconda3\\lib\\site-packages\\ipykernel_launcher.py:17: IntegrationWarning: The integral is probably divergent, or slowly convergent.\n",
      "C:\\Users\\Dell-pc\\Anaconda3\\lib\\site-packages\\ipykernel_launcher.py:19: IntegrationWarning: The integral is probably divergent, or slowly convergent.\n",
      "C:\\Users\\Dell-pc\\Anaconda3\\lib\\site-packages\\ipykernel_launcher.py:17: IntegrationWarning: The integral is probably divergent, or slowly convergent.\n",
      "C:\\Users\\Dell-pc\\Anaconda3\\lib\\site-packages\\ipykernel_launcher.py:19: IntegrationWarning: The integral is probably divergent, or slowly convergent.\n",
      "C:\\Users\\Dell-pc\\Anaconda3\\lib\\site-packages\\ipykernel_launcher.py:17: IntegrationWarning: The integral is probably divergent, or slowly convergent.\n",
      "C:\\Users\\Dell-pc\\Anaconda3\\lib\\site-packages\\ipykernel_launcher.py:19: IntegrationWarning: The integral is probably divergent, or slowly convergent.\n",
      "C:\\Users\\Dell-pc\\Anaconda3\\lib\\site-packages\\ipykernel_launcher.py:17: IntegrationWarning: The integral is probably divergent, or slowly convergent.\n",
      "C:\\Users\\Dell-pc\\Anaconda3\\lib\\site-packages\\ipykernel_launcher.py:19: IntegrationWarning: The integral is probably divergent, or slowly convergent.\n",
      "C:\\Users\\Dell-pc\\Anaconda3\\lib\\site-packages\\ipykernel_launcher.py:17: IntegrationWarning: The integral is probably divergent, or slowly convergent.\n",
      "C:\\Users\\Dell-pc\\Anaconda3\\lib\\site-packages\\ipykernel_launcher.py:19: IntegrationWarning: The integral is probably divergent, or slowly convergent.\n",
      "C:\\Users\\Dell-pc\\Anaconda3\\lib\\site-packages\\ipykernel_launcher.py:17: IntegrationWarning: The integral is probably divergent, or slowly convergent.\n",
      "C:\\Users\\Dell-pc\\Anaconda3\\lib\\site-packages\\ipykernel_launcher.py:19: IntegrationWarning: The integral is probably divergent, or slowly convergent.\n",
      "C:\\Users\\Dell-pc\\Anaconda3\\lib\\site-packages\\ipykernel_launcher.py:17: IntegrationWarning: The integral is probably divergent, or slowly convergent.\n",
      "C:\\Users\\Dell-pc\\Anaconda3\\lib\\site-packages\\ipykernel_launcher.py:19: IntegrationWarning: The integral is probably divergent, or slowly convergent.\n",
      "C:\\Users\\Dell-pc\\Anaconda3\\lib\\site-packages\\ipykernel_launcher.py:17: IntegrationWarning: The integral is probably divergent, or slowly convergent.\n",
      "C:\\Users\\Dell-pc\\Anaconda3\\lib\\site-packages\\ipykernel_launcher.py:19: IntegrationWarning: The integral is probably divergent, or slowly convergent.\n",
      "C:\\Users\\Dell-pc\\Anaconda3\\lib\\site-packages\\ipykernel_launcher.py:17: IntegrationWarning: The integral is probably divergent, or slowly convergent.\n",
      "C:\\Users\\Dell-pc\\Anaconda3\\lib\\site-packages\\ipykernel_launcher.py:19: IntegrationWarning: The integral is probably divergent, or slowly convergent.\n",
      "C:\\Users\\Dell-pc\\Anaconda3\\lib\\site-packages\\ipykernel_launcher.py:17: IntegrationWarning: The integral is probably divergent, or slowly convergent.\n",
      "C:\\Users\\Dell-pc\\Anaconda3\\lib\\site-packages\\ipykernel_launcher.py:19: IntegrationWarning: The integral is probably divergent, or slowly convergent.\n",
      "C:\\Users\\Dell-pc\\Anaconda3\\lib\\site-packages\\ipykernel_launcher.py:17: IntegrationWarning: The integral is probably divergent, or slowly convergent.\n",
      "C:\\Users\\Dell-pc\\Anaconda3\\lib\\site-packages\\ipykernel_launcher.py:19: IntegrationWarning: The integral is probably divergent, or slowly convergent.\n",
      "C:\\Users\\Dell-pc\\Anaconda3\\lib\\site-packages\\ipykernel_launcher.py:17: IntegrationWarning: The integral is probably divergent, or slowly convergent.\n",
      "C:\\Users\\Dell-pc\\Anaconda3\\lib\\site-packages\\ipykernel_launcher.py:19: IntegrationWarning: The integral is probably divergent, or slowly convergent.\n",
      "C:\\Users\\Dell-pc\\Anaconda3\\lib\\site-packages\\ipykernel_launcher.py:17: IntegrationWarning: The integral is probably divergent, or slowly convergent.\n",
      "C:\\Users\\Dell-pc\\Anaconda3\\lib\\site-packages\\ipykernel_launcher.py:19: IntegrationWarning: The integral is probably divergent, or slowly convergent.\n"
     ]
    },
    {
     "name": "stdout",
     "output_type": "stream",
     "text": [
      "Accuracy  80  :  62.5\n"
     ]
    },
    {
     "name": "stderr",
     "output_type": "stream",
     "text": [
      "C:\\Users\\Dell-pc\\Anaconda3\\lib\\site-packages\\ipykernel_launcher.py:61: IntegrationWarning: The integral is probably divergent, or slowly convergent.\n",
      "C:\\Users\\Dell-pc\\Anaconda3\\lib\\site-packages\\ipykernel_launcher.py:63: IntegrationWarning: The integral is probably divergent, or slowly convergent.\n",
      "C:\\Users\\Dell-pc\\Anaconda3\\lib\\site-packages\\ipykernel_launcher.py:61: IntegrationWarning: The integral is probably divergent, or slowly convergent.\n",
      "C:\\Users\\Dell-pc\\Anaconda3\\lib\\site-packages\\ipykernel_launcher.py:63: IntegrationWarning: The integral is probably divergent, or slowly convergent.\n",
      "C:\\Users\\Dell-pc\\Anaconda3\\lib\\site-packages\\ipykernel_launcher.py:61: IntegrationWarning: The integral is probably divergent, or slowly convergent.\n",
      "C:\\Users\\Dell-pc\\Anaconda3\\lib\\site-packages\\ipykernel_launcher.py:63: IntegrationWarning: The integral is probably divergent, or slowly convergent.\n",
      "C:\\Users\\Dell-pc\\Anaconda3\\lib\\site-packages\\ipykernel_launcher.py:61: IntegrationWarning: The integral is probably divergent, or slowly convergent.\n",
      "C:\\Users\\Dell-pc\\Anaconda3\\lib\\site-packages\\ipykernel_launcher.py:63: IntegrationWarning: The integral is probably divergent, or slowly convergent.\n",
      "C:\\Users\\Dell-pc\\Anaconda3\\lib\\site-packages\\ipykernel_launcher.py:61: IntegrationWarning: The integral is probably divergent, or slowly convergent.\n",
      "C:\\Users\\Dell-pc\\Anaconda3\\lib\\site-packages\\ipykernel_launcher.py:63: IntegrationWarning: The integral is probably divergent, or slowly convergent.\n",
      "C:\\Users\\Dell-pc\\Anaconda3\\lib\\site-packages\\ipykernel_launcher.py:61: IntegrationWarning: The integral is probably divergent, or slowly convergent.\n",
      "C:\\Users\\Dell-pc\\Anaconda3\\lib\\site-packages\\ipykernel_launcher.py:63: IntegrationWarning: The integral is probably divergent, or slowly convergent.\n",
      "C:\\Users\\Dell-pc\\Anaconda3\\lib\\site-packages\\ipykernel_launcher.py:61: IntegrationWarning: The integral is probably divergent, or slowly convergent.\n",
      "C:\\Users\\Dell-pc\\Anaconda3\\lib\\site-packages\\ipykernel_launcher.py:63: IntegrationWarning: The integral is probably divergent, or slowly convergent.\n",
      "C:\\Users\\Dell-pc\\Anaconda3\\lib\\site-packages\\ipykernel_launcher.py:61: IntegrationWarning: The integral is probably divergent, or slowly convergent.\n",
      "C:\\Users\\Dell-pc\\Anaconda3\\lib\\site-packages\\ipykernel_launcher.py:63: IntegrationWarning: The integral is probably divergent, or slowly convergent.\n",
      "C:\\Users\\Dell-pc\\Anaconda3\\lib\\site-packages\\ipykernel_launcher.py:61: IntegrationWarning: The integral is probably divergent, or slowly convergent.\n",
      "C:\\Users\\Dell-pc\\Anaconda3\\lib\\site-packages\\ipykernel_launcher.py:63: IntegrationWarning: The integral is probably divergent, or slowly convergent.\n",
      "C:\\Users\\Dell-pc\\Anaconda3\\lib\\site-packages\\ipykernel_launcher.py:61: IntegrationWarning: The integral is probably divergent, or slowly convergent.\n",
      "C:\\Users\\Dell-pc\\Anaconda3\\lib\\site-packages\\ipykernel_launcher.py:63: IntegrationWarning: The integral is probably divergent, or slowly convergent.\n",
      "C:\\Users\\Dell-pc\\Anaconda3\\lib\\site-packages\\ipykernel_launcher.py:61: IntegrationWarning: The integral is probably divergent, or slowly convergent.\n",
      "C:\\Users\\Dell-pc\\Anaconda3\\lib\\site-packages\\ipykernel_launcher.py:63: IntegrationWarning: The integral is probably divergent, or slowly convergent.\n",
      "C:\\Users\\Dell-pc\\Anaconda3\\lib\\site-packages\\ipykernel_launcher.py:61: IntegrationWarning: The integral is probably divergent, or slowly convergent.\n",
      "C:\\Users\\Dell-pc\\Anaconda3\\lib\\site-packages\\ipykernel_launcher.py:63: IntegrationWarning: The integral is probably divergent, or slowly convergent.\n",
      "C:\\Users\\Dell-pc\\Anaconda3\\lib\\site-packages\\ipykernel_launcher.py:61: IntegrationWarning: The integral is probably divergent, or slowly convergent.\n",
      "C:\\Users\\Dell-pc\\Anaconda3\\lib\\site-packages\\ipykernel_launcher.py:63: IntegrationWarning: The integral is probably divergent, or slowly convergent.\n",
      "C:\\Users\\Dell-pc\\Anaconda3\\lib\\site-packages\\ipykernel_launcher.py:61: IntegrationWarning: The integral is probably divergent, or slowly convergent.\n",
      "C:\\Users\\Dell-pc\\Anaconda3\\lib\\site-packages\\ipykernel_launcher.py:63: IntegrationWarning: The integral is probably divergent, or slowly convergent.\n",
      "C:\\Users\\Dell-pc\\Anaconda3\\lib\\site-packages\\ipykernel_launcher.py:61: IntegrationWarning: The integral is probably divergent, or slowly convergent.\n",
      "C:\\Users\\Dell-pc\\Anaconda3\\lib\\site-packages\\ipykernel_launcher.py:63: IntegrationWarning: The integral is probably divergent, or slowly convergent.\n",
      "C:\\Users\\Dell-pc\\Anaconda3\\lib\\site-packages\\ipykernel_launcher.py:61: IntegrationWarning: The integral is probably divergent, or slowly convergent.\n",
      "C:\\Users\\Dell-pc\\Anaconda3\\lib\\site-packages\\ipykernel_launcher.py:63: IntegrationWarning: The integral is probably divergent, or slowly convergent.\n",
      "C:\\Users\\Dell-pc\\Anaconda3\\lib\\site-packages\\ipykernel_launcher.py:61: IntegrationWarning: The integral is probably divergent, or slowly convergent.\n",
      "C:\\Users\\Dell-pc\\Anaconda3\\lib\\site-packages\\ipykernel_launcher.py:63: IntegrationWarning: The integral is probably divergent, or slowly convergent.\n",
      "C:\\Users\\Dell-pc\\Anaconda3\\lib\\site-packages\\ipykernel_launcher.py:61: IntegrationWarning: The integral is probably divergent, or slowly convergent.\n",
      "C:\\Users\\Dell-pc\\Anaconda3\\lib\\site-packages\\ipykernel_launcher.py:63: IntegrationWarning: The integral is probably divergent, or slowly convergent.\n",
      "C:\\Users\\Dell-pc\\Anaconda3\\lib\\site-packages\\ipykernel_launcher.py:61: IntegrationWarning: The integral is probably divergent, or slowly convergent.\n",
      "C:\\Users\\Dell-pc\\Anaconda3\\lib\\site-packages\\ipykernel_launcher.py:63: IntegrationWarning: The integral is probably divergent, or slowly convergent.\n",
      "C:\\Users\\Dell-pc\\Anaconda3\\lib\\site-packages\\ipykernel_launcher.py:61: IntegrationWarning: The integral is probably divergent, or slowly convergent.\n",
      "C:\\Users\\Dell-pc\\Anaconda3\\lib\\site-packages\\ipykernel_launcher.py:63: IntegrationWarning: The integral is probably divergent, or slowly convergent.\n",
      "C:\\Users\\Dell-pc\\Anaconda3\\lib\\site-packages\\ipykernel_launcher.py:61: IntegrationWarning: The integral is probably divergent, or slowly convergent.\n"
     ]
    },
    {
     "name": "stdout",
     "output_type": "stream",
     "text": [
      "..............Confusion Matrix................ \n",
      "36 \t 16\n",
      "9 \t 19\n"
     ]
    },
    {
     "name": "stderr",
     "output_type": "stream",
     "text": [
      "C:\\Users\\Dell-pc\\Anaconda3\\lib\\site-packages\\ipykernel_launcher.py:63: IntegrationWarning: The integral is probably divergent, or slowly convergent.\n"
     ]
    },
    {
     "data": {
      "image/png": "[encoded data removed]",
      "text/plain": [
       "<Figure size 432x288 with 2 Axes>"
      ]
     },
     "metadata": {
      "needs_background": "light"
     },
     "output_type": "display_data"
    },
    {
     "name": "stdout",
     "output_type": "stream",
     "text": [
      "[[0, 150], [100, 0]]\n"
     ]
    },
    {
     "name": "stderr",
     "output_type": "stream",
     "text": [
      "C:\\Users\\Dell-pc\\Anaconda3\\lib\\site-packages\\ipykernel_launcher.py:17: IntegrationWarning: The integral is probably divergent, or slowly convergent.\n",
      "C:\\Users\\Dell-pc\\Anaconda3\\lib\\site-packages\\ipykernel_launcher.py:19: IntegrationWarning: The integral is probably divergent, or slowly convergent.\n",
      "C:\\Users\\Dell-pc\\Anaconda3\\lib\\site-packages\\ipykernel_launcher.py:17: IntegrationWarning: The integral is probably divergent, or slowly convergent.\n",
      "C:\\Users\\Dell-pc\\Anaconda3\\lib\\site-packages\\ipykernel_launcher.py:19: IntegrationWarning: The integral is probably divergent, or slowly convergent.\n",
      "C:\\Users\\Dell-pc\\Anaconda3\\lib\\site-packages\\ipykernel_launcher.py:17: IntegrationWarning: The integral is probably divergent, or slowly convergent.\n",
      "C:\\Users\\Dell-pc\\Anaconda3\\lib\\site-packages\\ipykernel_launcher.py:19: IntegrationWarning: The integral is probably divergent, or slowly convergent.\n",
      "C:\\Users\\Dell-pc\\Anaconda3\\lib\\site-packages\\ipykernel_launcher.py:17: IntegrationWarning: The integral is probably divergent, or slowly convergent.\n",
      "C:\\Users\\Dell-pc\\Anaconda3\\lib\\site-packages\\ipykernel_launcher.py:19: IntegrationWarning: The integral is probably divergent, or slowly convergent.\n",
      "C:\\Users\\Dell-pc\\Anaconda3\\lib\\site-packages\\ipykernel_launcher.py:17: IntegrationWarning: The integral is probably divergent, or slowly convergent.\n",
      "C:\\Users\\Dell-pc\\Anaconda3\\lib\\site-packages\\ipykernel_launcher.py:19: IntegrationWarning: The integral is probably divergent, or slowly convergent.\n",
      "C:\\Users\\Dell-pc\\Anaconda3\\lib\\site-packages\\ipykernel_launcher.py:17: IntegrationWarning: The integral is probably divergent, or slowly convergent.\n",
      "C:\\Users\\Dell-pc\\Anaconda3\\lib\\site-packages\\ipykernel_launcher.py:19: IntegrationWarning: The integral is probably divergent, or slowly convergent.\n",
      "C:\\Users\\Dell-pc\\Anaconda3\\lib\\site-packages\\ipykernel_launcher.py:17: IntegrationWarning: The integral is probably divergent, or slowly convergent.\n",
      "C:\\Users\\Dell-pc\\Anaconda3\\lib\\site-packages\\ipykernel_launcher.py:19: IntegrationWarning: The integral is probably divergent, or slowly convergent.\n",
      "C:\\Users\\Dell-pc\\Anaconda3\\lib\\site-packages\\ipykernel_launcher.py:17: IntegrationWarning: The integral is probably divergent, or slowly convergent.\n",
      "C:\\Users\\Dell-pc\\Anaconda3\\lib\\site-packages\\ipykernel_launcher.py:19: IntegrationWarning: The integral is probably divergent, or slowly convergent.\n",
      "C:\\Users\\Dell-pc\\Anaconda3\\lib\\site-packages\\ipykernel_launcher.py:17: IntegrationWarning: The integral is probably divergent, or slowly convergent.\n",
      "C:\\Users\\Dell-pc\\Anaconda3\\lib\\site-packages\\ipykernel_launcher.py:19: IntegrationWarning: The integral is probably divergent, or slowly convergent.\n",
      "C:\\Users\\Dell-pc\\Anaconda3\\lib\\site-packages\\ipykernel_launcher.py:17: IntegrationWarning: The integral is probably divergent, or slowly convergent.\n",
      "C:\\Users\\Dell-pc\\Anaconda3\\lib\\site-packages\\ipykernel_launcher.py:19: IntegrationWarning: The integral is probably divergent, or slowly convergent.\n",
      "C:\\Users\\Dell-pc\\Anaconda3\\lib\\site-packages\\ipykernel_launcher.py:17: IntegrationWarning: The integral is probably divergent, or slowly convergent.\n",
      "C:\\Users\\Dell-pc\\Anaconda3\\lib\\site-packages\\ipykernel_launcher.py:19: IntegrationWarning: The integral is probably divergent, or slowly convergent.\n",
      "C:\\Users\\Dell-pc\\Anaconda3\\lib\\site-packages\\ipykernel_launcher.py:17: IntegrationWarning: The integral is probably divergent, or slowly convergent.\n",
      "C:\\Users\\Dell-pc\\Anaconda3\\lib\\site-packages\\ipykernel_launcher.py:19: IntegrationWarning: The integral is probably divergent, or slowly convergent.\n",
      "C:\\Users\\Dell-pc\\Anaconda3\\lib\\site-packages\\ipykernel_launcher.py:17: IntegrationWarning: The integral is probably divergent, or slowly convergent.\n",
      "C:\\Users\\Dell-pc\\Anaconda3\\lib\\site-packages\\ipykernel_launcher.py:19: IntegrationWarning: The integral is probably divergent, or slowly convergent.\n",
      "C:\\Users\\Dell-pc\\Anaconda3\\lib\\site-packages\\ipykernel_launcher.py:17: IntegrationWarning: The integral is probably divergent, or slowly convergent.\n",
      "C:\\Users\\Dell-pc\\Anaconda3\\lib\\site-packages\\ipykernel_launcher.py:19: IntegrationWarning: The integral is probably divergent, or slowly convergent.\n",
      "C:\\Users\\Dell-pc\\Anaconda3\\lib\\site-packages\\ipykernel_launcher.py:17: IntegrationWarning: The integral is probably divergent, or slowly convergent.\n",
      "C:\\Users\\Dell-pc\\Anaconda3\\lib\\site-packages\\ipykernel_launcher.py:19: IntegrationWarning: The integral is probably divergent, or slowly convergent.\n",
      "C:\\Users\\Dell-pc\\Anaconda3\\lib\\site-packages\\ipykernel_launcher.py:17: IntegrationWarning: The integral is probably divergent, or slowly convergent.\n",
      "C:\\Users\\Dell-pc\\Anaconda3\\lib\\site-packages\\ipykernel_launcher.py:19: IntegrationWarning: The integral is probably divergent, or slowly convergent.\n",
      "C:\\Users\\Dell-pc\\Anaconda3\\lib\\site-packages\\ipykernel_launcher.py:17: IntegrationWarning: The integral is probably divergent, or slowly convergent.\n",
      "C:\\Users\\Dell-pc\\Anaconda3\\lib\\site-packages\\ipykernel_launcher.py:19: IntegrationWarning: The integral is probably divergent, or slowly convergent.\n",
      "C:\\Users\\Dell-pc\\Anaconda3\\lib\\site-packages\\ipykernel_launcher.py:17: IntegrationWarning: The integral is probably divergent, or slowly convergent.\n",
      "C:\\Users\\Dell-pc\\Anaconda3\\lib\\site-packages\\ipykernel_launcher.py:19: IntegrationWarning: The integral is probably divergent, or slowly convergent.\n",
      "C:\\Users\\Dell-pc\\Anaconda3\\lib\\site-packages\\ipykernel_launcher.py:17: IntegrationWarning: The integral is probably divergent, or slowly convergent.\n",
      "C:\\Users\\Dell-pc\\Anaconda3\\lib\\site-packages\\ipykernel_launcher.py:19: IntegrationWarning: The integral is probably divergent, or slowly convergent.\n",
      "C:\\Users\\Dell-pc\\Anaconda3\\lib\\site-packages\\ipykernel_launcher.py:17: IntegrationWarning: The integral is probably divergent, or slowly convergent.\n",
      "C:\\Users\\Dell-pc\\Anaconda3\\lib\\site-packages\\ipykernel_launcher.py:19: IntegrationWarning: The integral is probably divergent, or slowly convergent.\n",
      "C:\\Users\\Dell-pc\\Anaconda3\\lib\\site-packages\\ipykernel_launcher.py:17: IntegrationWarning: The integral is probably divergent, or slowly convergent.\n",
      "C:\\Users\\Dell-pc\\Anaconda3\\lib\\site-packages\\ipykernel_launcher.py:19: IntegrationWarning: The integral is probably divergent, or slowly convergent.\n"
     ]
    },
    {
     "name": "stdout",
     "output_type": "stream",
     "text": [
      "Accuracy  80  :  65.0\n"
     ]
    },
    {
     "name": "stderr",
     "output_type": "stream",
     "text": [
      "C:\\Users\\Dell-pc\\Anaconda3\\lib\\site-packages\\ipykernel_launcher.py:61: IntegrationWarning: The integral is probably divergent, or slowly convergent.\n",
      "C:\\Users\\Dell-pc\\Anaconda3\\lib\\site-packages\\ipykernel_launcher.py:63: IntegrationWarning: The integral is probably divergent, or slowly convergent.\n",
      "C:\\Users\\Dell-pc\\Anaconda3\\lib\\site-packages\\ipykernel_launcher.py:61: IntegrationWarning: The integral is probably divergent, or slowly convergent.\n",
      "C:\\Users\\Dell-pc\\Anaconda3\\lib\\site-packages\\ipykernel_launcher.py:63: IntegrationWarning: The integral is probably divergent, or slowly convergent.\n",
      "C:\\Users\\Dell-pc\\Anaconda3\\lib\\site-packages\\ipykernel_launcher.py:61: IntegrationWarning: The integral is probably divergent, or slowly convergent.\n",
      "C:\\Users\\Dell-pc\\Anaconda3\\lib\\site-packages\\ipykernel_launcher.py:63: IntegrationWarning: The integral is probably divergent, or slowly convergent.\n",
      "C:\\Users\\Dell-pc\\Anaconda3\\lib\\site-packages\\ipykernel_launcher.py:61: IntegrationWarning: The integral is probably divergent, or slowly convergent.\n",
      "C:\\Users\\Dell-pc\\Anaconda3\\lib\\site-packages\\ipykernel_launcher.py:63: IntegrationWarning: The integral is probably divergent, or slowly convergent.\n",
      "C:\\Users\\Dell-pc\\Anaconda3\\lib\\site-packages\\ipykernel_launcher.py:61: IntegrationWarning: The integral is probably divergent, or slowly convergent.\n",
      "C:\\Users\\Dell-pc\\Anaconda3\\lib\\site-packages\\ipykernel_launcher.py:63: IntegrationWarning: The integral is probably divergent, or slowly convergent.\n",
      "C:\\Users\\Dell-pc\\Anaconda3\\lib\\site-packages\\ipykernel_launcher.py:61: IntegrationWarning: The integral is probably divergent, or slowly convergent.\n",
      "C:\\Users\\Dell-pc\\Anaconda3\\lib\\site-packages\\ipykernel_launcher.py:63: IntegrationWarning: The integral is probably divergent, or slowly convergent.\n",
      "C:\\Users\\Dell-pc\\Anaconda3\\lib\\site-packages\\ipykernel_launcher.py:61: IntegrationWarning: The integral is probably divergent, or slowly convergent.\n",
      "C:\\Users\\Dell-pc\\Anaconda3\\lib\\site-packages\\ipykernel_launcher.py:63: IntegrationWarning: The integral is probably divergent, or slowly convergent.\n",
      "C:\\Users\\Dell-pc\\Anaconda3\\lib\\site-packages\\ipykernel_launcher.py:61: IntegrationWarning: The integral is probably divergent, or slowly convergent.\n",
      "C:\\Users\\Dell-pc\\Anaconda3\\lib\\site-packages\\ipykernel_launcher.py:63: IntegrationWarning: The integral is probably divergent, or slowly convergent.\n",
      "C:\\Users\\Dell-pc\\Anaconda3\\lib\\site-packages\\ipykernel_launcher.py:61: IntegrationWarning: The integral is probably divergent, or slowly convergent.\n",
      "C:\\Users\\Dell-pc\\Anaconda3\\lib\\site-packages\\ipykernel_launcher.py:63: IntegrationWarning: The integral is probably divergent, or slowly convergent.\n",
      "C:\\Users\\Dell-pc\\Anaconda3\\lib\\site-packages\\ipykernel_launcher.py:61: IntegrationWarning: The integral is probably divergent, or slowly convergent.\n",
      "C:\\Users\\Dell-pc\\Anaconda3\\lib\\site-packages\\ipykernel_launcher.py:63: IntegrationWarning: The integral is probably divergent, or slowly convergent.\n",
      "C:\\Users\\Dell-pc\\Anaconda3\\lib\\site-packages\\ipykernel_launcher.py:61: IntegrationWarning: The integral is probably divergent, or slowly convergent.\n",
      "C:\\Users\\Dell-pc\\Anaconda3\\lib\\site-packages\\ipykernel_launcher.py:63: IntegrationWarning: The integral is probably divergent, or slowly convergent.\n",
      "C:\\Users\\Dell-pc\\Anaconda3\\lib\\site-packages\\ipykernel_launcher.py:61: IntegrationWarning: The integral is probably divergent, or slowly convergent.\n",
      "C:\\Users\\Dell-pc\\Anaconda3\\lib\\site-packages\\ipykernel_launcher.py:63: IntegrationWarning: The integral is probably divergent, or slowly convergent.\n",
      "C:\\Users\\Dell-pc\\Anaconda3\\lib\\site-packages\\ipykernel_launcher.py:61: IntegrationWarning: The integral is probably divergent, or slowly convergent.\n",
      "C:\\Users\\Dell-pc\\Anaconda3\\lib\\site-packages\\ipykernel_launcher.py:63: IntegrationWarning: The integral is probably divergent, or slowly convergent.\n",
      "C:\\Users\\Dell-pc\\Anaconda3\\lib\\site-packages\\ipykernel_launcher.py:61: IntegrationWarning: The integral is probably divergent, or slowly convergent.\n",
      "C:\\Users\\Dell-pc\\Anaconda3\\lib\\site-packages\\ipykernel_launcher.py:63: IntegrationWarning: The integral is probably divergent, or slowly convergent.\n",
      "C:\\Users\\Dell-pc\\Anaconda3\\lib\\site-packages\\ipykernel_launcher.py:61: IntegrationWarning: The integral is probably divergent, or slowly convergent.\n",
      "C:\\Users\\Dell-pc\\Anaconda3\\lib\\site-packages\\ipykernel_launcher.py:63: IntegrationWarning: The integral is probably divergent, or slowly convergent.\n",
      "C:\\Users\\Dell-pc\\Anaconda3\\lib\\site-packages\\ipykernel_launcher.py:61: IntegrationWarning: The integral is probably divergent, or slowly convergent.\n",
      "C:\\Users\\Dell-pc\\Anaconda3\\lib\\site-packages\\ipykernel_launcher.py:63: IntegrationWarning: The integral is probably divergent, or slowly convergent.\n",
      "C:\\Users\\Dell-pc\\Anaconda3\\lib\\site-packages\\ipykernel_launcher.py:61: IntegrationWarning: The integral is probably divergent, or slowly convergent.\n",
      "C:\\Users\\Dell-pc\\Anaconda3\\lib\\site-packages\\ipykernel_launcher.py:63: IntegrationWarning: The integral is probably divergent, or slowly convergent.\n",
      "C:\\Users\\Dell-pc\\Anaconda3\\lib\\site-packages\\ipykernel_launcher.py:61: IntegrationWarning: The integral is probably divergent, or slowly convergent.\n",
      "C:\\Users\\Dell-pc\\Anaconda3\\lib\\site-packages\\ipykernel_launcher.py:63: IntegrationWarning: The integral is probably divergent, or slowly convergent.\n",
      "C:\\Users\\Dell-pc\\Anaconda3\\lib\\site-packages\\ipykernel_launcher.py:61: IntegrationWarning: The integral is probably divergent, or slowly convergent.\n",
      "C:\\Users\\Dell-pc\\Anaconda3\\lib\\site-packages\\ipykernel_launcher.py:63: IntegrationWarning: The integral is probably divergent, or slowly convergent.\n",
      "C:\\Users\\Dell-pc\\Anaconda3\\lib\\site-packages\\ipykernel_launcher.py:61: IntegrationWarning: The integral is probably divergent, or slowly convergent.\n",
      "C:\\Users\\Dell-pc\\Anaconda3\\lib\\site-packages\\ipykernel_launcher.py:63: IntegrationWarning: The integral is probably divergent, or slowly convergent.\n",
      "C:\\Users\\Dell-pc\\Anaconda3\\lib\\site-packages\\ipykernel_launcher.py:61: IntegrationWarning: The integral is probably divergent, or slowly convergent.\n"
     ]
    },
    {
     "name": "stdout",
     "output_type": "stream",
     "text": [
      "..............Confusion Matrix................ \n",
      "36 \t 16\n",
      "9 \t 19\n"
     ]
    },
    {
     "name": "stderr",
     "output_type": "stream",
     "text": [
      "C:\\Users\\Dell-pc\\Anaconda3\\lib\\site-packages\\ipykernel_launcher.py:63: IntegrationWarning: The integral is probably divergent, or slowly convergent.\n"
     ]
    },
    {
     "data": {
      "image/png": "[encoded data removed]",
      "text/plain": [
       "<Figure size 432x288 with 2 Axes>"
      ]
     },
     "metadata": {
      "needs_background": "light"
     },
     "output_type": "display_data"
    },
    {
     "name": "stdout",
     "output_type": "stream",
     "text": [
      "[68.75, 31.25, 55.00000000000001, 45.0, 62.5, 65.0]\n"
     ]
    }
   ],
   "source": [
    "#Accuracy\n",
    "\n",
    "acc=[]\n",
    "roc1=[]\n",
    "roc2=[]\n",
    "for j in risk_main.keys():\n",
    "    test_class=[]\n",
    "    risk_new=[]\n",
    "    prob_measure=[]\n",
    "    risk_new=[]\n",
    "    risk_new=list(risk_main[j])\n",
    "    print(risk_new)\n",
    "#     print(risk_new)\n",
    "    for i in range(len(test_set)):\n",
    "        if test_set[i][1]=='NA':\n",
    "            data1=test_set[i][0]\n",
    "            g1=quad(intergrand_disc_func1,-np.inf,np.inf,args=(data1,mean1,covariance_mat1,prior1,mean2,covariance_mat2,prior2,d))\n",
    "            g1_new=g1[0]\n",
    "            g2=quad(intergrand_disc_func2,-np.inf,np.inf,args=(data1,mean1,covariance_mat1,prior1,mean2,covariance_mat2,prior2,d))\n",
    "            g2_new=g2[0]\n",
    "            g1=g1_new\n",
    "            g2=g2_new\n",
    "            \n",
    "    \n",
    "        \n",
    "            pass\n",
    "        else:\n",
    "            g1=discriminant_func(np.matrix(test_set[i]),np.matrix(mean1),np.matrix(covariance_mat1),prior1,2)\n",
    "            g2=discriminant_func(np.matrix(test_set[i]),np.matrix(mean2),np.matrix(covariance_mat2),prior2,2)\n",
    "\n",
    "        \n",
    "        \n",
    "        risk1=risk_new[0][0]*g1+risk_new[0][1]*g2\n",
    "        risk2=risk_new[1][0]*g1+risk_new[1][1]*g2\n",
    "        prob_measure.append(risk1)\n",
    "        if risk1>risk2:\n",
    "            label=1\n",
    "        else:\n",
    "            label=0\n",
    "        test_class.append(label)\n",
    "    \n",
    "    acc1=classified_metric(test_main_set,test_class)*100    \n",
    "    print(\"Accuracy \",(i+1),\" : \",acc1)\n",
    "    f1=[]\n",
    "    g1=[]\n",
    "    f1,g1=roc_design(prob_measure,test_class)\n",
    "    roc1.append(g1)\n",
    "    roc2.append(f1)\n",
    "    #Decision Boundary\n",
    "#     print(\"Decision Boundary \",j)\n",
    "#     decision_boundary_risk(test_set,test_main_set,mean1,mean2,covariance_mat1,covariance_mat2,prior1,prior2,risk_new)\n",
    "    \n",
    "#     Confusion matrix\n",
    "    #Confusion matrix\n",
    "    tp=0\n",
    "    tn=0\n",
    "    fp=0\n",
    "    fn=0\n",
    "    for i in range(len(test_set)):\n",
    "        if test_set[i][1]=='NA':\n",
    "            data1=test_set[i][0]\n",
    "            g1=quad(intergrand_disc_func1,-np.inf,np.inf,args=(data1,mean1,covariance_mat1,prior1,mean2,covariance_mat2,prior2,d))\n",
    "            g1_new=g1[0]\n",
    "            g2=quad(intergrand_disc_func2,-np.inf,np.inf,args=(data1,mean1,covariance_mat1,prior1,mean2,covariance_mat2,prior2,d))\n",
    "            g2_new=g2[0]\n",
    "            label=dichotomizer(g1_new,g2_new)\n",
    "\n",
    "\n",
    "            pass\n",
    "        else:\n",
    "            g1=discriminant_func(np.matrix(test_set[i]),np.matrix(mean1),np.matrix(covariance_mat1),prior1,2)\n",
    "            g2=discriminant_func(np.matrix(test_set[i]),np.matrix(mean2),np.matrix(covariance_mat2),prior2,2)\n",
    "            label=dichotomizer(g1,g2)\n",
    "\n",
    "\n",
    "\n",
    "        g=label[0]\n",
    "        if g==0 and test_main_set[i]==0:\n",
    "            tp=tp+1\n",
    "            continue\n",
    "        if g==1 and test_main_set[i]==1:\n",
    "            tn=tn+1\n",
    "            continue\n",
    "        if g==0 and test_main_set[i]==1:\n",
    "            fp=fp+1\n",
    "            continue\n",
    "        if g==1 and test_main_set[i]==0:\n",
    "            fn=fn+1\n",
    "    print(\"..............Confusion Matrix................ \")\n",
    "    print(tp,\"\\t\",fp)\n",
    "    print(fn,\"\\t\",tn)\n",
    "    conf_matrix=[[],[]]\n",
    "    conf_matrix[0].append(tp)\n",
    "    conf_matrix[0].append(fp)\n",
    "    conf_matrix[1].append(fn)\n",
    "    conf_matrix[1].append(tn)\n",
    "    seaborn.heatmap(conf_matrix,annot=True,fmt=\"d\")\n",
    "    plt.show()\n",
    "    \n",
    "    \n",
    "    \n",
    "#     print(test_class)\n",
    "    acc.append(acc1)\n",
    "print(acc)     \n"
   ]
  },
  {
   "cell_type": "code",
   "execution_count": null,
   "metadata": {},
   "outputs": [],
   "source": []
  }
 ],
 "metadata": {
  "kernelspec": {
   "display_name": "Python 3",
   "language": "python",
   "name": "python3"
  },
  "language_info": {
   "codemirror_mode": {
    "name": "ipython",
    "version": 3
   },
   "file_extension": ".py",
   "mimetype": "text/x-python",
   "name": "python",
   "nbconvert_exporter": "python",
   "pygments_lexer": "ipython3",
   "version": "3.7.1"
  }
 },
 "nbformat": 4,
 "nbformat_minor": 2
}
