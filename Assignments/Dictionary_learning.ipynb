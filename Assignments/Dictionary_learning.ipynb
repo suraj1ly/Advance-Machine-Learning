{
 "cells": [
  {
   "cell_type": "code",
   "execution_count": 83,
   "metadata": {},
   "outputs": [],
   "source": [
    "# References used :\n",
    "# https://github.com/quinngroup/dr1dl-pyspark/wiki/Rank-1-Dictionary-Learning-Pseudocode\n",
    "# https://github.com/Deepayan137/K-svd/blob/master/main_vamsi_2.py\n",
    "# https://github.com/Rehan-Ahmad/Dictionary-Learning-Algorithms/blob/master/Dictionary_learning_v2.py\n",
    "# ----------------------------------------Packages Used ------------------------------------------------------#\n",
    "\n",
    "import cv2\n",
    "import os\n",
    "import copy\n",
    "import random\n",
    "import matplotlib.pyplot as plt\n",
    "import numpy as np\n",
    "from operator import mul, sub\n",
    "from functools import reduce\n",
    "import pandas as pd\n",
    "import math\n",
    "from math import floor, sqrt, log10\n",
    "from scipy.sparse.linalg import svds\n",
    "from sklearn import preprocessing\n",
    "from sklearn.preprocessing import normalize\n",
    "from sklearn.naive_bayes import GaussianNB\n",
    "import matplotlib.pyplot as plt\n",
    "from sklearn.linear_model import orthogonal_mp_gram\n",
    "from sklearn.manifold import TSNE\n",
    "import seaborn as sns\n",
    "from sklearn.linear_model import OrthogonalMatchingPursuit as omp\n",
    "import timeit\n",
    "import sys"
   ]
  },
  {
   "cell_type": "code",
   "execution_count": 84,
   "metadata": {},
   "outputs": [],
   "source": [
    "# def dict_initiate(drows,dcols):\n",
    "#     D = np.random.rand(drows,dcols)\n",
    "#     D = preprocessing.normalize(D,norm='l2',axis=0) \n",
    "#     print( 'Shape of dictionary : ' , str(D.shape) + '\\n')\n",
    "#     return D\n",
    "\n",
    "def dict_initiate(train_noisy_patches, dict_size,option):\n",
    "    if option == \"random_point\":\n",
    "        dict_init = np.random.randn(train_noisy_patches.shape[0],dict_size)\n",
    "        # dictionary intialization\n",
    "\n",
    "        # dictionary normalization\n",
    "        \n",
    "    elif option == \"random_data\":\n",
    "        indexes = np.random.random_integers(0, train_noisy_patches.shape[1]-1, dict_size)   # indexes of patches for dictionary elements\n",
    "        dict_init = np.array(train_noisy_patches[:, indexes])  \n",
    "        dict_init  = normalize(dict_init)\n",
    "        pass\n",
    "    elif option ==\"glorot\":\n",
    "        dict_init = np.random.randn(train_noisy_patches.shape[0],dict_size)\n",
    "        glorot_cons = math.sqrt(2/(dict_init.shape[0]+dict_init.shape[1]))\n",
    "        dict_init = dict_init*glorot_cons\n",
    "        pass\n",
    "\n",
    "    print( 'Shape of dictionary : ' , str(dict_init.shape) + '\\n')\n",
    "\n",
    "    return dict_init"
   ]
  },
  {
   "cell_type": "code",
   "execution_count": 85,
   "metadata": {},
   "outputs": [],
   "source": [
    "def call_for_dict_update(sparse_temp,D_temp,data,atom_id):\n",
    "    sparse_temp[atom_id,:] = 0\n",
    "    matrix_e_k = data[:, indices] - D_temp.dot(sparse_temp)\n",
    "    u, s, v = svds(np.atleast_2d(matrix_e_k), 1)\n",
    "    D_temp[:, atom_id] = u[:, 0]\n",
    "    return D_temp,sparse_temp\n",
    "\n",
    "def dict_update(D, data, matrix_sparse, atom_id):\n",
    "    indices = np.where(matrix_sparse[atom_id, :] != 0)[0]\n",
    "    D_temp = copy.deepcopy(D)\n",
    "    sparse_temp = matrix_sparse[:,indices]\n",
    "\n",
    "    if len(indices) > 1:\n",
    "        D_temp,sparse_temp = call_for_dict_update(sparse_temp,D_temp,data,atom_id)\n",
    "    return D_temp"
   ]
  },
  {
   "cell_type": "code",
   "execution_count": 86,
   "metadata": {},
   "outputs": [],
   "source": [
    "def recons_error(X,D,Z):\n",
    "    error  = X.T - (D.dot(Z.T))\n",
    "    return np.linalg.norm(error)\n",
    "    "
   ]
  },
  {
   "cell_type": "code",
   "execution_count": 102,
   "metadata": {},
   "outputs": [],
   "source": [
    "def sparse_update(D,dataset_main,sparsity):\n",
    "    \n",
    "    omp_obj = omp(n_nonzero_coefs=sparsity)\n",
    "    omp_obj  = omp_obj.fit(D, dataset_main.T)\n",
    "    matrix_sparse = copy.deepcopy(omp_obj.coef_)\n",
    "    return matrix_sparse"
   ]
  },
  {
   "cell_type": "code",
   "execution_count": 88,
   "metadata": {},
   "outputs": [],
   "source": [
    "def k_svd(dataset_main, dict_size, sparsity,option):\n",
    "\n",
    "    dict_init = dict_initiate(dataset_main.T, dict_size,option)\n",
    "    D = copy.deepcopy(dict_init)\n",
    "    matrix_sparse = np.zeros((D.T.dot(dataset_main.T)).shape)         # initializing spare matrix\n",
    "    num_iter = ksvd_iter\n",
    "    print ('\\nK-SVD, with residual way.')\n",
    "    # \n",
    "    print ('-------------------------------')\n",
    "    \n",
    "    for k in range(num_iter):\n",
    "\n",
    "        print (\"Stage \" , str(k+1) , \"/\" , str(num_iter) , \"...\")\n",
    "\n",
    "        matrix_sparse = sparse_update(D,dataset_main,sparsity)\n",
    "        count = 1\n",
    "\n",
    "        dict_elem_order = np.random.permutation(D.shape[1])\n",
    "\n",
    "        for j in dict_elem_order:\n",
    "            D_temp = dict_update(D, dataset_main.T, matrix_sparse, j)\n",
    "            if D_temp.shape[1] == 1 or D_temp.shape[1]==0:\n",
    "                continue\n",
    "            else:\n",
    "                D = copy.deepcopy(D_temp)\n",
    "                \n",
    "            count += 1\n",
    "        print(\"Reconstruction Error in  \",(k+1),\" Iteration : \",recons_error(dataset_main,D,matrix_sparse))\n",
    "        print ('\\r- Dictionary updating complete.\\n')\n",
    "\n",
    "    return D, matrix_sparse"
   ]
  },
  {
   "cell_type": "code",
   "execution_count": 89,
   "metadata": {},
   "outputs": [],
   "source": [
    "def k_svd_transfer(dataset_main, dict_size, sparsity,dict_learned,option):\n",
    "\n",
    "    dict_init = copy.deepcopy(dict_learned)\n",
    "\n",
    "    D = copy.deepcopy(dict_init)\n",
    "\n",
    "    matrix_sparse = np.zeros((D.T.dot(dataset_main.T)).shape)         # initializing spare matrix\n",
    "    num_iter = ksvd_iter\n",
    "    print ('\\nK-SVD, with residual criterion.')\n",
    "    print ('-------------------------------')\n",
    "    \n",
    "    for k in range(num_iter):\n",
    "\n",
    "        print (\"Stage \" , str(k+1) , \"/\" , str(num_iter) , \"...\")\n",
    "\n",
    "#         matrix_sparse = omp(D, dataset_main, sparsity)\n",
    "        matrix_sparse = sparse_update(D,dataset_main,sparsity)\n",
    "        \n",
    "        count = 1\n",
    "\n",
    "        dict_elem_order = np.random.permutation(D.shape[1])\n",
    "\n",
    "        for j in dict_elem_order:\n",
    "            D_temp = dict_update(D, dataset_main.T, matrix_sparse, j)\n",
    "            if D_temp.shape[1] == 1 or D_temp.shape[1]==0:\n",
    "                continue\n",
    "            else:\n",
    "                D = copy.deepcopy(D_temp)\n",
    "                \n",
    "            count += 1\n",
    "        print(\"Reconstruction Error in  \",(k+1),\" Iteration : \",recons_error(dataset_main,D,matrix_sparse))\n",
    "        print ('\\r- Dictionary updating complete.\\n')\n",
    "\n",
    "    return D, matrix_sparse"
   ]
  },
  {
   "cell_type": "code",
   "execution_count": 90,
   "metadata": {},
   "outputs": [],
   "source": [
    "def check_file_image(file_path):\n",
    "    '''Checking file to be image with extension .pgm\n",
    "    Arguments : \n",
    "    file : filename to be check for image or not\n",
    "    Return true if file is image and false if not image.\n",
    "    \n",
    "    '''\n",
    "    if cv2.imread(file_path) is None or cv2.imread(file_path).size == 0: \n",
    "        return False\n",
    "    return True"
   ]
  },
  {
   "cell_type": "code",
   "execution_count": 91,
   "metadata": {},
   "outputs": [],
   "source": [
    "def data_read_yale_1(directory_loc,size):\n",
    "    '''Create dataset for particular directory \n",
    "    Parameters :\n",
    "    directory_loc : location where all classes data are present\n",
    "    \n",
    "    '''\n",
    "    list_file  = os.listdir(directory_loc)\n",
    "    dataset = [[] for i in list_file]\n",
    "    label = [[] for i in list_file]\n",
    "    for i in range(len(list_file)):\n",
    "        print(\"Counter for directory: \",i)\n",
    "        images  = os.listdir(directory_loc + \"/\"+list_file[i])\n",
    "        for j in range(len(images)):\n",
    "#             if j%250==0:\n",
    "#                 print(\"Counter : \",j)\n",
    "            if check_file_image(str(directory_loc+\"/\"+list_file[i]+\"/\"+images[j])):\n",
    "                img = cv2.imread(str(directory_loc+\"/\"+list_file[i]+\"/\"+images[j]),0)\n",
    "                img = cv2.resize(img,(size,size))\n",
    "                img = img.ravel()\n",
    "                dataset[i].append(img)\n",
    "                label[i].append(i)\n",
    "                \n",
    "    return dataset,label"
   ]
  },
  {
   "cell_type": "code",
   "execution_count": 92,
   "metadata": {},
   "outputs": [],
   "source": [
    "def data_split(data,label,train_test_split):\n",
    "    '''Make random shuffle of data and split into train and test set\n",
    "    Parameters are as:\n",
    "    data: whole dataset to split\n",
    "    label : whole labels corresponding to each data points\n",
    "    train_test_split : ration of split i.e, for ex: 10/7, if want to split 7:3\n",
    "    '''\n",
    "    split = int(len(data)/train_test_split)\n",
    "    data_sample=[]\n",
    "    for i in range(len(data)):\n",
    "        temp=[]\n",
    "        temp.append(data[i])\n",
    "        temp.append(label[i])\n",
    "        data_sample.append(temp)\n",
    "    data_sample = random.sample(data_sample,len(data_sample))\n",
    "    data=[]\n",
    "    label=[]\n",
    "    for i in range(len(data_sample)):\n",
    "        data.append(data_sample[i][0])\n",
    "        label.append(data_sample[i][1])\n",
    "    return np.array(data[:split]),np.array(label[:split]),np.array(data[split:]),np.array(label[split:]),np.array(data),np.array(label)"
   ]
  },
  {
   "cell_type": "code",
   "execution_count": 93,
   "metadata": {},
   "outputs": [],
   "source": [
    "def model_drive(data,label):\n",
    "    '''Fuction to return the model fitted on data and label given \n",
    "    Parameters : \n",
    "    data : train data used for fitting the model \n",
    "    label : suprvised label for fitting the model \n",
    "    '''\n",
    "    gnb = GaussianNB()\n",
    "    gnb.fit(data,label)\n",
    "    return gnb\n",
    "    "
   ]
  },
  {
   "cell_type": "code",
   "execution_count": 94,
   "metadata": {},
   "outputs": [],
   "source": [
    "def predict_test_dict_model(gnb,D,test_data,train_data,sparsity):\n",
    "    \n",
    "    omp_obj = omp(n_nonzero_coefs=sparsity)\n",
    "    omp_test  = omp_obj.fit(D, test_data.T)\n",
    "    test_data = copy.deepcopy(omp_test.coef_)\n",
    "    return test_data\n",
    "        \n",
    "        "
   ]
  },
  {
   "cell_type": "code",
   "execution_count": null,
   "metadata": {},
   "outputs": [],
   "source": []
  },
  {
   "cell_type": "code",
   "execution_count": 95,
   "metadata": {},
   "outputs": [],
   "source": [
    "# def predict_test_dict_reconstruction(D,test_data):\n",
    "#     predict_label = []\n",
    "#     for i in test_data:\n",
    "#         reconstruction_error = []\n",
    "#         for j in D:\n",
    "            \n",
    "#             sparse = i.dot(j)\n",
    "#             reconstruction_error.append(sparse.dot(j.T) - i)\n",
    "#         predict_label.append(np.argmin(reconstruction_error))\n",
    "#     return predict_label"
   ]
  },
  {
   "cell_type": "markdown",
   "metadata": {},
   "source": [
    "# Dataset Visualization"
   ]
  },
  {
   "cell_type": "code",
   "execution_count": 97,
   "metadata": {},
   "outputs": [],
   "source": [
    "def tsne_plot(dataset_main,label_main,title,classes):\n",
    "    #TSNE Plot for glass dataset\n",
    "    tsne = TSNE(n_components=2, verbose=1, perplexity=40, n_iter=300)\n",
    "    tsne_results = tsne.fit_transform(dataset_main)\n",
    "\n",
    "    df_subset = pd.DataFrame()\n",
    "    df_subset['X'] = tsne_results[:,0]\n",
    "    df_subset['y']=label_main\n",
    "    df_subset['Y'] = tsne_results[:,1]\n",
    "    plt.figure(figsize=(6,4))\n",
    "    plt.title(title)\n",
    "    sns.scatterplot(\n",
    "        x=\"X\", y=\"Y\",\n",
    "        hue=\"y\",\n",
    "        palette=sns.color_palette(\"hls\", classes),\n",
    "        data=df_subset,\n",
    "        legend=\"full\",\n",
    "        alpha=1.0\n",
    "    )"
   ]
  },
  {
   "cell_type": "code",
   "execution_count": 98,
   "metadata": {},
   "outputs": [],
   "source": [
    "def accuracy(predict_label,true_label):\n",
    "    count = 0\n",
    "    for i in range(len(predict_label)):\n",
    "        if int(predict_label[i]) == int(true_label[i]):\n",
    "            count = count +1\n",
    "    return count/len(predict_label)"
   ]
  },
  {
   "cell_type": "code",
   "execution_count": 99,
   "metadata": {},
   "outputs": [
    {
     "name": "stdout",
     "output_type": "stream",
     "text": [
      "Counter for directory:  0\n",
      "Counter for directory:  1\n",
      "Counter for directory:  2\n",
      "Counter for directory:  3\n",
      "Counter for directory:  4\n"
     ]
    }
   ],
   "source": [
    "dataset,label = data_read_yale_1(\"./Dataset/Question_1\",20)\n",
    "dataset_main = []\n",
    "for i in dataset:\n",
    "    dataset_main = dataset_main + i\n",
    "label_main = []\n",
    "for i in label:\n",
    "    label_main = label_main + i\n",
    "label_main = np.array(label_main)\n",
    "dataset_main = np.array(dataset_main)\n",
    "# Dictionary : 1024 * 1000\n",
    "# Sparse matrix : 1000 * no of datapoints\n",
    "train_data,train_label,test_data,test_label,data,label = data_split(dataset_main,label_main,1.5)"
   ]
  },
  {
   "cell_type": "code",
   "execution_count": null,
   "metadata": {},
   "outputs": [],
   "source": []
  },
  {
   "cell_type": "code",
   "execution_count": 101,
   "metadata": {},
   "outputs": [
    {
     "name": "stdout",
     "output_type": "stream",
     "text": [
      "[t-SNE] Computing 121 nearest neighbors...\n",
      "[t-SNE] Indexed 1950 samples in 0.049s...\n",
      "[t-SNE] Computed neighbors for 1950 samples in 3.868s...\n",
      "[t-SNE] Computed conditional probabilities for sample 1000 / 1950\n",
      "[t-SNE] Computed conditional probabilities for sample 1950 / 1950\n",
      "[t-SNE] Mean sigma: 177.863838\n",
      "[t-SNE] KL divergence after 250 iterations with early exaggeration: 58.493469\n",
      "[t-SNE] KL divergence after 300 iterations: 1.055183\n"
     ]
    },
    {
     "data": {
      "image/png": "[encoded data removed]",
      "text/plain": [
       "<Figure size 432x288 with 1 Axes>"
      ]
     },
     "metadata": {
      "needs_background": "light"
     },
     "output_type": "display_data"
    }
   ],
   "source": [
    "tsne_plot(train_data,train_label,\"TSNE Plot for Yale Face\",5)"
   ]
  },
  {
   "cell_type": "code",
   "execution_count": 103,
   "metadata": {},
   "outputs": [],
   "source": [
    "num_dict=1000   \n",
    "ksvd_iter = 10   \n",
    "max_sparsity = 1\n",
    "D,mat_sparse = k_svd(train_data,num_dict,max_sparsity,\"random\")"
   ]
  },
  {
   "cell_type": "code",
   "execution_count": null,
   "metadata": {},
   "outputs": [],
   "source": [
    "# Training and Testing Accuracy using Model Methodology\n",
    "gnb = model_drive(mat_sparse,train_label)\n",
    "accuracy = gnb.score(mat_sparse,train_label)\n",
    "print(\"Training Accuracy : \", accuracy)\n",
    "test_data_sparse = predict_test_dict_model(gnb,D,test_data,train_data,max_sparsity)\n",
    "print(\"Testing Accuracy : \", gnb.score(test_data_sparse,test_label))"
   ]
  },
  {
   "cell_type": "markdown",
   "metadata": {},
   "source": [
    "# Visualization of Dictionary "
   ]
  },
  {
   "cell_type": "code",
   "execution_count": null,
   "metadata": {},
   "outputs": [],
   "source": [
    "for i in range(5):\n",
    "    plt.imshow(D.T[i].reshape(20,20))\n",
    "    print(\"Dictionary Visualization : \",(i+1))\n",
    "    plt.show()\n",
    "    "
   ]
  },
  {
   "cell_type": "markdown",
   "metadata": {},
   "source": [
    "# Transfer Learning "
   ]
  },
  {
   "cell_type": "code",
   "execution_count": null,
   "metadata": {},
   "outputs": [],
   "source": [
    "dataset,label = data_read_yale_1(\"./Dataset/Question_3\",20)\n",
    "dataset_main = []\n",
    "for i in dataset:\n",
    "    dataset_main = dataset_main + i\n",
    "label_main = []\n",
    "for i in label:\n",
    "    label_main = label_main + i\n",
    "label_main = np.array(label_main)\n",
    "dataset_main = np.array(dataset_main)\n",
    "# Dictionary : 1024 * 1000\n",
    "# Sparse matrix : 1000 * no of datapoints\n",
    "train_data,train_label,test_data,test_label,data,label = data_split(dataset_main,label_main,1.5)"
   ]
  },
  {
   "cell_type": "code",
   "execution_count": null,
   "metadata": {},
   "outputs": [],
   "source": [
    "num_dict=1000   \n",
    "ksvd_iter = 10   \n",
    "max_sparsity = 1\n",
    "D_transfer = copy.deepcopy(D)\n",
    "D,mat_sparse = k_svd_transfer(train_data,num_dict,max_sparsity,D_transfer,\"random\")"
   ]
  },
  {
   "cell_type": "code",
   "execution_count": null,
   "metadata": {},
   "outputs": [],
   "source": [
    "# Training and Testing Accuracy using Model Methodology\n",
    "gnb = model_drive(mat_sparse,train_label)\n",
    "accuracy = gnb.score(mat_sparse,train_label)\n",
    "print(\"Training Accuracy : \", accuracy)\n",
    "test_data_sparse = predict_test_dict_model(gnb,D,test_data,train_data,max_sparsity)\n",
    "print(\"Testing Accuracy : \", gnb.score(test_data_sparse,test_label))"
   ]
  }
 ],
 "metadata": {
  "kernelspec": {
   "display_name": "Python 3",
   "language": "python",
   "name": "python3"
  },
  "language_info": {
   "codemirror_mode": {
    "name": "ipython",
    "version": 3
   },
   "file_extension": ".py",
   "mimetype": "text/x-python",
   "name": "python",
   "nbconvert_exporter": "python",
   "pygments_lexer": "ipython3",
   "version": "3.7.1"
  }
 },
 "nbformat": 4,
 "nbformat_minor": 2
}
