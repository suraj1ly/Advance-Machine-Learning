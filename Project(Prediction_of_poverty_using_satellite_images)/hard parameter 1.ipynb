{
 "cells": [
  {
   "cell_type": "code",
   "execution_count": 1,
   "metadata": {},
   "outputs": [
    {
     "name": "stderr",
     "output_type": "stream",
     "text": [
      "Using TensorFlow backend.\n"
     ]
    }
   ],
   "source": [
    "import pandas as pd\n",
    "import numpy as np\n",
    "from sklearn.model_selection import train_test_split\n",
    "from collections import Counter\n",
    "from sklearn import preprocessing\n",
    "import keras\n",
    "import joblib\n",
    "import tensorflow as tf\n",
    "import numpy as np\n",
    "import cv2\n",
    "from keras.utils.np_utils import to_categorical\n",
    "from tensorflow.keras.utils import plot_model\n",
    "\n",
    "from sklearn.manifold import TSNE\n",
    "from datetime import datetime\n",
    "from matplotlib import pyplot as plt\n",
    "from keras import backend as K\n",
    "from keras.datasets import cifar10\n",
    "from keras.models import Model, Sequential\n",
    "from keras.layers import Input, Dense, Conv2D, Dropout, Activation, Flatten, MaxPooling2D\n",
    "\n",
    "import tensorflow as tf\n",
    "from tensorflow.keras.layers import *\n",
    "from tensorflow.keras.models import Sequential, Model\n",
    "from tensorflow.keras.optimizers import Adam, RMSprop\n",
    "import numpy as np\n"
   ]
  },
  {
   "cell_type": "code",
   "execution_count": null,
   "metadata": {},
   "outputs": [],
   "source": []
  },
  {
   "cell_type": "code",
   "execution_count": null,
   "metadata": {},
   "outputs": [],
   "source": [
    "assets = pd.read_excel(\"baksa_assents.xlsx\")\n",
    "census = pd.read_excel(\"baksa_census.xlsx\")"
   ]
  },
  {
   "cell_type": "code",
   "execution_count": null,
   "metadata": {},
   "outputs": [],
   "source": [
    "assets = assets.fillna(0)\n",
    "census = census.fillna(0)"
   ]
  },
  {
   "cell_type": "code",
   "execution_count": null,
   "metadata": {},
   "outputs": [],
   "source": [
    "assets.head(1)"
   ]
  },
  {
   "cell_type": "code",
   "execution_count": null,
   "metadata": {},
   "outputs": [],
   "source": [
    "assets = assets[assets[10]==\"Rural\"].drop_duplicates(subset=9, keep=\"last\")"
   ]
  },
  {
   "cell_type": "code",
   "execution_count": null,
   "metadata": {},
   "outputs": [],
   "source": [
    "assets_X = assets.loc[:, 9:].drop(columns={10, 85, 86})"
   ]
  },
  {
   "cell_type": "code",
   "execution_count": null,
   "metadata": {},
   "outputs": [],
   "source": [
    "assets_X.rename(columns={9:'Name'}, inplace=True)"
   ]
  },
  {
   "cell_type": "code",
   "execution_count": null,
   "metadata": {},
   "outputs": [],
   "source": []
  },
  {
   "cell_type": "code",
   "execution_count": null,
   "metadata": {},
   "outputs": [],
   "source": [
    "electricity = assets.loc[:, 85:86].values"
   ]
  },
  {
   "cell_type": "code",
   "execution_count": null,
   "metadata": {},
   "outputs": [],
   "source": []
  },
  {
   "cell_type": "code",
   "execution_count": null,
   "metadata": {},
   "outputs": [],
   "source": [
    "census.head(1)"
   ]
  },
  {
   "cell_type": "code",
   "execution_count": null,
   "metadata": {},
   "outputs": [],
   "source": [
    "census = census[census['TRU']==\"Rural\"].drop_duplicates(subset='Name', keep=\"last\")"
   ]
  },
  {
   "cell_type": "code",
   "execution_count": null,
   "metadata": {},
   "outputs": [],
   "source": [
    "census_X = census.loc[:, 'Name':].drop(columns={'TRU'})"
   ]
  },
  {
   "cell_type": "code",
   "execution_count": null,
   "metadata": {
    "scrolled": true
   },
   "outputs": [],
   "source": [
    "combined_names = pd.merge(assets_X, census_X, on=['Name'])['Name'].tolist()"
   ]
  },
  {
   "cell_type": "code",
   "execution_count": null,
   "metadata": {},
   "outputs": [],
   "source": []
  },
  {
   "cell_type": "code",
   "execution_count": null,
   "metadata": {},
   "outputs": [],
   "source": [
    "images_X = []\n",
    "for i in range(0, 652):\n",
    "    n = cv2.resize(cv2.imread('data_assam/image_'+str(i)+\".jpg\"), (100, 100))\n",
    "    images_X.append(n)\n",
    "images_X = np.array(images_X) #.reshape(len(images), -1)"
   ]
  },
  {
   "cell_type": "code",
   "execution_count": null,
   "metadata": {},
   "outputs": [],
   "source": []
  },
  {
   "cell_type": "code",
   "execution_count": null,
   "metadata": {
    "scrolled": true
   },
   "outputs": [],
   "source": [
    "X_a = []\n",
    "X_b = []\n",
    "X_image = []\n",
    "y = []\n",
    "\n",
    "for idx, i in enumerate(combined_names):\n",
    "    X_a.append(census_X[census_X['Name']==i].values[0][1:].tolist())\n",
    "    X_b.append(assets_X[assets_X['Name']==i].values[0][1:].tolist())\n",
    "    X_image.append(images_X[idx])\n",
    "    y.append(electricity[idx])\n",
    "\n",
    "X_a = preprocessing.scale(np.array(X_a))\n",
    "X_b = preprocessing.scale(np.array(X_b))\n",
    "X_image = np.array(X_image)/255\n",
    "y = np.array(y)\n",
    "y = np.argmax(preprocessing.scale(y), axis=1)\n",
    "y = to_categorical(y)"
   ]
  },
  {
   "cell_type": "code",
   "execution_count": null,
   "metadata": {
    "scrolled": true
   },
   "outputs": [],
   "source": [
    "X_a.shape, X_b.shape, X_image.shape, y.shape"
   ]
  },
  {
   "cell_type": "code",
   "execution_count": null,
   "metadata": {},
   "outputs": [],
   "source": []
  },
  {
   "cell_type": "code",
   "execution_count": null,
   "metadata": {},
   "outputs": [],
   "source": [
    "X_a_train, X_a_test, X_b_train, X_b_test, X_image_train, X_image_test, y_train, y_test = train_test_split(X_a, \n",
    "                                                                                         X_b, X_image, y, test_size=0.2)"
   ]
  },
  {
   "cell_type": "code",
   "execution_count": null,
   "metadata": {},
   "outputs": [],
   "source": [
    "X_a_train.shape, X_a_test.shape"
   ]
  },
  {
   "cell_type": "code",
   "execution_count": null,
   "metadata": {},
   "outputs": [],
   "source": []
  },
  {
   "cell_type": "code",
   "execution_count": 22,
   "metadata": {},
   "outputs": [],
   "source": [
    "image_input = Input(shape=(600, 600, 3), name='image_input')\n",
    "\n",
    "shared = Conv2D(512, (3, 3), padding='same', activation='relu')(image_input)\n",
    "shared = Conv2D(8, (3, 3), padding='same', activation='relu')(shared)\n",
    "shared = Flatten()(shared)\n",
    "\n",
    "inputA_ = Input(shape=(10,))\n",
    "inputA = Dense(4096, activation=\"relu\")(inputA_)\n",
    "inputA = Dense(2048, activation=\"relu\")(inputA)\n",
    "inputA = Dense(1024, activation=\"relu\")(inputA)\n",
    "\n",
    "ii_ = Input(shape=(10,))\n",
    "ii = Dense(4096, activation=\"relu\")(ii_)\n",
    "ii = Dense(2048, activation=\"relu\")(ii)\n",
    "ii = Dense(1024, activation=\"relu\")(ii)\n",
    "\n",
    "combined = Concatenate()([inputA, shared, ii])\n",
    "\n",
    "combined = Dense(10, activation=\"relu\")(combined)\n",
    "combined = Dense(10, activation=\"relu\")(combined)\n",
    "combined = Dense(10, activation=\"relu\")(combined)\n",
    "combined = Dense(10, activation=\"softmax\")(combined)\n",
    "\n",
    " \n",
    "model = Model(inputs=[inputA_, ii_, image_input], outputs=[combined])"
   ]
  },
  {
   "cell_type": "code",
   "execution_count": 23,
   "metadata": {
    "scrolled": false
   },
   "outputs": [
    {
     "data": {
      "image/png": "[encoded data removed]",
      "text/plain": [
       "<IPython.core.display.Image object>"
      ]
     },
     "execution_count": 23,
     "metadata": {},
     "output_type": "execute_result"
    }
   ],
   "source": [
    "plot_model(model, to_file='1.png')"
   ]
  },
  {
   "cell_type": "code",
   "execution_count": null,
   "metadata": {},
   "outputs": [],
   "source": []
  },
  {
   "cell_type": "code",
   "execution_count": null,
   "metadata": {},
   "outputs": [],
   "source": []
  },
  {
   "cell_type": "code",
   "execution_count": null,
   "metadata": {},
   "outputs": [],
   "source": []
  },
  {
   "cell_type": "code",
   "execution_count": null,
   "metadata": {},
   "outputs": [],
   "source": []
  },
  {
   "cell_type": "markdown",
   "metadata": {},
   "source": [
    "## Appendix"
   ]
  },
  {
   "cell_type": "code",
   "execution_count": null,
   "metadata": {},
   "outputs": [],
   "source": [
    "# assets.loc[:, :9].drop(columns={1,3,5,7,8}).to_pickle(\"images\")"
   ]
  },
  {
   "cell_type": "code",
   "execution_count": null,
   "metadata": {},
   "outputs": [],
   "source": []
  }
 ],
 "metadata": {
  "kernelspec": {
   "display_name": "Python3_new",
   "language": "python",
   "name": "python3_new"
  },
  "language_info": {
   "codemirror_mode": {
    "name": "ipython",
    "version": 3
   },
   "file_extension": ".py",
   "mimetype": "text/x-python",
   "name": "python",
   "nbconvert_exporter": "python",
   "pygments_lexer": "ipython3",
   "version": "3.7.4"
  }
 },
 "nbformat": 4,
 "nbformat_minor": 2
}
