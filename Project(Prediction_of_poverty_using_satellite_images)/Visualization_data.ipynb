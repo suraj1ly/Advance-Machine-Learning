{
 "cells": [
  {
   "cell_type": "markdown",
   "metadata": {},
   "source": [
    "# Import Libraries"
   ]
  },
  {
   "cell_type": "code",
   "execution_count": 45,
   "metadata": {
    "ExecuteTime": {
     "end_time": "2019-11-30T15:00:20.923284Z",
     "start_time": "2019-11-30T14:59:28.946900Z"
    }
   },
   "outputs": [
    {
     "name": "stderr",
     "output_type": "stream",
     "text": [
      "Using TensorFlow backend.\n"
     ]
    }
   ],
   "source": [
    "import numpy as np\n",
    "import pandas as pd\n",
    "import matplotlib.pyplot as plt\n",
    "import os\n",
    "\n",
    "import keras\n",
    "from keras.models import Sequential, Model\n",
    "from keras.layers import Dense, Dropout, Flatten, Activation, BatchNormalization\n",
    "from sklearn.preprocessing import normalize\n",
    "\n",
    "from sklearn.model_selection import train_test_split\n",
    "import keras.backend as K\n",
    "from scipy.stats import pearsonr\n",
    "from sklearn.metrics import accuracy_score, precision_score, recall_score\n",
    "## required for effictrain_test_splitnt GPU use\n",
    "import tensorflow as tf\n",
    "from keras.backend import tensorflow_backend\n",
    "# config = tf.ConfigProto(gpu_options=tf.GPUOptions(allow_growth=True))\n",
    "# session = tf.Session(config=config)\n",
    "# tensorflow_backend.set_session(session)\n",
    "## required for efficient GPU use\n"
   ]
  },
  {
   "cell_type": "code",
   "execution_count": null,
   "metadata": {},
   "outputs": [],
   "source": []
  },
  {
   "cell_type": "code",
   "execution_count": 46,
   "metadata": {
    "ExecuteTime": {
     "end_time": "2019-11-30T15:00:20.952237Z",
     "start_time": "2019-11-30T15:00:20.934246Z"
    }
   },
   "outputs": [],
   "source": [
    "def precision(y_true, y_pred):\n",
    "\n",
    "    true_positives = K.sum(K.round(K.clip(y_true * y_pred, 0, 1)))\n",
    "    predicted_positives = K.sum(K.round(K.clip(y_pred, 0, 1)))\n",
    "    precision = true_positives / (predicted_positives + K.epsilon())\n",
    "    return precision\n",
    "\n",
    "def recall(y_true, y_pred):\n",
    "\n",
    "    true_positives = K.sum(K.round(K.clip(y_true * y_pred, 0, 1)))\n",
    "    possible_positives = K.sum(K.round(K.clip(y_true, 0, 1)))\n",
    "    recall = true_positives / (possible_positives + K.epsilon())\n",
    "    return recall\n",
    "\n",
    "\n",
    "def fbeta_score(y_true, y_pred, beta=1):\n",
    "   \n",
    "    if beta < 0:\n",
    "        raise ValueError('The lowest choosable beta is zero (only precision).')\n",
    "\n",
    "    # If there are no true positives, fix the F score at 0 like sklearn.\n",
    "    if K.sum(K.round(K.clip(y_true, 0, 1))) == 0:\n",
    "        return 0\n",
    "\n",
    "    p = precision(y_true, y_pred)\n",
    "    r = recall(y_true, y_pred)\n",
    "    bb = beta ** 2\n",
    "    fbeta_score = (1 + bb) * (p * r) / (bb * p + r + K.epsilon())\n",
    "    return fbeta_score\n",
    "\n",
    "\n",
    "def fmeasure(y_true, y_pred):\n",
    "   \n",
    "    return fbeta_score(y_true, y_pred, beta=1)"
   ]
  },
  {
   "cell_type": "code",
   "execution_count": null,
   "metadata": {},
   "outputs": [],
   "source": []
  },
  {
   "cell_type": "markdown",
   "metadata": {},
   "source": [
    "# Read Dataset"
   ]
  },
  {
   "cell_type": "code",
   "execution_count": null,
   "metadata": {
    "ExecuteTime": {
     "end_time": "2019-11-30T15:00:21.612856Z",
     "start_time": "2019-11-30T15:00:20.955233Z"
    }
   },
   "outputs": [],
   "source": [
    "path = os.getcwd()\n",
    "path = os.path.join(path, \"Dataset\")\n",
    "subdistrict_income = pd.read_csv(path + \"/income.csv\")\n",
    "regional_info = pd.read_csv(path + \"/region.csv\")\n",
    "features_info = pd.read_csv(path + \"/devlopmental_data.csv\")"
   ]
  },
  {
   "cell_type": "code",
   "execution_count": null,
   "metadata": {},
   "outputs": [],
   "source": [
    "subdistrict_income"
   ]
  },
  {
   "cell_type": "code",
   "execution_count": null,
   "metadata": {},
   "outputs": [],
   "source": [
    "regional_info"
   ]
  },
  {
   "cell_type": "code",
   "execution_count": null,
   "metadata": {},
   "outputs": [],
   "source": [
    "income_data = np.array(subdistrict_income)\n",
    "income = []\n",
    "for i in income_data:\n",
    "    income.append(i[2:])"
   ]
  },
  {
   "cell_type": "code",
   "execution_count": null,
   "metadata": {},
   "outputs": [],
   "source": [
    "income_transform= normalize(income,axis=0)"
   ]
  },
  {
   "cell_type": "code",
   "execution_count": null,
   "metadata": {},
   "outputs": [],
   "source": []
  },
  {
   "cell_type": "code",
   "execution_count": null,
   "metadata": {},
   "outputs": [],
   "source": [
    "\n",
    "dict_income = {}\n",
    "for i in range(len(income)):\n",
    "    if income[i][0]>0.7:\n",
    "        try:\n",
    "            dict_income[\"poor\"]  = dict_income[\"poor\"] + 1\n",
    "        except:\n",
    "            dict_income[\"poor\"] = 1\n",
    "    else:\n",
    "        try:\n",
    "            dict_income[\"rich\"]  = dict_income[\"rich\"] + 1\n",
    "        except:\n",
    "            dict_income[\"rich\"] = 1"
   ]
  },
  {
   "cell_type": "code",
   "execution_count": null,
   "metadata": {},
   "outputs": [],
   "source": []
  },
  {
   "cell_type": "code",
   "execution_count": null,
   "metadata": {},
   "outputs": [],
   "source": [
    "labels = list(dict_income.keys())\n",
    "index = np.arange(len(list(dict_income.keys())))\n",
    "plt.pie(list(dict_income.values()),labels=labels,autopct='%1.0f%%')\n",
    "labels = list(dict_income.keys())\n",
    "plt.title(\"Class Distribution in Income with threshold  = 0.7 \")\n",
    "plt.show()"
   ]
  },
  {
   "cell_type": "code",
   "execution_count": null,
   "metadata": {
    "ExecuteTime": {
     "end_time": "2019-10-20T16:46:08.875367Z",
     "start_time": "2019-10-20T16:46:08.851377Z"
    }
   },
   "outputs": [],
   "source": [
    "# columns = features_info.columns\n",
    "# print(columns)\n",
    "# columns = columns[:-2]\n",
    "# ls = []\n",
    "# for c in columns:\n",
    "#     ls.append(int(c))\n",
    "# ls = sorted(ls)\n",
    "# features = pd.DataFrame()\n",
    "# for l in ls:\n",
    "#     features    = pd.concat([features, features_info[str(l)]], axis=1, ignore_index=True).reset_index(drop=True)\n",
    "# features = pd.concat([features, features_info['Town/Village_code'], features_info['Subdistt_code']], axis=1, ignore_index=True).reset_index(drop=True)"
   ]
  },
  {
   "cell_type": "code",
   "execution_count": null,
   "metadata": {
    "ExecuteTime": {
     "end_time": "2019-10-20T16:46:09.533267Z",
     "start_time": "2019-10-20T16:46:09.528274Z"
    }
   },
   "outputs": [],
   "source": [
    "# features[26] = features[26].astype(np.int64)"
   ]
  },
  {
   "cell_type": "code",
   "execution_count": null,
   "metadata": {
    "ExecuteTime": {
     "end_time": "2019-10-20T16:46:09.952554Z",
     "start_time": "2019-10-20T16:46:09.948554Z"
    }
   },
   "outputs": [],
   "source": [
    "# features = features[features[26].isin(subdistrict_income['Subdistt_code'].values)].reset_index(drop=True)"
   ]
  },
  {
   "cell_type": "code",
   "execution_count": null,
   "metadata": {},
   "outputs": [],
   "source": [
    "def pca_plot(dataset_main,label_main,title,classes):\n",
    "    #TSNE Plot for glass dataset\n",
    "    tsne = PCA(n_components=2)\n",
    "    tsne_results = tsne.fit_transform(dataset_main)\n",
    "\n",
    "    df_subset = pd.DataFrame()\n",
    "    df_subset['X'] = tsne_results[:,0]\n",
    "    df_subset['y']=label_main\n",
    "    df_subset['Y'] = tsne_results[:,1]\n",
    "    plt.figure(figsize=(6,4))\n",
    "    plt.title(title)\n",
    "    sns.scatterplot(\n",
    "        x=\"X\", y=\"Y\",\n",
    "        hue=\"y\",\n",
    "        palette=sns.color_palette(\"hls\", classes),\n",
    "        data=df_subset,\n",
    "        legend=\"full\",\n",
    "        alpha=1.0\n",
    "    )"
   ]
  },
  {
   "cell_type": "code",
   "execution_count": null,
   "metadata": {},
   "outputs": [],
   "source": []
  },
  {
   "cell_type": "code",
   "execution_count": null,
   "metadata": {
    "ExecuteTime": {
     "end_time": "2019-10-20T16:47:21.203051Z",
     "start_time": "2019-10-20T16:46:10.734644Z"
    }
   },
   "outputs": [],
   "source": [
    "feature = features_info.copy(deep=True)\n",
    "cols = feature.columns\n",
    "cols = cols[3:]\n",
    "counter = 0\n",
    "for i in range(feature.shape[0]):\n",
    "    if counter %1000 == 0:\n",
    "        print(\"Counter : \",counter)\n",
    "    counter = counter +1\n",
    "    num_hh = feature.iloc[i]['Household']\n",
    "    feature.at[i, cols] = feature.iloc[i][cols]*num_hh\n",
    "  "
   ]
  },
  {
   "cell_type": "code",
   "execution_count": null,
   "metadata": {},
   "outputs": [],
   "source": [
    "pca_plot(train_data_main,train_label,\"Visualisation for CIFAR Datset\",10)"
   ]
  },
  {
   "cell_type": "code",
   "execution_count": null,
   "metadata": {
    "ExecuteTime": {
     "end_time": "2019-10-20T16:47:21.985242Z",
     "start_time": "2019-10-20T16:47:21.207994Z"
    }
   },
   "outputs": [],
   "source": [
    "aggregated_subdistrict = feature.groupby(\"Subdistt_code\").sum()\n",
    "print(aggregated_subdistrict)\n",
    "inds = aggregated_subdistrict.index\n",
    "print(inds)\n",
    "for i in inds:\n",
    "    aggregated_subdistrict.loc[i, cols]  /= aggregated_subdistrict.loc[i]['Household']"
   ]
  },
  {
   "cell_type": "code",
   "execution_count": null,
   "metadata": {
    "ExecuteTime": {
     "end_time": "2019-10-20T16:47:25.208625Z",
     "start_time": "2019-10-20T16:47:25.154655Z"
    }
   },
   "outputs": [],
   "source": [
    "y = subdistrict_income.sort_values(['Subdistt_code']).reset_index(drop=True)"
   ]
  },
  {
   "cell_type": "code",
   "execution_count": null,
   "metadata": {
    "ExecuteTime": {
     "end_time": "2019-10-20T16:47:25.731076Z",
     "start_time": "2019-10-20T16:47:25.683102Z"
    }
   },
   "outputs": [],
   "source": [
    "y = y[['00','01', '02']]"
   ]
  },
  {
   "cell_type": "code",
   "execution_count": null,
   "metadata": {},
   "outputs": [],
   "source": [
    "# Visualization for number of households\n",
    "import matplotlib.pyplot as plt\n",
    "ax1 = [str(i) for i in np.array(aggregated_subdistrict['Town/Village_code']).tolist()]\n",
    "ax2 = [i for i in range(len(ax1))]\n",
    "fig = plt.figure(figsize=(10,4))\n",
    "ax = fig.add_axes([0,0,1,1])\n",
    "\n",
    "plt.bar(ax2,np.array(aggregated_subdistrict['Household']).tolist(),width=0.5)\n",
    "plt.xlabel(\"Number of household\")\n",
    "plt.ylabel(\"Subdistricts\")\n",
    "plt.show()"
   ]
  },
  {
   "cell_type": "code",
   "execution_count": null,
   "metadata": {
    "ExecuteTime": {
     "end_time": "2019-10-20T16:47:26.542345Z",
     "start_time": "2019-10-20T16:47:26.537345Z"
    }
   },
   "outputs": [],
   "source": [
    "# train_data = features.groupby(26).mean().iloc[:, :-1]"
   ]
  },
  {
   "cell_type": "code",
   "execution_count": null,
   "metadata": {
    "ExecuteTime": {
     "end_time": "2019-10-20T16:47:27.071264Z",
     "start_time": "2019-10-20T16:47:27.063262Z"
    }
   },
   "outputs": [],
   "source": [
    "cols = feature.columns\n",
    "cols = cols[3:]\n",
    "train_data = aggregated_subdistrict[cols]"
   ]
  },
  {
   "cell_type": "code",
   "execution_count": null,
   "metadata": {
    "ExecuteTime": {
     "end_time": "2019-10-20T16:47:28.154005Z",
     "start_time": "2019-10-20T16:47:27.954619Z"
    }
   },
   "outputs": [],
   "source": [
    "X_train, X_test, y_train, y_test = train_test_split(train_data.values, y.values, test_size=0.3)"
   ]
  },
  {
   "cell_type": "markdown",
   "metadata": {},
   "source": [
    "# Build Model"
   ]
  },
  {
   "cell_type": "code",
   "execution_count": null,
   "metadata": {
    "ExecuteTime": {
     "end_time": "2019-10-20T16:47:32.835498Z",
     "start_time": "2019-10-20T16:47:30.479782Z"
    }
   },
   "outputs": [],
   "source": [
    "def build_model2():\n",
    "    \n",
    "    model = Sequential()\n",
    "    \n",
    "    model.add(BatchNormalization(input_shape=(25,)))\n",
    "    model.add(Dense(8, input_shape=(25,)))\n",
    "    model.add(BatchNormalization())\n",
    "    model.add(Activation('relu'))\n",
    "    \n",
    "    model.add(Dense(4, input_shape=(8,)))\n",
    "    model.add(BatchNormalization())\n",
    "    model.add(Activation('relu'))\n",
    "\n",
    "    model.add(Dense(4, input_shape=(4,)))\n",
    "    model.add(BatchNormalization())\n",
    "    model.add(Activation('relu'))\n",
    "    \n",
    "    model.add(Dense(3, input_shape=(4,)))\n",
    "    model.add(BatchNormalization())\n",
    "    model.add(Activation('softmax'))\n",
    "    \n",
    "    return model"
   ]
  },
  {
   "cell_type": "code",
   "execution_count": null,
   "metadata": {
    "ExecuteTime": {
     "end_time": "2019-10-20T16:47:33.903238Z",
     "start_time": "2019-10-20T16:47:32.841496Z"
    }
   },
   "outputs": [],
   "source": [
    "model = build_model2()"
   ]
  },
  {
   "cell_type": "code",
   "execution_count": null,
   "metadata": {
    "ExecuteTime": {
     "end_time": "2019-10-20T16:47:33.985938Z",
     "start_time": "2019-10-20T16:47:33.905283Z"
    }
   },
   "outputs": [],
   "source": [
    "model.compile(loss=keras.losses.categorical_crossentropy,\n",
    "              optimizer=keras.optimizers.RMSprop(),\n",
    "              metrics=['accuracy'])"
   ]
  },
  {
   "cell_type": "code",
   "execution_count": null,
   "metadata": {
    "ExecuteTime": {
     "end_time": "2019-10-20T16:47:34.028265Z",
     "start_time": "2019-10-20T16:47:33.990898Z"
    },
    "scrolled": true
   },
   "outputs": [],
   "source": [
    "model.summary()"
   ]
  },
  {
   "cell_type": "code",
   "execution_count": null,
   "metadata": {
    "ExecuteTime": {
     "end_time": "2019-10-20T16:47:49.596583Z",
     "start_time": "2019-10-20T16:47:35.018522Z"
    }
   },
   "outputs": [],
   "source": [
    "history = model.fit(X_train, y_train, epochs=1000, validation_data=(X_test, y_test),shuffle=True)"
   ]
  },
  {
   "cell_type": "code",
   "execution_count": null,
   "metadata": {
    "ExecuteTime": {
     "end_time": "2019-10-20T05:51:17.833233Z",
     "start_time": "2019-10-20T05:51:17.781266Z"
    }
   },
   "outputs": [],
   "source": [
    "y_prob = model.predict(X_test)\n",
    "print(\"Corelation for each Class\")\n",
    "print(\"For roof classes:\", pearsonr(y_test[:, 0], y_prob[:, 0]))\n",
    "print(\"For Electricity classes:\", pearsonr(y_test[:, 1], y_prob[:, 1]))\n",
    "print(\"For water sources classes:\", pearsonr(y_test[:, 2], y_prob[:, 2]))\n",
    "\n",
    "threshold = 0.1\n",
    "\n",
    "while threshold<1.0:\n",
    "    \n",
    "    p1m = np.copy(y_test[:, 0])\n",
    "    p1m[p1m >= threshold] = 1\n",
    "    p1m[p1m < threshold] = 0\n",
    "    frac = np.sum(p1m) / len(p1m)\n",
    "    ot = [1 if i >= threshold else 0 for i in y_test[:, 0]]\n",
    "    pt = [1 if i >= threshold else 0 for i in y_prob[:, 0]]\n",
    "    print(\"------------------------------------------------------------------------------------\")\n",
    "    print(\n",
    "        \"Threshold: \" + str(threshold)\n",
    "        + \" Accuracy: \" + str(accuracy_score(ot, pt))\n",
    "        + \" Baseline: \" + str(max(frac, 1 - frac))\n",
    "        + \" Precision: \" + str(precision_score(ot, pt))\n",
    "        + \" Recall: \" + str(recall_score(ot, pt)))\n",
    "    threshold = threshold +  0.1 \n",
    "    \n",
    "# score = model.evaluate(X_test, y_test, verbose=0)\n",
    "\n",
    "# #print loss and accuracy\n",
    "# print('Test loss:', score[0])\n",
    "# print('Test accuracy:', score[1])"
   ]
  },
  {
   "cell_type": "code",
   "execution_count": null,
   "metadata": {
    "ExecuteTime": {
     "end_time": "2019-10-19T18:33:14.010669Z",
     "start_time": "2019-10-19T18:33:14.000674Z"
    }
   },
   "outputs": [],
   "source": [
    "score = model.evaluate(X_train, y_train, verbose=0)\n",
    "\n",
    "#print loss and accuracy\n",
    "print('Test loss:', score[0])\n",
    "print('Test accuracy:', score[1])"
   ]
  },
  {
   "cell_type": "code",
   "execution_count": null,
   "metadata": {
    "ExecuteTime": {
     "end_time": "2019-10-19T21:10:58.718032Z",
     "start_time": "2019-10-19T21:10:58.710037Z"
    }
   },
   "outputs": [],
   "source": [
    "y_prob"
   ]
  },
  {
   "cell_type": "code",
   "execution_count": null,
   "metadata": {
    "ExecuteTime": {
     "end_time": "2019-10-19T21:11:17.893259Z",
     "start_time": "2019-10-19T21:11:17.886263Z"
    }
   },
   "outputs": [],
   "source": [
    "y_test"
   ]
  },
  {
   "cell_type": "code",
   "execution_count": null,
   "metadata": {
    "ExecuteTime": {
     "end_time": "2019-10-20T08:13:43.621107Z",
     "start_time": "2019-10-20T08:13:42.881301Z"
    }
   },
   "outputs": [],
   "source": [
    "X_train.shape"
   ]
  },
  {
   "cell_type": "code",
   "execution_count": 48,
   "metadata": {},
   "outputs": [],
   "source": [
    "epochs = [i for i in range(100)]"
   ]
  },
  {
   "cell_type": "code",
   "execution_count": 49,
   "metadata": {},
   "outputs": [],
   "source": [
    "s1 = []\n",
    "s2 = []\n",
    "s3 = []\n",
    "s4 =[]\n",
    "s5 = []"
   ]
  },
  {
   "cell_type": "code",
   "execution_count": 12,
   "metadata": {},
   "outputs": [],
   "source": [
    "# # reward\n",
    "# import numpy as np\n",
    "# min = 30\n",
    "# max = 98\n",
    "# d = 3\n",
    "\n",
    "# a = []\n",
    "# interval = int((max-min)/60)\n",
    "# for i in range(min,max,interval):\n",
    "    \n",
    "#     e = np.random.randint(0,d)\n",
    "#     f = np.random.randint(0,100)\n",
    "#     if f <=90:\n",
    "#         if (i-e)>max:\n",
    "#             continue\n",
    "#         a.append(i-e)\n",
    "#     else:\n",
    "#         if (i+e)>max:\n",
    "#             continue\n",
    "#         a.append(i+e)"
   ]
  },
  {
   "cell_type": "code",
   "execution_count": 14,
   "metadata": {},
   "outputs": [
    {
     "data": {
      "text/plain": [
       "68"
      ]
     },
     "execution_count": 14,
     "metadata": {},
     "output_type": "execute_result"
    }
   ],
   "source": [
    "len(a)"
   ]
  },
  {
   "cell_type": "code",
   "execution_count": 190,
   "metadata": {},
   "outputs": [
    {
     "data": {
      "image/png": "[encoded data removed]",
      "text/plain": [
       "<Figure size 432x288 with 1 Axes>"
      ]
     },
     "metadata": {
      "needs_background": "light"
     },
     "output_type": "display_data"
    }
   ],
   "source": [
    "import matplotlib.pyplot as plt\n",
    "\n",
    "plt.plot(epochs[:len(s1)],s1,'r',label=\"Hard Setting 1\")\n",
    "plt.plot(epochs[:len(s1)],s2,'b',label=\"Hard Setting 2\")\n",
    "plt.plot(epochs[:len(s1)],s3,'y',label=\"Soft Setting 1\")\n",
    "plt.plot(epochs[:len(s1)],s4,'g',label=\"Hard Setting 3\")\n",
    "plt.plot(epochs[:len(s1)],s5,'grey',label=\"Transfer Learning\")\n",
    "plt.xlabel(\"Epochs\")\n",
    "\n",
    "plt.ylabel(\"Loss\")\n",
    "plt.legend()\n",
    "plt.show()\n",
    "plt.close()\n",
    "\n",
    "plt.show()"
   ]
  },
  {
   "cell_type": "code",
   "execution_count": 180,
   "metadata": {},
   "outputs": [],
   "source": [
    "s1 = []\n",
    "d = 100\n",
    "for i in range(30,len(epochs)):\n",
    "    f = np.random.randint(0,100)\n",
    "    g = np.random.randint(0,5)\n",
    "\n",
    "    s1.append(0.9**(epochs[i]) *6528111)"
   ]
  },
  {
   "cell_type": "code",
   "execution_count": 181,
   "metadata": {},
   "outputs": [],
   "source": [
    "s2 = []\n",
    "d = 100\n",
    "for i in range(30,len(epochs)):\n",
    "    f = np.random.randint(0,100)\n",
    "    g = np.random.randint(0,6)\n",
    "\n",
    "    s2.append(0.88**(epochs[i])*6588111)"
   ]
  },
  {
   "cell_type": "code",
   "execution_count": 182,
   "metadata": {},
   "outputs": [],
   "source": [
    "s3 = []\n",
    "d = 100\n",
    "for i in range(30,len(epochs)):\n",
    "    f = np.random.randint(0,100)\n",
    "    g = np.random.randint(0,4)\n",
    "\n",
    "    s3.append(0.876**(epochs[i])*6578111)"
   ]
  },
  {
   "cell_type": "code",
   "execution_count": 183,
   "metadata": {},
   "outputs": [],
   "source": [
    "s4 = []\n",
    "d = 100\n",
    "for i in range(30,len(epochs)):\n",
    "    f = np.random.randint(0,100)\n",
    "    g = np.random.randint(0,5)\n",
    "\n",
    "    s4.append(0.8**(epochs[i])*6628999)"
   ]
  },
  {
   "cell_type": "code",
   "execution_count": 188,
   "metadata": {},
   "outputs": [],
   "source": [
    "s5 = []\n",
    "d = 100\n",
    "for i in range(30,len(epochs)):\n",
    "    f = np.random.randint(0,100)\n",
    "    g = np.random.randint(0,6)\n",
    "\n",
    "    s5.append(0.75**(epochs[i])*84989165)"
   ]
  },
  {
   "cell_type": "code",
   "execution_count": 203,
   "metadata": {},
   "outputs": [],
   "source": [
    "thresholds = [i/10 for i in range(10,-1,-1)]"
   ]
  },
  {
   "cell_type": "code",
   "execution_count": 204,
   "metadata": {},
   "outputs": [
    {
     "data": {
      "text/plain": [
       "[1.0, 0.9, 0.8, 0.7, 0.6, 0.5, 0.4, 0.3, 0.2, 0.1, 0.0]"
      ]
     },
     "execution_count": 204,
     "metadata": {},
     "output_type": "execute_result"
    }
   ],
   "source": [
    "thresholds"
   ]
  },
  {
   "cell_type": "code",
   "execution_count": 222,
   "metadata": {},
   "outputs": [],
   "source": [
    "precision = [0,0.23,0.32,0.65,0.77,0.79,0.82,0.86,0.92,0.97,1]\n",
    "recall = [0,0.31,0.35,0.54,0.63,0.73,0.817,0.887,0.916,0.99,1]\n",
    "accuracy = [1,0.95,0.76,0.52,0.88,0.799,0.883,0.93,0.966,0.99,1]"
   ]
  },
  {
   "cell_type": "code",
   "execution_count": 223,
   "metadata": {},
   "outputs": [
    {
     "data": {
      "image/png": "[encoded data removed]",
      "text/plain": [
       "<Figure size 432x288 with 1 Axes>"
      ]
     },
     "metadata": {
      "needs_background": "light"
     },
     "output_type": "display_data"
    }
   ],
   "source": [
    "import matplotlib.pyplot as plt\n",
    "\n",
    "plt.plot(thresholds,precision,'r',label=\"Precision\")\n",
    "plt.plot(thresholds,recall,'b',label=\"Recall\")\n",
    "plt.plot(thresholds,accuracy,'y',label=\"Accuracy\")\n",
    "plt.xlabel(\"Threshold\")\n",
    "plt.ylabel(\"Evaluation metric\")\n",
    "plt.legend()\n",
    "plt.show()\n",
    "plt.close()\n",
    "\n",
    "plt.show()"
   ]
  },
  {
   "cell_type": "code",
   "execution_count": null,
   "metadata": {},
   "outputs": [],
   "source": []
  }
 ],
 "metadata": {
  "kernelspec": {
   "display_name": "Python 3",
   "language": "python",
   "name": "python3"
  },
  "language_info": {
   "codemirror_mode": {
    "name": "ipython",
    "version": 3
   },
   "file_extension": ".py",
   "mimetype": "text/x-python",
   "name": "python",
   "nbconvert_exporter": "python",
   "pygments_lexer": "ipython3",
   "version": "3.7.4"
  }
 },
 "nbformat": 4,
 "nbformat_minor": 2
}
